{
 "cells": [
  {
   "cell_type": "code",
   "execution_count": 0,
   "metadata": {
    "application/vnd.databricks.v1+cell": {
     "cellMetadata": {
      "byteLimit": 2048000,
      "rowLimit": 10000
     },
     "inputWidgets": {},
     "nuid": "0f270680-32d5-4efb-aa9a-d37f960bfb99",
     "showTitle": false,
     "title": ""
    }
   },
   "outputs": [
    {
     "output_type": "display_data",
     "data": {
      "text/html": [
       "<style scoped>\n  .ansiout {\n    display: block;\n    unicode-bidi: embed;\n    white-space: pre-wrap;\n    word-wrap: break-word;\n    word-break: break-all;\n    font-family: \"Source Code Pro\", \"Menlo\", monospace;;\n    font-size: 13px;\n    color: #555;\n    margin-left: 4px;\n    line-height: 19px;\n  }\n</style>\n<div class=\"ansiout\"></div>"
      ]
     },
     "metadata": {
      "application/vnd.databricks.v1+output": {
       "addedWidgets": {},
       "arguments": {},
       "data": "<div class=\"ansiout\"></div>",
       "datasetInfos": [],
       "metadata": {},
       "removedWidgets": [],
       "type": "html"
      }
     },
     "output_type": "display_data"
    }
   ],
   "source": [
    "# list of files in specific Folder\n",
    "ls_ = dbutils.fs.ls(\"/mnt/adl-core-sagemaker-studio\")"
   ]
  },
  {
   "cell_type": "code",
   "execution_count": 0,
   "metadata": {
    "application/vnd.databricks.v1+cell": {
     "cellMetadata": {
      "byteLimit": 2048000,
      "rowLimit": 10000
     },
     "inputWidgets": {},
     "nuid": "3ee56da0-f705-4f0d-8975-df296101dfdc",
     "showTitle": false,
     "title": ""
    }
   },
   "outputs": [
    {
     "output_type": "display_data",
     "data": {
      "text/html": [
       "<style scoped>\n  .ansiout {\n    display: block;\n    unicode-bidi: embed;\n    white-space: pre-wrap;\n    word-wrap: break-word;\n    word-break: break-all;\n    font-family: \"Source Code Pro\", \"Menlo\", monospace;;\n    font-size: 13px;\n    color: #555;\n    margin-left: 4px;\n    line-height: 19px;\n  }\n</style>\n<div class=\"ansiout\">[&#39;dbfs:/mnt/adl-core-sagemaker-studio/clickstream20230317_20230324/*&#39;, &#39;dbfs:/mnt/adl-core-sagemaker-studio/clickstream20230301_20230308/*&#39;, &#39;dbfs:/mnt/adl-core-sagemaker-studio/clickstream20230325_20230331/*&#39;, &#39;dbfs:/mnt/adl-core-sagemaker-studio/clickstream20230101_20230108/*&#39;, &#39;dbfs:/mnt/adl-core-sagemaker-studio/clickstream20230309_20230316/*&#39;, &#39;dbfs:/mnt/adl-core-sagemaker-studio/clickstream20230123_20230131/*&#39;, &#39;dbfs:/mnt/adl-core-sagemaker-studio/clickstream20230216_20230222/*&#39;, &#39;dbfs:/mnt/adl-core-sagemaker-studio/clickstream20230109_20230115/*&#39;, &#39;dbfs:/mnt/adl-core-sagemaker-studio/clickstream20230201_20230208/*&#39;]\n</div>"
      ]
     },
     "metadata": {
      "application/vnd.databricks.v1+output": {
       "addedWidgets": {},
       "arguments": {},
       "data": "<div class=\"ansiout\">[&#39;dbfs:/mnt/adl-core-sagemaker-studio/clickstream20230317_20230324/*&#39;, &#39;dbfs:/mnt/adl-core-sagemaker-studio/clickstream20230301_20230308/*&#39;, &#39;dbfs:/mnt/adl-core-sagemaker-studio/clickstream20230325_20230331/*&#39;, &#39;dbfs:/mnt/adl-core-sagemaker-studio/clickstream20230101_20230108/*&#39;, &#39;dbfs:/mnt/adl-core-sagemaker-studio/clickstream20230309_20230316/*&#39;, &#39;dbfs:/mnt/adl-core-sagemaker-studio/clickstream20230123_20230131/*&#39;, &#39;dbfs:/mnt/adl-core-sagemaker-studio/clickstream20230216_20230222/*&#39;, &#39;dbfs:/mnt/adl-core-sagemaker-studio/clickstream20230109_20230115/*&#39;, &#39;dbfs:/mnt/adl-core-sagemaker-studio/clickstream20230201_20230208/*&#39;]\n</div>",
       "datasetInfos": [],
       "metadata": {},
       "removedWidgets": [],
       "type": "html"
      }
     },
     "output_type": "display_data"
    }
   ],
   "source": [
    "import os \n",
    "\n",
    "all_data_paths = list(set([os.path.join(dir_.path,\"*\") for dir_ in ls_]))\n",
    "\n",
    "all_data_paths = [path for path in all_data_paths if 'clickstream' in path]\n",
    "\n",
    "print(all_data_paths)"
   ]
  },
  {
   "cell_type": "code",
   "execution_count": 0,
   "metadata": {
    "application/vnd.databricks.v1+cell": {
     "cellMetadata": {
      "byteLimit": 2048000,
      "rowLimit": 10000
     },
     "inputWidgets": {},
     "nuid": "f4ce514f-51cc-408f-8516-e0b30075d3fd",
     "showTitle": false,
     "title": ""
    }
   },
   "outputs": [
    {
     "output_type": "display_data",
     "data": {
      "text/html": [
       "<style scoped>\n  .ansiout {\n    display: block;\n    unicode-bidi: embed;\n    white-space: pre-wrap;\n    word-wrap: break-word;\n    word-break: break-all;\n    font-family: \"Source Code Pro\", \"Menlo\", monospace;;\n    font-size: 13px;\n    color: #555;\n    margin-left: 4px;\n    line-height: 19px;\n  }\n</style>\n<div class=\"ansiout\"></div>"
      ]
     },
     "metadata": {
      "application/vnd.databricks.v1+output": {
       "addedWidgets": {},
       "arguments": {},
       "data": "<div class=\"ansiout\"></div>",
       "datasetInfos": [],
       "metadata": {},
       "removedWidgets": [],
       "type": "html"
      }
     },
     "output_type": "display_data"
    }
   ],
   "source": [
    "from functools import reduce\n",
    "from pyspark.sql import DataFrame\n",
    "\n",
    "spark_dataframes = [spark.read.parquet(parq, header=True) for parq in all_data_paths]\n",
    "master_df = reduce(DataFrame.unionAll, spark_dataframes)"
   ]
  },
  {
   "cell_type": "code",
   "execution_count": 0,
   "metadata": {
    "application/vnd.databricks.v1+cell": {
     "cellMetadata": {
      "byteLimit": 2048000,
      "rowLimit": 10000
     },
     "inputWidgets": {},
     "nuid": "cab2cc1f-9a55-4873-9d73-52ee76201337",
     "showTitle": false,
     "title": ""
    }
   },
   "outputs": [
    {
     "output_type": "display_data",
     "data": {
      "text/html": [
       "<style scoped>\n  .table-result-container {\n    max-height: 300px;\n    overflow: auto;\n  }\n  table, th, td {\n    border: 1px solid black;\n    border-collapse: collapse;\n  }\n  th, td {\n    padding: 5px;\n  }\n  th {\n    text-align: left;\n  }\n</style><div class='table-result-container'><table class='table-result'><thead style='background-color: white'><tr><th>web_page_detail_event_key</th><th>web_page_detail_event_key_columns</th><th>client_key</th><th>implementation_key</th><th>platform_id</th><th>client_id</th><th>implementation_hierarchy_key</th><th>person_internal_id</th><th>platform_person_internal_id</th><th>source_person_internal_id</th><th>person_age</th><th>person_employment_status</th><th>person_state</th><th>person_union_vs_non_union</th><th>person_salary</th><th>admin_id</th><th>user_id_type</th><th>source_global_session_id</th><th>source_global_session_create_timestamp</th><th>global_session_id</th><th>global_session_create_timestamp_cst_timezone</th><th>web_session_id</th><th>session_create_timestamp_cst_timezone</th><th>web_user_type_id</th><th>web_user_type_description</th><th>web_user_system_id</th><th>page_name</th><th>page_visit_date_cst_timezone</th><th>page_visit_timestamp_cst_timezone</th><th>portlet_name</th><th>business_page_name</th><th>page_domain</th><th>page_type_code</th><th>page_type</th><th>page_web_type_description</th><th>page_sequence_number</th><th>request_method_description</th><th>global_session_end_page_name</th><th>global_session_end_portlet_name</th><th>global_session_end_page_process_name</th><th>global_session_end_business_page_name</th><th>global_session_end_page_domain</th><th>global_session_end_page_type_code</th><th>global_session_end_page_type</th><th>global_session_end_page_web_type_description</th><th>link_id</th><th>link_destination_url</th><th>link_id_display</th><th>link_external_info</th><th>link_flow</th><th>link_type_code</th><th>link_type_description</th><th>business_link_id</th><th>web_conversation_id</th><th>web_channel_application_code</th><th>web_channel_application_description</th><th>web_channel_application_version</th><th>initial_web_channel_application_code</th><th>initial_web_channel_application_description</th><th>initial_web_channel_application_version</th><th>host_name_description</th><th>web_authentication_level_id</th><th>web_authentication_level_description</th><th>web_security_method_description</th><th>web_logon_type_description</th><th>web_device_type</th><th>browser_language</th><th>page_visit_duration</th><th>web_session_page_indicator</th><th>outbound_page_link_indicator</th><th>hint_page_indicator</th><th>error_page_indicator</th><th>logon_page_indicator</th><th>logoff_page_indicator</th><th>last_visited_page_indicator</th><th>password_reset_page_indicator</th><th>hm_enrollment_abandoned_indicator</th><th>hm_enrollment_initiated_indicator</th><th>hm_enrollment_completed_indicator</th><th>web_page_abandoned_indicator</th><th>web_chat_request_indicator</th><th>page_slide_indicator</th><th>web_page_payload_size</th><th>page_process_name</th><th>page_process_detail</th><th>iva_used_indicator</th><th>event_position</th><th>action_type</th><th>load_timestamp</th><th>source_system_code</th><th>mobile_app_device_type</th><th>page_load_elapsed_time</th><th>mobile_app_type</th></tr></thead><tbody><tr><td>LVYwaUxWWlczaVo5RTRSTnhxZHhnLWJfNzU0NCMyMDIzLTAzLTE4IDE5OjMxOjE3LjIyMyMyMDIzLTAzLTE4IDE5OjMxOjE3LjI0Nw==</td><td>d2ViX3Nlc3Npb25faWQjc2Vzc2lvbl9jcmVhdGVfdGltZXN0YW1wX2NzdF90aW1lem9uZSNwYWdlX3Zpc2l0X3RpbWVzdGFtcF9jc3RfdGltZXpvbmU=</td><td>MTc1NDQ=</td><td>NzU0NDc1NDQzanhnZW16bjVxaHp2d3pnMWF2YzQyY2xma2R0MDV2Y3lsY25rMWMzNjI3Y2xwMzI2dw==</td><td>7544</td><td>7544</td><td>75447544</td><td>null</td><td>null</td><td>null</td><td>null</td><td>VW5rbm93bg==</td><td>VW5rbm93bg==</td><td>VW5rbm93bg==</td><td>VW5rbm93bg==</td><td>Ti9B</td><td>UEVSU09OX0lE</td><td>null</td><td>2023-03-18T19:31:17.223+0000</td><td>LVYwaUxWWlczaVo5RTRSTnhxZHhnLWJfMjAyMy0wMy0xOCAxOTozMToxNy4yMjMwMDBfNzU0NA==</td><td>2023-03-18T19:31:17.223+0000</td><td>LVYwaUxWWlczaVo5RTRSTnhxZHhnLWJfNzU0NA==</td><td>2023-03-18T19:31:17.223+0000</td><td>UFBU</td><td>UGFydGljaXBhbnQ=</td><td>TW96aWxsYS81LjAgKE1hY2ludG9zaDsgSW50ZWwgTWFjIE9TIFggMTAuMTU7IHJ2OjEwOS4wKSBHZWNrby8yMDEwMDEwMSBGaXJlZm94LzExMC4w</td><td>L0NzRXJyMjAwRGZsdENydGNPcGVu</td><td>MjAyMy0wMy0xOA==</td><td>2023-03-18T19:31:17.247+0000</td><td>null</td><td>Q1NFUlIyMDBERkxUQ1JUQ09QRU4=</td><td>Q00=</td><td>RVI=</td><td>RXJyb3I=</td><td>UGFnZQ==</td><td>0</td><td>R0VU</td><td>L0NzRXJyMjAwRGZsdENydGNPcGVu</td><td>null</td><td>RXJyb3IgUGFnZQ==</td><td>Q1NFUlIyMDBERkxUQ1JUQ09QRU4=</td><td>Q00=</td><td>RVI=</td><td>RXJyb3I=</td><td>UGFnZQ==</td><td>null</td><td>null</td><td>null</td><td>null</td><td>null</td><td>QmFzaWMgTmF2aWdhdGlvbg==</td><td>QmFzaWMgTmF2aWdhdGlvbg==</td><td>QmFzaWMgTmF2aWdhdGlvbg==</td><td>cHJpbWFyeQ==</td><td>WUJS</td><td>WUJS</td><td>NS4xNi44OQ==</td><td>WUJS</td><td>WUJS</td><td>NS4xNi44OQ==</td><td>bDRzZXBhMDguaGV3aXR0LmNvbQ==</td><td>1</td><td>VW5pZGVudGlmaWVk</td><td>VW5rbm93bg==</td><td>Tk9MT0dO</td><td>T3RoZXI=</td><td>RW5nbGlzaA==</td><td>0</td><td>1</td><td>0</td><td>0</td><td>1</td><td>0</td><td>0</td><td>1</td><td>0</td><td>0</td><td>0</td><td>0</td><td>0</td><td>0</td><td>0</td><td>14208</td><td>RXJyb3IgUGFnZQ==</td><td>null</td><td>0</td><td>null</td><td>SW50ZXJuYWwgTGluayBDbGljaw==</td><td>2023-03-24T04:10:23.000+0000</td><td>MnA=</td><td>null</td><td>0</td><td>VW51c2Vk</td></tr><tr><td>Q0RDRTA1Q0FEMTNBRjIxQjY0QTREM0RFRjRGMzhFNjIuODE4OTVfTFJfUFVfQ0wwMzAwX00xXzEyODMjMjAyMy0wMy0xOCAxMzowODoxNS4xNzQjMjAyMy0wMy0xOCAxMzowODoxNi4yNzc=</td><td>d2ViX3Nlc3Npb25faWQjc2Vzc2lvbl9jcmVhdGVfdGltZXN0YW1wX2NzdF90aW1lem9uZSNwYWdlX3Zpc2l0X3RpbWVzdGFtcF9jc3RfdGltZXpvbmU=</td><td>MTEyODM=</td><td>MTI4MzEyODMzanhnZW16bjVxaHp2d3pnMWF2YzQyY2xma2R0MDV2Y3lsY25rMWMzNjI3Y2xwMzI2dw==</td><td>1283</td><td>1283</td><td>12831283</td><td>null</td><td>null</td><td></td><td>null</td><td>VW5rbm93bg==</td><td>VW5rbm93bg==</td><td>VW5rbm93bg==</td><td>VW5rbm93bg==</td><td>Ti9B</td><td>UEVSU09OX0lE</td><td>MDAxYzdiMzUtY2FhZi00YzM5LWEzZjctZWRkMDdkN2Q3YmU4XzIwMjMtMDMtMTgtMTMuMDguMTUuMTgzMDAw</td><td>2023-03-18T13:08:15.183+0000</td><td>MDAxYzdiMzUtY2FhZi00YzM5LWEzZjctZWRkMDdkN2Q3YmU4XzIwMjMtMDMtMTggMTM6MDg6MTUuMTgzMDAwXzEyODM=</td><td>2023-03-18T13:08:15.183+0000</td><td>Q0RDRTA1Q0FEMTNBRjIxQjY0QTREM0RFRjRGMzhFNjIuODE4OTVfTFJfUFVfQ0wwMzAwX00xXzEyODM=</td><td>2023-03-18T13:08:15.174+0000</td><td>UFBU</td><td>UGFydGljaXBhbnQ=</td><td>TW96aWxsYS81LjAgKE1hY2ludG9zaDsgSW50ZWwgTWFjIE9TIFggMTBfMTVfNykgQXBwbGVXZWJLaXQvNjA1LjEuMTUgKEtIVE1MLCBsaWtlIEdlY2tvKQ==</td><td>TG9naW4=</td><td>MjAyMy0wMy0xOA==</td><td>2023-03-18T13:08:16.277+0000</td><td>null</td><td>TG9naW4=</td><td>Q00=</td><td>null</td><td>null</td><td>UG9ydGFsIFBhZ2U=</td><td>1</td><td>R0VU</td><td>TG9naW4=</td><td>null</td><td>QXV0aGVudGljYXRpb24=</td><td>TG9naW4=</td><td>Q00=</td><td>null</td><td>null</td><td>UG9ydGFsIFBhZ2U=</td><td>null</td><td>null</td><td>null</td><td>null</td><td>null</td><td>QmFzaWMgTmF2aWdhdGlvbg==</td><td>QmFzaWMgTmF2aWdhdGlvbg==</td><td>QmFzaWMgTmF2aWdhdGlvbg==</td><td>null</td><td>UFBUUFJUTA==</td><td>VVBvaW50</td><td>MjMuMy4xXzEuMA==</td><td>UFBUUFJUTA==</td><td>VVBvaW50</td><td>MjMuMy4xXzEuMA==</td><td>bDk4cmVwYXAxODk1Lmhld2l0dC5jb20=</td><td>1</td><td>VW5pZGVudGlmaWVk</td><td>VW5rbm93bg==</td><td>Tk9MT0dO</td><td>RGVza3RvcA==</td><td>RW5nbGlzaA==</td><td>0</td><td>1</td><td>0</td><td>0</td><td>0</td><td>0</td><td>0</td><td>1</td><td>0</td><td>0</td><td>0</td><td>0</td><td>1</td><td>0</td><td>0</td><td>0</td><td>QXV0aGVudGljYXRpb24=</td><td>TG9naW4=</td><td>0</td><td>null</td><td>SW50ZXJuYWwgTGluayBDbGljaw==</td><td>2023-03-24T04:10:23.000+0000</td><td>Mm8=</td><td>null</td><td>1094</td><td>VW51c2Vk</td></tr><tr><td>QjIzRkM2MzU3RTA3NzQ4NEU2RUUzQTczNzUyM0ExNkMuQzAwNjhfTFJfUFVfQ0wwNDYwX00xXzc1NDQjMjAyMy0wMy0xOCAwOTo0MzoyOS44MzIjMjAyMy0wMy0xOCAwOTo0MzozMS44MDU=</td><td>d2ViX3Nlc3Npb25faWQjc2Vzc2lvbl9jcmVhdGVfdGltZXN0YW1wX2NzdF90aW1lem9uZSNwYWdlX3Zpc2l0X3RpbWVzdGFtcF9jc3RfdGltZXpvbmU=</td><td>MTc1NDQ=</td><td>NzU0NDc1NDQzanhnZW16bjVxaHp2d3pnMWF2YzQyY2xma2R0MDV2Y3lsY25rMWMzNjI3Y2xwMzI2dw==</td><td>7544</td><td>7544</td><td>75447544</td><td>null</td><td>null</td><td></td><td>null</td><td>VW5rbm93bg==</td><td>VW5rbm93bg==</td><td>VW5rbm93bg==</td><td>VW5rbm93bg==</td><td>Ti9B</td><td>UEVSU09OX0lE</td><td>MDAyNTBhMTMtYzY4Ny00OTliLWE0YjktYzM2NzQ3Y2JhZjRjXzIwMjMtMDMtMTgtMDkuNDMuMjkuODQ0MDAw</td><td>2023-03-18T09:43:29.844+0000</td><td>MDAyNTBhMTMtYzY4Ny00OTliLWE0YjktYzM2NzQ3Y2JhZjRjXzIwMjMtMDMtMTggMDk6NDM6MjkuODQ0MDAwXzc1NDQ=</td><td>2023-03-18T09:43:29.844+0000</td><td>QjIzRkM2MzU3RTA3NzQ4NEU2RUUzQTczNzUyM0ExNkMuQzAwNjhfTFJfUFVfQ0wwNDYwX00xXzc1NDQ=</td><td>2023-03-18T09:43:29.832+0000</td><td>UFBU</td><td>UGFydGljaXBhbnQ=</td><td>TW96aWxsYS81LjAgKFdpbmRvd3MgTlQgMTAuMDsgV2luNjQ7IHg2NCkgQXBwbGVXZWJLaXQvNTM3LjM2IChLSFRNTCwgbGlrZSBHZWNrbykgQ2hyb21lLzExMS4wLjAuMCBTYWZhcmkvNTM3LjM2IEVkZy8xMTEuMC4xNjYxLjQ= (truncated)</td><td>U2F2aW5ncyBhbmQgUmV0aXJlbWVudA==</td><td>MjAyMy0wMy0xOA==</td><td>2023-03-18T09:43:31.805+0000</td><td>null</td><td>U2F2aW5ncyBhbmQgUmV0aXJlbWVudA==</td><td>REM=</td><td>null</td><td>null</td><td>UG9ydGFsIFBhZ2U=</td><td>1</td><td>R0VU</td><td>U2F2aW5ncyBhbmQgUmV0aXJlbWVudA==</td><td>null</td><td>U2F2aW5ncyAmIFJldGlyZW1lbnQ=</td><td>U2F2aW5ncyBhbmQgUmV0aXJlbWVudA==</td><td>REM=</td><td>null</td><td>null</td><td>UG9ydGFsIFBhZ2U=</td><td>null</td><td>null</td><td>null</td><td>null</td><td>null</td><td>QmFzaWMgTmF2aWdhdGlvbg==</td><td>QmFzaWMgTmF2aWdhdGlvbg==</td><td>QmFzaWMgTmF2aWdhdGlvbg==</td><td>null</td><td>UFBUUFJUTA==</td><td>VVBvaW50</td><td>MjMuMy4xXzEuMA==</td><td>UFBUUFJUTA==</td><td>VVBvaW50</td><td>MjMuMy4xXzEuMA==</td><td>Y3B2ZXBhcHAwMDY4LmJvbHQuYWxpZ2h0LmNvbQ==</td><td>1</td><td>VW5pZGVudGlmaWVk</td><td>VW5rbm93bg==</td><td>Tk9MT0dO</td><td>RGVza3RvcA==</td><td>RW5nbGlzaA==</td><td>0</td><td>1</td><td>0</td><td>0</td><td>0</td><td>0</td><td>0</td><td>1</td><td>0</td><td>0</td><td>0</td><td>0</td><td>1</td><td>0</td><td>0</td><td>0</td><td>U2F2aW5ncyAmIFJldGlyZW1lbnQ=</td><td>U2F2aW5ncyAmIFJldGlyZW1lbnQgTGFuZGluZyA=</td><td>0</td><td>null</td><td>SW50ZXJuYWwgTGluayBDbGljaw==</td><td>2023-03-24T04:10:23.000+0000</td><td>Mm8=</td><td>null</td><td>1960</td><td>VW51c2Vk</td></tr><tr><td>MjAyRjc2Rjc3MjdEQUVDOUUyMThFMjVGRTMwRTQxODUuQzAwODZfTFJfUFVfQ0wwMDIwX00xXzc2NDEjMjAyMy0wMy0xOCAxMTo1NDowOS4zNzMjMjAyMy0wMy0xOCAxMTo1NDoxMC45NzI=</td><td>d2ViX3Nlc3Npb25faWQjc2Vzc2lvbl9jcmVhdGVfdGltZXN0YW1wX2NzdF90aW1lem9uZSNwYWdlX3Zpc2l0X3RpbWVzdGFtcF9jc3RfdGltZXpvbmU=</td><td>MTc2NDE=</td><td>NzY0MTc2NDEzanhnZW16bjVxaHp2d3pnMWF2YzQyY2xma2R0MDV2Y3lsY25rMWMzNjI3Y2xwMzI2dw==</td><td>7641</td><td>7641</td><td>76417641</td><td>null</td><td>null</td><td></td><td>null</td><td>VW5rbm93bg==</td><td>VW5rbm93bg==</td><td>VW5rbm93bg==</td><td>VW5rbm93bg==</td><td>Ti9B</td><td>UEVSU09OX0lE</td><td>MDAyYzg5ZjQtOTc0YS00YWIyLWEzYjktMDg0NWQ3ODYyYWI3XzIwMjMtMDMtMTgtMTEuNTQuMTAuNzcyMDAw</td><td>2023-03-18T11:54:10.772+0000</td><td>MDAyYzg5ZjQtOTc0YS00YWIyLWEzYjktMDg0NWQ3ODYyYWI3XzIwMjMtMDMtMTggMTE6NTQ6MTAuNzcyMDAwXzc2NDE=</td><td>2023-03-18T11:54:10.772+0000</td><td>MjAyRjc2Rjc3MjdEQUVDOUUyMThFMjVGRTMwRTQxODUuQzAwODZfTFJfUFVfQ0wwMDIwX00xXzc2NDE=</td><td>2023-03-18T11:54:09.373+0000</td><td>UFBU</td><td>UGFydGljaXBhbnQ=</td><td>Y3VybA==</td><td>TG9naW4=</td><td>MjAyMy0wMy0xOA==</td><td>2023-03-18T11:54:10.972+0000</td><td>null</td><td>TG9naW4=</td><td>Q00=</td><td>null</td><td>null</td><td>UG9ydGFsIFBhZ2U=</td><td>1</td><td>R0VU</td><td>TG9naW4=</td><td>null</td><td>QXV0aGVudGljYXRpb24=</td><td>TG9naW4=</td><td>Q00=</td><td>null</td><td>null</td><td>UG9ydGFsIFBhZ2U=</td><td>null</td><td>null</td><td>null</td><td>null</td><td>null</td><td>QmFzaWMgTmF2aWdhdGlvbg==</td><td>QmFzaWMgTmF2aWdhdGlvbg==</td><td>QmFzaWMgTmF2aWdhdGlvbg==</td><td>null</td><td>UFBUUFJUTA==</td><td>VVBvaW50</td><td>MjMuMy4xXzEuMA==</td><td>UFBUUFJUTA==</td><td>VVBvaW50</td><td>MjMuMy4xXzEuMA==</td><td>Y3B2ZXBhcHAwMDg2LmJvbHQuYWxpZ2h0LmNvbQ==</td><td>1</td><td>VW5pZGVudGlmaWVk</td><td>VW5rbm93bg==</td><td>Tk9MT0dO</td><td>RGVza3RvcA==</td><td>RW5nbGlzaA==</td><td>0</td><td>1</td><td>0</td><td>0</td><td>0</td><td>0</td><td>0</td><td>1</td><td>0</td><td>0</td><td>0</td><td>0</td><td>1</td><td>0</td><td>0</td><td>0</td><td>QXV0aGVudGljYXRpb24=</td><td>TG9naW4=</td><td>0</td><td>null</td><td>SW50ZXJuYWwgTGluayBDbGljaw==</td><td>2023-03-24T04:10:23.000+0000</td><td>Mm8=</td><td>null</td><td>200</td><td>VW51c2Vk</td></tr><tr><td>Q0E1RDQyNjc0MDdENEVENjU4MTZCMkM5RDIyRUEyMTAuQzAwODNfTFJfUFVfQ0wwMjUwX00xXzE0ODcjMjAyMy0wMy0xOCAwMToyMjoyNS42MiMyMDIzLTAzLTE4IDAxOjIyOjI2Ljg2</td><td>d2ViX3Nlc3Npb25faWQjc2Vzc2lvbl9jcmVhdGVfdGltZXN0YW1wX2NzdF90aW1lem9uZSNwYWdlX3Zpc2l0X3RpbWVzdGFtcF9jc3RfdGltZXpvbmU=</td><td>MTE0ODc=</td><td>MTQ4NzE0ODczanhnZW16bjVxaHp2d3pnMWF2YzQyY2xma2R0MDV2Y3lsY25rMWMzNjI3Y2xwMzI2dw==</td><td>1487</td><td>1487</td><td>14871487</td><td>null</td><td>null</td><td></td><td>null</td><td>VW5rbm93bg==</td><td>VW5rbm93bg==</td><td>VW5rbm93bg==</td><td>VW5rbm93bg==</td><td>Ti9B</td><td>UEVSU09OX0lE</td><td>MDA0Y2IzYzctNWFlYS00ZmEyLWIwOWMtYjJjYjMyMmU5YzIxXzIwMjMtMDMtMTgtMDEuMjIuMjUuNjI5MDAw</td><td>2023-03-18T01:22:25.629+0000</td><td>MDA0Y2IzYzctNWFlYS00ZmEyLWIwOWMtYjJjYjMyMmU5YzIxXzIwMjMtMDMtMTggMDE6MjI6MjUuNjI5MDAwXzE0ODc=</td><td>2023-03-18T01:22:25.629+0000</td><td>Q0E1RDQyNjc0MDdENEVENjU4MTZCMkM5RDIyRUEyMTAuQzAwODNfTFJfUFVfQ0wwMjUwX00xXzE0ODc=</td><td>2023-03-18T01:22:25.620+0000</td><td>UFBU</td><td>UGFydGljaXBhbnQ=</td><td>TW96aWxsYS81LjAgKFdpbmRvd3MgTlQgMTAuMDsgV2luNjQ7IHg2NCkgQXBwbGVXZWJLaXQvNTM3LjM2IChLSFRNTCwgbGlrZSBHZWNrbykgQ2hyb21lLzExMC4wLjAuMCBTYWZhcmkvNTM3LjM2IEVkZy8xMTAuMC4xNTg3LjU= (truncated)</td><td>QkFDIFdvcmtkYXkgT3V0YWdl</td><td>MjAyMy0wMy0xOA==</td><td>2023-03-18T01:22:26.860+0000</td><td>null</td><td>QkFDIFdvcmtkYXkgT3V0YWdl</td><td>VW5tYXBwZWQ=</td><td>null</td><td>null</td><td>UG9ydGFsIFBhZ2U=</td><td>1</td><td>R0VU</td><td>QkFDIFdvcmtkYXkgT3V0YWdl</td><td>null</td><td>VW5tYXBwZWQ=</td><td>QkFDIFdvcmtkYXkgT3V0YWdl</td><td>VW5tYXBwZWQ=</td><td>null</td><td>null</td><td>UG9ydGFsIFBhZ2U=</td><td>null</td><td>null</td><td>null</td><td>null</td><td>null</td><td>QmFzaWMgTmF2aWdhdGlvbg==</td><td>QmFzaWMgTmF2aWdhdGlvbg==</td><td>QmFzaWMgTmF2aWdhdGlvbg==</td><td>null</td><td>UFBUUFJUTA==</td><td>VVBvaW50</td><td>MjMuMy4xXzEuMA==</td><td>UFBUUFJUTA==</td><td>VVBvaW50</td><td>MjMuMy4xXzEuMA==</td><td>Y3B2ZXBhcHAwMDgzLmJvbHQuYWxpZ2h0LmNvbQ==</td><td>1</td><td>VW5pZGVudGlmaWVk</td><td>VW5rbm93bg==</td><td>Tk9MT0dO</td><td>RGVza3RvcA==</td><td>RW5nbGlzaA==</td><td>0</td><td>1</td><td>0</td><td>0</td><td>0</td><td>0</td><td>0</td><td>1</td><td>0</td><td>0</td><td>0</td><td>0</td><td>1</td><td>0</td><td>0</td><td>0</td><td>VW5tYXBwZWQ=</td><td>VW5tYXBwZWQ=</td><td>0</td><td>null</td><td>SW50ZXJuYWwgTGluayBDbGljaw==</td><td>2023-03-24T04:10:23.000+0000</td><td>Mm8=</td><td>null</td><td>1230</td><td>VW51c2Vk</td></tr></tbody></table></div>"
      ]
     },
     "metadata": {
      "application/vnd.databricks.v1+output": {
       "addedWidgets": {},
       "aggData": [],
       "aggError": "",
       "aggOverflow": false,
       "aggSchema": [],
       "aggSeriesLimitReached": false,
       "aggType": "",
       "arguments": {},
       "columnCustomDisplayInfos": {},
       "data": [
        [
         "LVYwaUxWWlczaVo5RTRSTnhxZHhnLWJfNzU0NCMyMDIzLTAzLTE4IDE5OjMxOjE3LjIyMyMyMDIzLTAzLTE4IDE5OjMxOjE3LjI0Nw==",
         "d2ViX3Nlc3Npb25faWQjc2Vzc2lvbl9jcmVhdGVfdGltZXN0YW1wX2NzdF90aW1lem9uZSNwYWdlX3Zpc2l0X3RpbWVzdGFtcF9jc3RfdGltZXpvbmU=",
         "MTc1NDQ=",
         "NzU0NDc1NDQzanhnZW16bjVxaHp2d3pnMWF2YzQyY2xma2R0MDV2Y3lsY25rMWMzNjI3Y2xwMzI2dw==",
         7544,
         7544,
         75447544,
         null,
         null,
         null,
         null,
         "VW5rbm93bg==",
         "VW5rbm93bg==",
         "VW5rbm93bg==",
         "VW5rbm93bg==",
         "Ti9B",
         "UEVSU09OX0lE",
         null,
         "2023-03-18T19:31:17.223+0000",
         "LVYwaUxWWlczaVo5RTRSTnhxZHhnLWJfMjAyMy0wMy0xOCAxOTozMToxNy4yMjMwMDBfNzU0NA==",
         "2023-03-18T19:31:17.223+0000",
         "LVYwaUxWWlczaVo5RTRSTnhxZHhnLWJfNzU0NA==",
         "2023-03-18T19:31:17.223+0000",
         "UFBU",
         "UGFydGljaXBhbnQ=",
         "TW96aWxsYS81LjAgKE1hY2ludG9zaDsgSW50ZWwgTWFjIE9TIFggMTAuMTU7IHJ2OjEwOS4wKSBHZWNrby8yMDEwMDEwMSBGaXJlZm94LzExMC4w",
         "L0NzRXJyMjAwRGZsdENydGNPcGVu",
         "MjAyMy0wMy0xOA==",
         "2023-03-18T19:31:17.247+0000",
         null,
         "Q1NFUlIyMDBERkxUQ1JUQ09QRU4=",
         "Q00=",
         "RVI=",
         "RXJyb3I=",
         "UGFnZQ==",
         0,
         "R0VU",
         "L0NzRXJyMjAwRGZsdENydGNPcGVu",
         null,
         "RXJyb3IgUGFnZQ==",
         "Q1NFUlIyMDBERkxUQ1JUQ09QRU4=",
         "Q00=",
         "RVI=",
         "RXJyb3I=",
         "UGFnZQ==",
         null,
         null,
         null,
         null,
         null,
         "QmFzaWMgTmF2aWdhdGlvbg==",
         "QmFzaWMgTmF2aWdhdGlvbg==",
         "QmFzaWMgTmF2aWdhdGlvbg==",
         "cHJpbWFyeQ==",
         "WUJS",
         "WUJS",
         "NS4xNi44OQ==",
         "WUJS",
         "WUJS",
         "NS4xNi44OQ==",
         "bDRzZXBhMDguaGV3aXR0LmNvbQ==",
         1,
         "VW5pZGVudGlmaWVk",
         "VW5rbm93bg==",
         "Tk9MT0dO",
         "T3RoZXI=",
         "RW5nbGlzaA==",
         0,
         1,
         0,
         0,
         1,
         0,
         0,
         1,
         0,
         0,
         0,
         0,
         0,
         0,
         0,
         14208,
         "RXJyb3IgUGFnZQ==",
         null,
         0,
         null,
         "SW50ZXJuYWwgTGluayBDbGljaw==",
         "2023-03-24T04:10:23.000+0000",
         "MnA=",
         null,
         0,
         "VW51c2Vk"
        ],
        [
         "Q0RDRTA1Q0FEMTNBRjIxQjY0QTREM0RFRjRGMzhFNjIuODE4OTVfTFJfUFVfQ0wwMzAwX00xXzEyODMjMjAyMy0wMy0xOCAxMzowODoxNS4xNzQjMjAyMy0wMy0xOCAxMzowODoxNi4yNzc=",
         "d2ViX3Nlc3Npb25faWQjc2Vzc2lvbl9jcmVhdGVfdGltZXN0YW1wX2NzdF90aW1lem9uZSNwYWdlX3Zpc2l0X3RpbWVzdGFtcF9jc3RfdGltZXpvbmU=",
         "MTEyODM=",
         "MTI4MzEyODMzanhnZW16bjVxaHp2d3pnMWF2YzQyY2xma2R0MDV2Y3lsY25rMWMzNjI3Y2xwMzI2dw==",
         1283,
         1283,
         12831283,
         null,
         null,
         "",
         null,
         "VW5rbm93bg==",
         "VW5rbm93bg==",
         "VW5rbm93bg==",
         "VW5rbm93bg==",
         "Ti9B",
         "UEVSU09OX0lE",
         "MDAxYzdiMzUtY2FhZi00YzM5LWEzZjctZWRkMDdkN2Q3YmU4XzIwMjMtMDMtMTgtMTMuMDguMTUuMTgzMDAw",
         "2023-03-18T13:08:15.183+0000",
         "MDAxYzdiMzUtY2FhZi00YzM5LWEzZjctZWRkMDdkN2Q3YmU4XzIwMjMtMDMtMTggMTM6MDg6MTUuMTgzMDAwXzEyODM=",
         "2023-03-18T13:08:15.183+0000",
         "Q0RDRTA1Q0FEMTNBRjIxQjY0QTREM0RFRjRGMzhFNjIuODE4OTVfTFJfUFVfQ0wwMzAwX00xXzEyODM=",
         "2023-03-18T13:08:15.174+0000",
         "UFBU",
         "UGFydGljaXBhbnQ=",
         "TW96aWxsYS81LjAgKE1hY2ludG9zaDsgSW50ZWwgTWFjIE9TIFggMTBfMTVfNykgQXBwbGVXZWJLaXQvNjA1LjEuMTUgKEtIVE1MLCBsaWtlIEdlY2tvKQ==",
         "TG9naW4=",
         "MjAyMy0wMy0xOA==",
         "2023-03-18T13:08:16.277+0000",
         null,
         "TG9naW4=",
         "Q00=",
         null,
         null,
         "UG9ydGFsIFBhZ2U=",
         1,
         "R0VU",
         "TG9naW4=",
         null,
         "QXV0aGVudGljYXRpb24=",
         "TG9naW4=",
         "Q00=",
         null,
         null,
         "UG9ydGFsIFBhZ2U=",
         null,
         null,
         null,
         null,
         null,
         "QmFzaWMgTmF2aWdhdGlvbg==",
         "QmFzaWMgTmF2aWdhdGlvbg==",
         "QmFzaWMgTmF2aWdhdGlvbg==",
         null,
         "UFBUUFJUTA==",
         "VVBvaW50",
         "MjMuMy4xXzEuMA==",
         "UFBUUFJUTA==",
         "VVBvaW50",
         "MjMuMy4xXzEuMA==",
         "bDk4cmVwYXAxODk1Lmhld2l0dC5jb20=",
         1,
         "VW5pZGVudGlmaWVk",
         "VW5rbm93bg==",
         "Tk9MT0dO",
         "RGVza3RvcA==",
         "RW5nbGlzaA==",
         0,
         1,
         0,
         0,
         0,
         0,
         0,
         1,
         0,
         0,
         0,
         0,
         1,
         0,
         0,
         0,
         "QXV0aGVudGljYXRpb24=",
         "TG9naW4=",
         0,
         null,
         "SW50ZXJuYWwgTGluayBDbGljaw==",
         "2023-03-24T04:10:23.000+0000",
         "Mm8=",
         null,
         1094,
         "VW51c2Vk"
        ],
        [
         "QjIzRkM2MzU3RTA3NzQ4NEU2RUUzQTczNzUyM0ExNkMuQzAwNjhfTFJfUFVfQ0wwNDYwX00xXzc1NDQjMjAyMy0wMy0xOCAwOTo0MzoyOS44MzIjMjAyMy0wMy0xOCAwOTo0MzozMS44MDU=",
         "d2ViX3Nlc3Npb25faWQjc2Vzc2lvbl9jcmVhdGVfdGltZXN0YW1wX2NzdF90aW1lem9uZSNwYWdlX3Zpc2l0X3RpbWVzdGFtcF9jc3RfdGltZXpvbmU=",
         "MTc1NDQ=",
         "NzU0NDc1NDQzanhnZW16bjVxaHp2d3pnMWF2YzQyY2xma2R0MDV2Y3lsY25rMWMzNjI3Y2xwMzI2dw==",
         7544,
         7544,
         75447544,
         null,
         null,
         "",
         null,
         "VW5rbm93bg==",
         "VW5rbm93bg==",
         "VW5rbm93bg==",
         "VW5rbm93bg==",
         "Ti9B",
         "UEVSU09OX0lE",
         "MDAyNTBhMTMtYzY4Ny00OTliLWE0YjktYzM2NzQ3Y2JhZjRjXzIwMjMtMDMtMTgtMDkuNDMuMjkuODQ0MDAw",
         "2023-03-18T09:43:29.844+0000",
         "MDAyNTBhMTMtYzY4Ny00OTliLWE0YjktYzM2NzQ3Y2JhZjRjXzIwMjMtMDMtMTggMDk6NDM6MjkuODQ0MDAwXzc1NDQ=",
         "2023-03-18T09:43:29.844+0000",
         "QjIzRkM2MzU3RTA3NzQ4NEU2RUUzQTczNzUyM0ExNkMuQzAwNjhfTFJfUFVfQ0wwNDYwX00xXzc1NDQ=",
         "2023-03-18T09:43:29.832+0000",
         "UFBU",
         "UGFydGljaXBhbnQ=",
         "TW96aWxsYS81LjAgKFdpbmRvd3MgTlQgMTAuMDsgV2luNjQ7IHg2NCkgQXBwbGVXZWJLaXQvNTM3LjM2IChLSFRNTCwgbGlrZSBHZWNrbykgQ2hyb21lLzExMS4wLjAuMCBTYWZhcmkvNTM3LjM2IEVkZy8xMTEuMC4xNjYxLjQ= (truncated)",
         "U2F2aW5ncyBhbmQgUmV0aXJlbWVudA==",
         "MjAyMy0wMy0xOA==",
         "2023-03-18T09:43:31.805+0000",
         null,
         "U2F2aW5ncyBhbmQgUmV0aXJlbWVudA==",
         "REM=",
         null,
         null,
         "UG9ydGFsIFBhZ2U=",
         1,
         "R0VU",
         "U2F2aW5ncyBhbmQgUmV0aXJlbWVudA==",
         null,
         "U2F2aW5ncyAmIFJldGlyZW1lbnQ=",
         "U2F2aW5ncyBhbmQgUmV0aXJlbWVudA==",
         "REM=",
         null,
         null,
         "UG9ydGFsIFBhZ2U=",
         null,
         null,
         null,
         null,
         null,
         "QmFzaWMgTmF2aWdhdGlvbg==",
         "QmFzaWMgTmF2aWdhdGlvbg==",
         "QmFzaWMgTmF2aWdhdGlvbg==",
         null,
         "UFBUUFJUTA==",
         "VVBvaW50",
         "MjMuMy4xXzEuMA==",
         "UFBUUFJUTA==",
         "VVBvaW50",
         "MjMuMy4xXzEuMA==",
         "Y3B2ZXBhcHAwMDY4LmJvbHQuYWxpZ2h0LmNvbQ==",
         1,
         "VW5pZGVudGlmaWVk",
         "VW5rbm93bg==",
         "Tk9MT0dO",
         "RGVza3RvcA==",
         "RW5nbGlzaA==",
         0,
         1,
         0,
         0,
         0,
         0,
         0,
         1,
         0,
         0,
         0,
         0,
         1,
         0,
         0,
         0,
         "U2F2aW5ncyAmIFJldGlyZW1lbnQ=",
         "U2F2aW5ncyAmIFJldGlyZW1lbnQgTGFuZGluZyA=",
         0,
         null,
         "SW50ZXJuYWwgTGluayBDbGljaw==",
         "2023-03-24T04:10:23.000+0000",
         "Mm8=",
         null,
         1960,
         "VW51c2Vk"
        ],
        [
         "MjAyRjc2Rjc3MjdEQUVDOUUyMThFMjVGRTMwRTQxODUuQzAwODZfTFJfUFVfQ0wwMDIwX00xXzc2NDEjMjAyMy0wMy0xOCAxMTo1NDowOS4zNzMjMjAyMy0wMy0xOCAxMTo1NDoxMC45NzI=",
         "d2ViX3Nlc3Npb25faWQjc2Vzc2lvbl9jcmVhdGVfdGltZXN0YW1wX2NzdF90aW1lem9uZSNwYWdlX3Zpc2l0X3RpbWVzdGFtcF9jc3RfdGltZXpvbmU=",
         "MTc2NDE=",
         "NzY0MTc2NDEzanhnZW16bjVxaHp2d3pnMWF2YzQyY2xma2R0MDV2Y3lsY25rMWMzNjI3Y2xwMzI2dw==",
         7641,
         7641,
         76417641,
         null,
         null,
         "",
         null,
         "VW5rbm93bg==",
         "VW5rbm93bg==",
         "VW5rbm93bg==",
         "VW5rbm93bg==",
         "Ti9B",
         "UEVSU09OX0lE",
         "MDAyYzg5ZjQtOTc0YS00YWIyLWEzYjktMDg0NWQ3ODYyYWI3XzIwMjMtMDMtMTgtMTEuNTQuMTAuNzcyMDAw",
         "2023-03-18T11:54:10.772+0000",
         "MDAyYzg5ZjQtOTc0YS00YWIyLWEzYjktMDg0NWQ3ODYyYWI3XzIwMjMtMDMtMTggMTE6NTQ6MTAuNzcyMDAwXzc2NDE=",
         "2023-03-18T11:54:10.772+0000",
         "MjAyRjc2Rjc3MjdEQUVDOUUyMThFMjVGRTMwRTQxODUuQzAwODZfTFJfUFVfQ0wwMDIwX00xXzc2NDE=",
         "2023-03-18T11:54:09.373+0000",
         "UFBU",
         "UGFydGljaXBhbnQ=",
         "Y3VybA==",
         "TG9naW4=",
         "MjAyMy0wMy0xOA==",
         "2023-03-18T11:54:10.972+0000",
         null,
         "TG9naW4=",
         "Q00=",
         null,
         null,
         "UG9ydGFsIFBhZ2U=",
         1,
         "R0VU",
         "TG9naW4=",
         null,
         "QXV0aGVudGljYXRpb24=",
         "TG9naW4=",
         "Q00=",
         null,
         null,
         "UG9ydGFsIFBhZ2U=",
         null,
         null,
         null,
         null,
         null,
         "QmFzaWMgTmF2aWdhdGlvbg==",
         "QmFzaWMgTmF2aWdhdGlvbg==",
         "QmFzaWMgTmF2aWdhdGlvbg==",
         null,
         "UFBUUFJUTA==",
         "VVBvaW50",
         "MjMuMy4xXzEuMA==",
         "UFBUUFJUTA==",
         "VVBvaW50",
         "MjMuMy4xXzEuMA==",
         "Y3B2ZXBhcHAwMDg2LmJvbHQuYWxpZ2h0LmNvbQ==",
         1,
         "VW5pZGVudGlmaWVk",
         "VW5rbm93bg==",
         "Tk9MT0dO",
         "RGVza3RvcA==",
         "RW5nbGlzaA==",
         0,
         1,
         0,
         0,
         0,
         0,
         0,
         1,
         0,
         0,
         0,
         0,
         1,
         0,
         0,
         0,
         "QXV0aGVudGljYXRpb24=",
         "TG9naW4=",
         0,
         null,
         "SW50ZXJuYWwgTGluayBDbGljaw==",
         "2023-03-24T04:10:23.000+0000",
         "Mm8=",
         null,
         200,
         "VW51c2Vk"
        ],
        [
         "Q0E1RDQyNjc0MDdENEVENjU4MTZCMkM5RDIyRUEyMTAuQzAwODNfTFJfUFVfQ0wwMjUwX00xXzE0ODcjMjAyMy0wMy0xOCAwMToyMjoyNS42MiMyMDIzLTAzLTE4IDAxOjIyOjI2Ljg2",
         "d2ViX3Nlc3Npb25faWQjc2Vzc2lvbl9jcmVhdGVfdGltZXN0YW1wX2NzdF90aW1lem9uZSNwYWdlX3Zpc2l0X3RpbWVzdGFtcF9jc3RfdGltZXpvbmU=",
         "MTE0ODc=",
         "MTQ4NzE0ODczanhnZW16bjVxaHp2d3pnMWF2YzQyY2xma2R0MDV2Y3lsY25rMWMzNjI3Y2xwMzI2dw==",
         1487,
         1487,
         14871487,
         null,
         null,
         "",
         null,
         "VW5rbm93bg==",
         "VW5rbm93bg==",
         "VW5rbm93bg==",
         "VW5rbm93bg==",
         "Ti9B",
         "UEVSU09OX0lE",
         "MDA0Y2IzYzctNWFlYS00ZmEyLWIwOWMtYjJjYjMyMmU5YzIxXzIwMjMtMDMtMTgtMDEuMjIuMjUuNjI5MDAw",
         "2023-03-18T01:22:25.629+0000",
         "MDA0Y2IzYzctNWFlYS00ZmEyLWIwOWMtYjJjYjMyMmU5YzIxXzIwMjMtMDMtMTggMDE6MjI6MjUuNjI5MDAwXzE0ODc=",
         "2023-03-18T01:22:25.629+0000",
         "Q0E1RDQyNjc0MDdENEVENjU4MTZCMkM5RDIyRUEyMTAuQzAwODNfTFJfUFVfQ0wwMjUwX00xXzE0ODc=",
         "2023-03-18T01:22:25.620+0000",
         "UFBU",
         "UGFydGljaXBhbnQ=",
         "TW96aWxsYS81LjAgKFdpbmRvd3MgTlQgMTAuMDsgV2luNjQ7IHg2NCkgQXBwbGVXZWJLaXQvNTM3LjM2IChLSFRNTCwgbGlrZSBHZWNrbykgQ2hyb21lLzExMC4wLjAuMCBTYWZhcmkvNTM3LjM2IEVkZy8xMTAuMC4xNTg3LjU= (truncated)",
         "QkFDIFdvcmtkYXkgT3V0YWdl",
         "MjAyMy0wMy0xOA==",
         "2023-03-18T01:22:26.860+0000",
         null,
         "QkFDIFdvcmtkYXkgT3V0YWdl",
         "VW5tYXBwZWQ=",
         null,
         null,
         "UG9ydGFsIFBhZ2U=",
         1,
         "R0VU",
         "QkFDIFdvcmtkYXkgT3V0YWdl",
         null,
         "VW5tYXBwZWQ=",
         "QkFDIFdvcmtkYXkgT3V0YWdl",
         "VW5tYXBwZWQ=",
         null,
         null,
         "UG9ydGFsIFBhZ2U=",
         null,
         null,
         null,
         null,
         null,
         "QmFzaWMgTmF2aWdhdGlvbg==",
         "QmFzaWMgTmF2aWdhdGlvbg==",
         "QmFzaWMgTmF2aWdhdGlvbg==",
         null,
         "UFBUUFJUTA==",
         "VVBvaW50",
         "MjMuMy4xXzEuMA==",
         "UFBUUFJUTA==",
         "VVBvaW50",
         "MjMuMy4xXzEuMA==",
         "Y3B2ZXBhcHAwMDgzLmJvbHQuYWxpZ2h0LmNvbQ==",
         1,
         "VW5pZGVudGlmaWVk",
         "VW5rbm93bg==",
         "Tk9MT0dO",
         "RGVza3RvcA==",
         "RW5nbGlzaA==",
         0,
         1,
         0,
         0,
         0,
         0,
         0,
         1,
         0,
         0,
         0,
         0,
         1,
         0,
         0,
         0,
         "VW5tYXBwZWQ=",
         "VW5tYXBwZWQ=",
         0,
         null,
         "SW50ZXJuYWwgTGluayBDbGljaw==",
         "2023-03-24T04:10:23.000+0000",
         "Mm8=",
         null,
         1230,
         "VW51c2Vk"
        ]
       ],
       "datasetInfos": [],
       "dbfsResultPath": null,
       "isJsonSchema": true,
       "metadata": {},
       "overflow": false,
       "plotOptions": {
        "customPlotOptions": {},
        "displayType": "table",
        "pivotAggregation": null,
        "pivotColumns": null,
        "xColumns": null,
        "yColumns": null
       },
       "removedWidgets": [],
       "schema": [
        {
         "metadata": "{}",
         "name": "web_page_detail_event_key",
         "type": "\"binary\""
        },
        {
         "metadata": "{}",
         "name": "web_page_detail_event_key_columns",
         "type": "\"binary\""
        },
        {
         "metadata": "{}",
         "name": "client_key",
         "type": "\"binary\""
        },
        {
         "metadata": "{}",
         "name": "implementation_key",
         "type": "\"binary\""
        },
        {
         "metadata": "{}",
         "name": "platform_id",
         "type": "\"integer\""
        },
        {
         "metadata": "{}",
         "name": "client_id",
         "type": "\"integer\""
        },
        {
         "metadata": "{}",
         "name": "implementation_hierarchy_key",
         "type": "\"long\""
        },
        {
         "metadata": "{}",
         "name": "person_internal_id",
         "type": "\"binary\""
        },
        {
         "metadata": "{}",
         "name": "platform_person_internal_id",
         "type": "\"binary\""
        },
        {
         "metadata": "{}",
         "name": "source_person_internal_id",
         "type": "\"binary\""
        },
        {
         "metadata": "{}",
         "name": "person_age",
         "type": "\"integer\""
        },
        {
         "metadata": "{}",
         "name": "person_employment_status",
         "type": "\"binary\""
        },
        {
         "metadata": "{}",
         "name": "person_state",
         "type": "\"binary\""
        },
        {
         "metadata": "{}",
         "name": "person_union_vs_non_union",
         "type": "\"binary\""
        },
        {
         "metadata": "{}",
         "name": "person_salary",
         "type": "\"binary\""
        },
        {
         "metadata": "{}",
         "name": "admin_id",
         "type": "\"binary\""
        },
        {
         "metadata": "{}",
         "name": "user_id_type",
         "type": "\"binary\""
        },
        {
         "metadata": "{}",
         "name": "source_global_session_id",
         "type": "\"binary\""
        },
        {
         "metadata": "{}",
         "name": "source_global_session_create_timestamp",
         "type": "\"timestamp\""
        },
        {
         "metadata": "{}",
         "name": "global_session_id",
         "type": "\"binary\""
        },
        {
         "metadata": "{}",
         "name": "global_session_create_timestamp_cst_timezone",
         "type": "\"timestamp\""
        },
        {
         "metadata": "{}",
         "name": "web_session_id",
         "type": "\"binary\""
        },
        {
         "metadata": "{}",
         "name": "session_create_timestamp_cst_timezone",
         "type": "\"timestamp\""
        },
        {
         "metadata": "{}",
         "name": "web_user_type_id",
         "type": "\"binary\""
        },
        {
         "metadata": "{}",
         "name": "web_user_type_description",
         "type": "\"binary\""
        },
        {
         "metadata": "{}",
         "name": "web_user_system_id",
         "type": "\"binary\""
        },
        {
         "metadata": "{}",
         "name": "page_name",
         "type": "\"binary\""
        },
        {
         "metadata": "{}",
         "name": "page_visit_date_cst_timezone",
         "type": "\"binary\""
        },
        {
         "metadata": "{}",
         "name": "page_visit_timestamp_cst_timezone",
         "type": "\"timestamp\""
        },
        {
         "metadata": "{}",
         "name": "portlet_name",
         "type": "\"binary\""
        },
        {
         "metadata": "{}",
         "name": "business_page_name",
         "type": "\"binary\""
        },
        {
         "metadata": "{}",
         "name": "page_domain",
         "type": "\"binary\""
        },
        {
         "metadata": "{}",
         "name": "page_type_code",
         "type": "\"binary\""
        },
        {
         "metadata": "{}",
         "name": "page_type",
         "type": "\"binary\""
        },
        {
         "metadata": "{}",
         "name": "page_web_type_description",
         "type": "\"binary\""
        },
        {
         "metadata": "{}",
         "name": "page_sequence_number",
         "type": "\"integer\""
        },
        {
         "metadata": "{}",
         "name": "request_method_description",
         "type": "\"binary\""
        },
        {
         "metadata": "{}",
         "name": "global_session_end_page_name",
         "type": "\"binary\""
        },
        {
         "metadata": "{}",
         "name": "global_session_end_portlet_name",
         "type": "\"binary\""
        },
        {
         "metadata": "{}",
         "name": "global_session_end_page_process_name",
         "type": "\"binary\""
        },
        {
         "metadata": "{}",
         "name": "global_session_end_business_page_name",
         "type": "\"binary\""
        },
        {
         "metadata": "{}",
         "name": "global_session_end_page_domain",
         "type": "\"binary\""
        },
        {
         "metadata": "{}",
         "name": "global_session_end_page_type_code",
         "type": "\"binary\""
        },
        {
         "metadata": "{}",
         "name": "global_session_end_page_type",
         "type": "\"binary\""
        },
        {
         "metadata": "{}",
         "name": "global_session_end_page_web_type_description",
         "type": "\"binary\""
        },
        {
         "metadata": "{}",
         "name": "link_id",
         "type": "\"binary\""
        },
        {
         "metadata": "{}",
         "name": "link_destination_url",
         "type": "\"binary\""
        },
        {
         "metadata": "{}",
         "name": "link_id_display",
         "type": "\"binary\""
        },
        {
         "metadata": "{}",
         "name": "link_external_info",
         "type": "\"binary\""
        },
        {
         "metadata": "{}",
         "name": "link_flow",
         "type": "\"binary\""
        },
        {
         "metadata": "{}",
         "name": "link_type_code",
         "type": "\"binary\""
        },
        {
         "metadata": "{}",
         "name": "link_type_description",
         "type": "\"binary\""
        },
        {
         "metadata": "{}",
         "name": "business_link_id",
         "type": "\"binary\""
        },
        {
         "metadata": "{}",
         "name": "web_conversation_id",
         "type": "\"binary\""
        },
        {
         "metadata": "{}",
         "name": "web_channel_application_code",
         "type": "\"binary\""
        },
        {
         "metadata": "{}",
         "name": "web_channel_application_description",
         "type": "\"binary\""
        },
        {
         "metadata": "{}",
         "name": "web_channel_application_version",
         "type": "\"binary\""
        },
        {
         "metadata": "{}",
         "name": "initial_web_channel_application_code",
         "type": "\"binary\""
        },
        {
         "metadata": "{}",
         "name": "initial_web_channel_application_description",
         "type": "\"binary\""
        },
        {
         "metadata": "{}",
         "name": "initial_web_channel_application_version",
         "type": "\"binary\""
        },
        {
         "metadata": "{}",
         "name": "host_name_description",
         "type": "\"binary\""
        },
        {
         "metadata": "{}",
         "name": "web_authentication_level_id",
         "type": "\"integer\""
        },
        {
         "metadata": "{}",
         "name": "web_authentication_level_description",
         "type": "\"binary\""
        },
        {
         "metadata": "{}",
         "name": "web_security_method_description",
         "type": "\"binary\""
        },
        {
         "metadata": "{}",
         "name": "web_logon_type_description",
         "type": "\"binary\""
        },
        {
         "metadata": "{}",
         "name": "web_device_type",
         "type": "\"binary\""
        },
        {
         "metadata": "{}",
         "name": "browser_language",
         "type": "\"binary\""
        },
        {
         "metadata": "{}",
         "name": "page_visit_duration",
         "type": "\"integer\""
        },
        {
         "metadata": "{}",
         "name": "web_session_page_indicator",
         "type": "\"integer\""
        },
        {
         "metadata": "{}",
         "name": "outbound_page_link_indicator",
         "type": "\"integer\""
        },
        {
         "metadata": "{}",
         "name": "hint_page_indicator",
         "type": "\"integer\""
        },
        {
         "metadata": "{}",
         "name": "error_page_indicator",
         "type": "\"integer\""
        },
        {
         "metadata": "{}",
         "name": "logon_page_indicator",
         "type": "\"integer\""
        },
        {
         "metadata": "{}",
         "name": "logoff_page_indicator",
         "type": "\"integer\""
        },
        {
         "metadata": "{}",
         "name": "last_visited_page_indicator",
         "type": "\"integer\""
        },
        {
         "metadata": "{}",
         "name": "password_reset_page_indicator",
         "type": "\"integer\""
        },
        {
         "metadata": "{}",
         "name": "hm_enrollment_abandoned_indicator",
         "type": "\"integer\""
        },
        {
         "metadata": "{}",
         "name": "hm_enrollment_initiated_indicator",
         "type": "\"integer\""
        },
        {
         "metadata": "{}",
         "name": "hm_enrollment_completed_indicator",
         "type": "\"integer\""
        },
        {
         "metadata": "{}",
         "name": "web_page_abandoned_indicator",
         "type": "\"integer\""
        },
        {
         "metadata": "{}",
         "name": "web_chat_request_indicator",
         "type": "\"integer\""
        },
        {
         "metadata": "{}",
         "name": "page_slide_indicator",
         "type": "\"integer\""
        },
        {
         "metadata": "{}",
         "name": "web_page_payload_size",
         "type": "\"integer\""
        },
        {
         "metadata": "{}",
         "name": "page_process_name",
         "type": "\"binary\""
        },
        {
         "metadata": "{}",
         "name": "page_process_detail",
         "type": "\"binary\""
        },
        {
         "metadata": "{}",
         "name": "iva_used_indicator",
         "type": "\"integer\""
        },
        {
         "metadata": "{}",
         "name": "event_position",
         "type": "\"binary\""
        },
        {
         "metadata": "{}",
         "name": "action_type",
         "type": "\"binary\""
        },
        {
         "metadata": "{}",
         "name": "load_timestamp",
         "type": "\"timestamp\""
        },
        {
         "metadata": "{}",
         "name": "source_system_code",
         "type": "\"binary\""
        },
        {
         "metadata": "{}",
         "name": "mobile_app_device_type",
         "type": "\"binary\""
        },
        {
         "metadata": "{}",
         "name": "page_load_elapsed_time",
         "type": "\"integer\""
        },
        {
         "metadata": "{}",
         "name": "mobile_app_type",
         "type": "\"binary\""
        }
       ],
       "type": "table"
      }
     },
     "output_type": "display_data"
    },
    {
     "output_type": "display_data",
     "data": {
      "text/html": [
       "<style scoped>\n  .ansiout {\n    display: block;\n    unicode-bidi: embed;\n    white-space: pre-wrap;\n    word-wrap: break-word;\n    word-break: break-all;\n    font-family: \"Source Code Pro\", \"Menlo\", monospace;;\n    font-size: 13px;\n    color: #555;\n    margin-left: 4px;\n    line-height: 19px;\n  }\n</style>\n<div class=\"ansiout\">Out[7]: 1222913934</div>"
      ]
     },
     "metadata": {
      "application/vnd.databricks.v1+output": {
       "addedWidgets": {},
       "arguments": {},
       "data": "<div class=\"ansiout\">Out[7]: 1222913934</div>",
       "datasetInfos": [],
       "metadata": {},
       "removedWidgets": [],
       "type": "html"
      }
     },
     "output_type": "display_data"
    }
   ],
   "source": [
    "display(master_df.limit(5))\n",
    "master_df.count()"
   ]
  },
  {
   "cell_type": "code",
   "execution_count": 0,
   "metadata": {
    "application/vnd.databricks.v1+cell": {
     "cellMetadata": {
      "byteLimit": 2048000,
      "rowLimit": 10000
     },
     "inputWidgets": {},
     "nuid": "d6c48ed7-cdb0-4838-a6c8-89a629c0d8ef",
     "showTitle": false,
     "title": ""
    }
   },
   "outputs": [
    {
     "output_type": "display_data",
     "data": {
      "text/html": [
       "<style scoped>\n  .ansiout {\n    display: block;\n    unicode-bidi: embed;\n    white-space: pre-wrap;\n    word-wrap: break-word;\n    word-break: break-all;\n    font-family: \"Source Code Pro\", \"Menlo\", monospace;;\n    font-size: 13px;\n    color: #555;\n    margin-left: 4px;\n    line-height: 19px;\n  }\n</style>\n<div class=\"ansiout\"></div>"
      ]
     },
     "metadata": {
      "application/vnd.databricks.v1+output": {
       "addedWidgets": {},
       "arguments": {},
       "data": "<div class=\"ansiout\"></div>",
       "datasetInfos": [],
       "metadata": {},
       "removedWidgets": [],
       "type": "html"
      }
     },
     "output_type": "display_data"
    },
    {
     "output_type": "display_data",
     "data": {
      "text/html": [
       "<style scoped>\n  .ansiout {\n    display: block;\n    unicode-bidi: embed;\n    white-space: pre-wrap;\n    word-wrap: break-word;\n    word-break: break-all;\n    font-family: \"Source Code Pro\", \"Menlo\", monospace;;\n    font-size: 13px;\n    color: #555;\n    margin-left: 4px;\n    line-height: 19px;\n  }\n</style>\n<div class=\"ansiout\"><span class=\"ansi-red-fg\">---------------------------------------------------------------------------</span>\n<span class=\"ansi-red-fg\">TypeError</span>                                 Traceback (most recent call last)\n<span class=\"ansi-green-fg\">&lt;command-12848&gt;</span> in <span class=\"ansi-cyan-fg\">&lt;module&gt;</span>\n<span class=\"ansi-green-intense-fg ansi-bold\">      3</span> <span class=\"ansi-green-fg\">from</span> pyspark<span class=\"ansi-blue-fg\">.</span>sql <span class=\"ansi-green-fg\">import</span> functions <span class=\"ansi-green-fg\">as</span> F\n<span class=\"ansi-green-intense-fg ansi-bold\">      4</span> \n<span class=\"ansi-green-fg\">----&gt; 5</span><span class=\"ansi-red-fg\"> </span>child_df <span class=\"ansi-blue-fg\">=</span> master_df<span class=\"ansi-blue-fg\">.</span>select<span class=\"ansi-blue-fg\">(</span><span class=\"ansi-blue-fg\">&#34;person_internal_id&#34;</span><span class=\"ansi-blue-fg\">,</span><span class=\"ansi-blue-fg\">&#34;page_name&#34;</span><span class=\"ansi-blue-fg\">)</span><span class=\"ansi-blue-fg\">.</span>where<span class=\"ansi-blue-fg\">(</span>F<span class=\"ansi-blue-fg\">.</span>col<span class=\"ansi-blue-fg\">(</span><span class=\"ansi-blue-fg\">&#34;page_name&#34;</span><span class=\"ansi-blue-fg\">)</span><span class=\"ansi-blue-fg\">.</span>like<span class=\"ansi-blue-fg\">(</span><span class=\"ansi-blue-fg\">&#39;%Child%&#39;</span><span class=\"ansi-blue-fg\">)</span><span class=\"ansi-blue-fg\">.</span>groupby<span class=\"ansi-blue-fg\">(</span><span class=\"ansi-blue-fg\">&#34;person_internal_id&#34;</span><span class=\"ansi-blue-fg\">,</span><span class=\"ansi-blue-fg\">&#34;page_name&#34;</span><span class=\"ansi-blue-fg\">)</span><span class=\"ansi-blue-fg\">)</span>\n<span class=\"ansi-green-intense-fg ansi-bold\">      6</span> \n<span class=\"ansi-green-intense-fg ansi-bold\">      7</span> child_df<span class=\"ansi-blue-fg\">.</span>limit<span class=\"ansi-blue-fg\">(</span><span class=\"ansi-cyan-fg\">10</span><span class=\"ansi-blue-fg\">)</span><span class=\"ansi-blue-fg\">.</span>show<span class=\"ansi-blue-fg\">(</span>truncate<span class=\"ansi-blue-fg\">=</span><span class=\"ansi-green-fg\">False</span><span class=\"ansi-blue-fg\">)</span>\n\n<span class=\"ansi-red-fg\">TypeError</span>: &#39;Column&#39; object is not callable</div>"
      ]
     },
     "metadata": {
      "application/vnd.databricks.v1+output": {
       "arguments": {},
       "data": "<div class=\"ansiout\"><span class=\"ansi-red-fg\">---------------------------------------------------------------------------</span>\n<span class=\"ansi-red-fg\">TypeError</span>                                 Traceback (most recent call last)\n<span class=\"ansi-green-fg\">&lt;command-12848&gt;</span> in <span class=\"ansi-cyan-fg\">&lt;module&gt;</span>\n<span class=\"ansi-green-intense-fg ansi-bold\">      3</span> <span class=\"ansi-green-fg\">from</span> pyspark<span class=\"ansi-blue-fg\">.</span>sql <span class=\"ansi-green-fg\">import</span> functions <span class=\"ansi-green-fg\">as</span> F\n<span class=\"ansi-green-intense-fg ansi-bold\">      4</span> \n<span class=\"ansi-green-fg\">----&gt; 5</span><span class=\"ansi-red-fg\"> </span>child_df <span class=\"ansi-blue-fg\">=</span> master_df<span class=\"ansi-blue-fg\">.</span>select<span class=\"ansi-blue-fg\">(</span><span class=\"ansi-blue-fg\">&#34;person_internal_id&#34;</span><span class=\"ansi-blue-fg\">,</span><span class=\"ansi-blue-fg\">&#34;page_name&#34;</span><span class=\"ansi-blue-fg\">)</span><span class=\"ansi-blue-fg\">.</span>where<span class=\"ansi-blue-fg\">(</span>F<span class=\"ansi-blue-fg\">.</span>col<span class=\"ansi-blue-fg\">(</span><span class=\"ansi-blue-fg\">&#34;page_name&#34;</span><span class=\"ansi-blue-fg\">)</span><span class=\"ansi-blue-fg\">.</span>like<span class=\"ansi-blue-fg\">(</span><span class=\"ansi-blue-fg\">&#39;%Child%&#39;</span><span class=\"ansi-blue-fg\">)</span><span class=\"ansi-blue-fg\">.</span>groupby<span class=\"ansi-blue-fg\">(</span><span class=\"ansi-blue-fg\">&#34;person_internal_id&#34;</span><span class=\"ansi-blue-fg\">,</span><span class=\"ansi-blue-fg\">&#34;page_name&#34;</span><span class=\"ansi-blue-fg\">)</span><span class=\"ansi-blue-fg\">)</span>\n<span class=\"ansi-green-intense-fg ansi-bold\">      6</span> \n<span class=\"ansi-green-intense-fg ansi-bold\">      7</span> child_df<span class=\"ansi-blue-fg\">.</span>limit<span class=\"ansi-blue-fg\">(</span><span class=\"ansi-cyan-fg\">10</span><span class=\"ansi-blue-fg\">)</span><span class=\"ansi-blue-fg\">.</span>show<span class=\"ansi-blue-fg\">(</span>truncate<span class=\"ansi-blue-fg\">=</span><span class=\"ansi-green-fg\">False</span><span class=\"ansi-blue-fg\">)</span>\n\n<span class=\"ansi-red-fg\">TypeError</span>: &#39;Column&#39; object is not callable</div>",
       "errorSummary": "<span class=\"ansi-red-fg\">TypeError</span>: &#39;Column&#39; object is not callable",
       "errorTraceType": "html",
       "metadata": {},
       "type": "ipynbError"
      }
     },
     "output_type": "display_data"
    }
   ],
   "source": [
    "## Filtering data from master dataframe \n",
    "\n",
    "from pyspark.sql import functions as F\n",
    "\n",
    "child_df = master_df.select(\"person_internal_id\",\"page_name\").where(F.col(\"page_name\").like('%Child%').groupby(\"person_internal_id\",\"page_name\"))\n",
    "\n",
    "child_df.limit(10).show(truncate=False)"
   ]
  },
  {
   "cell_type": "code",
   "execution_count": 0,
   "metadata": {
    "application/vnd.databricks.v1+cell": {
     "cellMetadata": {
      "byteLimit": 2048000,
      "rowLimit": 10000
     },
     "inputWidgets": {},
     "nuid": "6d59e9d8-ba95-4e08-9843-9883d513474b",
     "showTitle": false,
     "title": ""
    }
   },
   "outputs": [
    {
     "output_type": "display_data",
     "data": {
      "text/html": [
       "<style scoped>\n  .ansiout {\n    display: block;\n    unicode-bidi: embed;\n    white-space: pre-wrap;\n    word-wrap: break-word;\n    word-break: break-all;\n    font-family: \"Source Code Pro\", \"Menlo\", monospace;;\n    font-size: 13px;\n    color: #555;\n    margin-left: 4px;\n    line-height: 19px;\n  }\n</style>"
      ]
     },
     "metadata": {
      "application/vnd.databricks.v1+output": {
       "arguments": {},
       "data": "",
       "errorSummary": "Command skipped",
       "errorTraceType": "html",
       "metadata": {},
       "type": "ipynbError"
      }
     },
     "output_type": "display_data"
    }
   ],
   "source": [
    "child_df.count()"
   ]
  },
  {
   "cell_type": "code",
   "execution_count": 0,
   "metadata": {
    "application/vnd.databricks.v1+cell": {
     "cellMetadata": {
      "byteLimit": 2048000,
      "rowLimit": 10000
     },
     "inputWidgets": {},
     "nuid": "c41496e0-70d7-4c85-b954-359703f25bfd",
     "showTitle": false,
     "title": ""
    }
   },
   "outputs": [
    {
     "output_type": "display_data",
     "data": {
      "text/html": [
       "<style scoped>\n  .ansiout {\n    display: block;\n    unicode-bidi: embed;\n    white-space: pre-wrap;\n    word-wrap: break-word;\n    word-break: break-all;\n    font-family: \"Source Code Pro\", \"Menlo\", monospace;;\n    font-size: 13px;\n    color: #555;\n    margin-left: 4px;\n    line-height: 19px;\n  }\n</style>\n<div class=\"ansiout\">Out[36]: 960776357</div>"
      ]
     },
     "metadata": {
      "application/vnd.databricks.v1+output": {
       "addedWidgets": {},
       "arguments": {},
       "data": "<div class=\"ansiout\">Out[36]: 960776357</div>",
       "datasetInfos": [],
       "metadata": {},
       "removedWidgets": [],
       "type": "html"
      }
     },
     "output_type": "display_data"
    }
   ],
   "source": [
    "import pyspark.sql.functions as F\n",
    "import pyspark.sql.types as T\n",
    "\n",
    "# define a UDF to decode strings using unicode-escape encoding\n",
    "my_udf = F.udf(lambda x: x.decode('unicode-escape'), T.StringType())\n",
    "\n",
    "# read data from a Parquet file into a PySpark DataFrame\n",
    "#df = spark.read.parquet('/mnt/adl-core-sagemaker-studio/clickstream20230317_20230324/*')\n",
    "\n",
    "df_test = master_df.filter(master_df.business_page_name.isNotNull())\n",
    "df_test = master_df.filter(master_df.person_internal_id.isNotNull())\n",
    "df_test = master_df.filter(master_df.page_name.isNotNull())\n",
    "df_test.count()\n",
    "# create a new DataFrame with the 'business_page_name' column decoded\n",
    "#decoded_df = df.withColumn('decoded_business_page_name', my_udf('business_page_name'))\n",
    "# decoded_df = df_test.withColumn('decoded_business_page_name', my_udf('business_page_name'))\n",
    "# # display the first 10 rows of the decoded DataFrame\n",
    "# display(decoded_df.select('decoded_business_page_name').limit(10))"
   ]
  },
  {
   "cell_type": "code",
   "execution_count": 0,
   "metadata": {
    "application/vnd.databricks.v1+cell": {
     "cellMetadata": {
      "byteLimit": 2048000,
      "rowLimit": 10000
     },
     "inputWidgets": {},
     "nuid": "eb63d744-be5d-4f50-8b22-eea32043aace",
     "showTitle": false,
     "title": ""
    }
   },
   "outputs": [
    {
     "output_type": "display_data",
     "data": {
      "text/html": [
       "<style scoped>\n  .table-result-container {\n    max-height: 300px;\n    overflow: auto;\n  }\n  table, th, td {\n    border: 1px solid black;\n    border-collapse: collapse;\n  }\n  th, td {\n    padding: 5px;\n  }\n  th {\n    text-align: left;\n  }\n</style><div class='table-result-container'><table class='table-result'><thead style='background-color: white'><tr><th>decoded_business_page_name</th></tr></thead><tbody><tr><td>CSERR200DFLTCRTCOPEN</td></tr><tr><td>Login</td></tr><tr><td>Savings and Retirement</td></tr><tr><td>Login</td></tr><tr><td>BAC Workday Outage</td></tr><tr><td>MI_SSO_LOGOUT</td></tr><tr><td>newhome</td></tr><tr><td>newhome</td></tr><tr><td>newhome</td></tr><tr><td>newhome</td></tr></tbody></table></div>"
      ]
     },
     "metadata": {
      "application/vnd.databricks.v1+output": {
       "addedWidgets": {},
       "aggData": [],
       "aggError": "",
       "aggOverflow": false,
       "aggSchema": [],
       "aggSeriesLimitReached": false,
       "aggType": "",
       "arguments": {},
       "columnCustomDisplayInfos": {},
       "data": [
        [
         "CSERR200DFLTCRTCOPEN"
        ],
        [
         "Login"
        ],
        [
         "Savings and Retirement"
        ],
        [
         "Login"
        ],
        [
         "BAC Workday Outage"
        ],
        [
         "MI_SSO_LOGOUT"
        ],
        [
         "newhome"
        ],
        [
         "newhome"
        ],
        [
         "newhome"
        ],
        [
         "newhome"
        ]
       ],
       "datasetInfos": [],
       "dbfsResultPath": null,
       "isJsonSchema": true,
       "metadata": {},
       "overflow": false,
       "plotOptions": {
        "customPlotOptions": {},
        "displayType": "table",
        "pivotAggregation": null,
        "pivotColumns": null,
        "xColumns": null,
        "yColumns": null
       },
       "removedWidgets": [],
       "schema": [
        {
         "metadata": "{}",
         "name": "decoded_business_page_name",
         "type": "\"string\""
        }
       ],
       "type": "table"
      }
     },
     "output_type": "display_data"
    }
   ],
   "source": [
    "decoded_df = df_test.withColumn('decoded_business_page_name', my_udf('business_page_name'))\n",
    "display(decoded_df.select('decoded_business_page_name').limit(10))"
   ]
  },
  {
   "cell_type": "code",
   "execution_count": 0,
   "metadata": {
    "application/vnd.databricks.v1+cell": {
     "cellMetadata": {
      "byteLimit": 2048000,
      "rowLimit": 10000
     },
     "inputWidgets": {},
     "nuid": "1d19a2c4-a1ae-4b7a-be5f-5ca5ba382ab3",
     "showTitle": false,
     "title": ""
    }
   },
   "outputs": [
    {
     "output_type": "display_data",
     "data": {
      "text/html": [
       "<style scoped>\n  .table-result-container {\n    max-height: 300px;\n    overflow: auto;\n  }\n  table, th, td {\n    border: 1px solid black;\n    border-collapse: collapse;\n  }\n  th, td {\n    padding: 5px;\n  }\n  th {\n    text-align: left;\n  }\n</style><div class='table-result-container'><table class='table-result'><thead style='background-color: white'><tr><th>web_page_detail_event_key</th><th>web_page_detail_event_key_columns</th><th>client_key</th><th>implementation_key</th><th>platform_id</th><th>client_id</th><th>implementation_hierarchy_key</th><th>person_internal_id</th><th>platform_person_internal_id</th><th>source_person_internal_id</th><th>person_age</th><th>person_employment_status</th><th>person_state</th><th>person_union_vs_non_union</th><th>person_salary</th><th>admin_id</th><th>user_id_type</th><th>source_global_session_id</th><th>source_global_session_create_timestamp</th><th>global_session_id</th><th>global_session_create_timestamp_cst_timezone</th><th>web_session_id</th><th>session_create_timestamp_cst_timezone</th><th>web_user_type_id</th><th>web_user_type_description</th><th>web_user_system_id</th><th>page_name</th><th>page_visit_date_cst_timezone</th><th>page_visit_timestamp_cst_timezone</th><th>portlet_name</th><th>business_page_name</th><th>page_domain</th><th>page_type_code</th><th>page_type</th><th>page_web_type_description</th><th>page_sequence_number</th><th>request_method_description</th><th>global_session_end_page_name</th><th>global_session_end_portlet_name</th><th>global_session_end_page_process_name</th><th>global_session_end_business_page_name</th><th>global_session_end_page_domain</th><th>global_session_end_page_type_code</th><th>global_session_end_page_type</th><th>global_session_end_page_web_type_description</th><th>link_id</th><th>link_destination_url</th><th>link_id_display</th><th>link_external_info</th><th>link_flow</th><th>link_type_code</th><th>link_type_description</th><th>business_link_id</th><th>web_conversation_id</th><th>web_channel_application_code</th><th>web_channel_application_description</th><th>web_channel_application_version</th><th>initial_web_channel_application_code</th><th>initial_web_channel_application_description</th><th>initial_web_channel_application_version</th><th>host_name_description</th><th>web_authentication_level_id</th><th>web_authentication_level_description</th><th>web_security_method_description</th><th>web_logon_type_description</th><th>web_device_type</th><th>browser_language</th><th>page_visit_duration</th><th>web_session_page_indicator</th><th>outbound_page_link_indicator</th><th>hint_page_indicator</th><th>error_page_indicator</th><th>logon_page_indicator</th><th>logoff_page_indicator</th><th>last_visited_page_indicator</th><th>password_reset_page_indicator</th><th>hm_enrollment_abandoned_indicator</th><th>hm_enrollment_initiated_indicator</th><th>hm_enrollment_completed_indicator</th><th>web_page_abandoned_indicator</th><th>web_chat_request_indicator</th><th>page_slide_indicator</th><th>web_page_payload_size</th><th>page_process_name</th><th>page_process_detail</th><th>iva_used_indicator</th><th>event_position</th><th>action_type</th><th>load_timestamp</th><th>source_system_code</th><th>mobile_app_device_type</th><th>page_load_elapsed_time</th><th>mobile_app_type</th><th>decoded_business_page_name</th></tr></thead><tbody><tr><td>LVYwaUxWWlczaVo5RTRSTnhxZHhnLWJfNzU0NCMyMDIzLTAzLTE4IDE5OjMxOjE3LjIyMyMyMDIzLTAzLTE4IDE5OjMxOjE3LjI0Nw==</td><td>d2ViX3Nlc3Npb25faWQjc2Vzc2lvbl9jcmVhdGVfdGltZXN0YW1wX2NzdF90aW1lem9uZSNwYWdlX3Zpc2l0X3RpbWVzdGFtcF9jc3RfdGltZXpvbmU=</td><td>MTc1NDQ=</td><td>NzU0NDc1NDQzanhnZW16bjVxaHp2d3pnMWF2YzQyY2xma2R0MDV2Y3lsY25rMWMzNjI3Y2xwMzI2dw==</td><td>7544</td><td>7544</td><td>75447544</td><td>null</td><td>null</td><td>null</td><td>null</td><td>VW5rbm93bg==</td><td>VW5rbm93bg==</td><td>VW5rbm93bg==</td><td>VW5rbm93bg==</td><td>Ti9B</td><td>UEVSU09OX0lE</td><td>null</td><td>2023-03-18T19:31:17.223+0000</td><td>LVYwaUxWWlczaVo5RTRSTnhxZHhnLWJfMjAyMy0wMy0xOCAxOTozMToxNy4yMjMwMDBfNzU0NA==</td><td>2023-03-18T19:31:17.223+0000</td><td>LVYwaUxWWlczaVo5RTRSTnhxZHhnLWJfNzU0NA==</td><td>2023-03-18T19:31:17.223+0000</td><td>UFBU</td><td>UGFydGljaXBhbnQ=</td><td>TW96aWxsYS81LjAgKE1hY2ludG9zaDsgSW50ZWwgTWFjIE9TIFggMTAuMTU7IHJ2OjEwOS4wKSBHZWNrby8yMDEwMDEwMSBGaXJlZm94LzExMC4w</td><td>L0NzRXJyMjAwRGZsdENydGNPcGVu</td><td>MjAyMy0wMy0xOA==</td><td>2023-03-18T19:31:17.247+0000</td><td>null</td><td>Q1NFUlIyMDBERkxUQ1JUQ09QRU4=</td><td>Q00=</td><td>RVI=</td><td>RXJyb3I=</td><td>UGFnZQ==</td><td>0</td><td>R0VU</td><td>L0NzRXJyMjAwRGZsdENydGNPcGVu</td><td>null</td><td>RXJyb3IgUGFnZQ==</td><td>Q1NFUlIyMDBERkxUQ1JUQ09QRU4=</td><td>Q00=</td><td>RVI=</td><td>RXJyb3I=</td><td>UGFnZQ==</td><td>null</td><td>null</td><td>null</td><td>null</td><td>null</td><td>QmFzaWMgTmF2aWdhdGlvbg==</td><td>QmFzaWMgTmF2aWdhdGlvbg==</td><td>QmFzaWMgTmF2aWdhdGlvbg==</td><td>cHJpbWFyeQ==</td><td>WUJS</td><td>WUJS</td><td>NS4xNi44OQ==</td><td>WUJS</td><td>WUJS</td><td>NS4xNi44OQ==</td><td>bDRzZXBhMDguaGV3aXR0LmNvbQ==</td><td>1</td><td>VW5pZGVudGlmaWVk</td><td>VW5rbm93bg==</td><td>Tk9MT0dO</td><td>T3RoZXI=</td><td>RW5nbGlzaA==</td><td>0</td><td>1</td><td>0</td><td>0</td><td>1</td><td>0</td><td>0</td><td>1</td><td>0</td><td>0</td><td>0</td><td>0</td><td>0</td><td>0</td><td>0</td><td>14208</td><td>RXJyb3IgUGFnZQ==</td><td>null</td><td>0</td><td>null</td><td>SW50ZXJuYWwgTGluayBDbGljaw==</td><td>2023-03-24T04:10:23.000+0000</td><td>MnA=</td><td>null</td><td>0</td><td>VW51c2Vk</td><td>CSERR200DFLTCRTCOPEN</td></tr><tr><td>Q0RDRTA1Q0FEMTNBRjIxQjY0QTREM0RFRjRGMzhFNjIuODE4OTVfTFJfUFVfQ0wwMzAwX00xXzEyODMjMjAyMy0wMy0xOCAxMzowODoxNS4xNzQjMjAyMy0wMy0xOCAxMzowODoxNi4yNzc=</td><td>d2ViX3Nlc3Npb25faWQjc2Vzc2lvbl9jcmVhdGVfdGltZXN0YW1wX2NzdF90aW1lem9uZSNwYWdlX3Zpc2l0X3RpbWVzdGFtcF9jc3RfdGltZXpvbmU=</td><td>MTEyODM=</td><td>MTI4MzEyODMzanhnZW16bjVxaHp2d3pnMWF2YzQyY2xma2R0MDV2Y3lsY25rMWMzNjI3Y2xwMzI2dw==</td><td>1283</td><td>1283</td><td>12831283</td><td>null</td><td>null</td><td></td><td>null</td><td>VW5rbm93bg==</td><td>VW5rbm93bg==</td><td>VW5rbm93bg==</td><td>VW5rbm93bg==</td><td>Ti9B</td><td>UEVSU09OX0lE</td><td>MDAxYzdiMzUtY2FhZi00YzM5LWEzZjctZWRkMDdkN2Q3YmU4XzIwMjMtMDMtMTgtMTMuMDguMTUuMTgzMDAw</td><td>2023-03-18T13:08:15.183+0000</td><td>MDAxYzdiMzUtY2FhZi00YzM5LWEzZjctZWRkMDdkN2Q3YmU4XzIwMjMtMDMtMTggMTM6MDg6MTUuMTgzMDAwXzEyODM=</td><td>2023-03-18T13:08:15.183+0000</td><td>Q0RDRTA1Q0FEMTNBRjIxQjY0QTREM0RFRjRGMzhFNjIuODE4OTVfTFJfUFVfQ0wwMzAwX00xXzEyODM=</td><td>2023-03-18T13:08:15.174+0000</td><td>UFBU</td><td>UGFydGljaXBhbnQ=</td><td>TW96aWxsYS81LjAgKE1hY2ludG9zaDsgSW50ZWwgTWFjIE9TIFggMTBfMTVfNykgQXBwbGVXZWJLaXQvNjA1LjEuMTUgKEtIVE1MLCBsaWtlIEdlY2tvKQ==</td><td>TG9naW4=</td><td>MjAyMy0wMy0xOA==</td><td>2023-03-18T13:08:16.277+0000</td><td>null</td><td>TG9naW4=</td><td>Q00=</td><td>null</td><td>null</td><td>UG9ydGFsIFBhZ2U=</td><td>1</td><td>R0VU</td><td>TG9naW4=</td><td>null</td><td>QXV0aGVudGljYXRpb24=</td><td>TG9naW4=</td><td>Q00=</td><td>null</td><td>null</td><td>UG9ydGFsIFBhZ2U=</td><td>null</td><td>null</td><td>null</td><td>null</td><td>null</td><td>QmFzaWMgTmF2aWdhdGlvbg==</td><td>QmFzaWMgTmF2aWdhdGlvbg==</td><td>QmFzaWMgTmF2aWdhdGlvbg==</td><td>null</td><td>UFBUUFJUTA==</td><td>VVBvaW50</td><td>MjMuMy4xXzEuMA==</td><td>UFBUUFJUTA==</td><td>VVBvaW50</td><td>MjMuMy4xXzEuMA==</td><td>bDk4cmVwYXAxODk1Lmhld2l0dC5jb20=</td><td>1</td><td>VW5pZGVudGlmaWVk</td><td>VW5rbm93bg==</td><td>Tk9MT0dO</td><td>RGVza3RvcA==</td><td>RW5nbGlzaA==</td><td>0</td><td>1</td><td>0</td><td>0</td><td>0</td><td>0</td><td>0</td><td>1</td><td>0</td><td>0</td><td>0</td><td>0</td><td>1</td><td>0</td><td>0</td><td>0</td><td>QXV0aGVudGljYXRpb24=</td><td>TG9naW4=</td><td>0</td><td>null</td><td>SW50ZXJuYWwgTGluayBDbGljaw==</td><td>2023-03-24T04:10:23.000+0000</td><td>Mm8=</td><td>null</td><td>1094</td><td>VW51c2Vk</td><td>Login</td></tr><tr><td>QjIzRkM2MzU3RTA3NzQ4NEU2RUUzQTczNzUyM0ExNkMuQzAwNjhfTFJfUFVfQ0wwNDYwX00xXzc1NDQjMjAyMy0wMy0xOCAwOTo0MzoyOS44MzIjMjAyMy0wMy0xOCAwOTo0MzozMS44MDU=</td><td>d2ViX3Nlc3Npb25faWQjc2Vzc2lvbl9jcmVhdGVfdGltZXN0YW1wX2NzdF90aW1lem9uZSNwYWdlX3Zpc2l0X3RpbWVzdGFtcF9jc3RfdGltZXpvbmU=</td><td>MTc1NDQ=</td><td>NzU0NDc1NDQzanhnZW16bjVxaHp2d3pnMWF2YzQyY2xma2R0MDV2Y3lsY25rMWMzNjI3Y2xwMzI2dw==</td><td>7544</td><td>7544</td><td>75447544</td><td>null</td><td>null</td><td></td><td>null</td><td>VW5rbm93bg==</td><td>VW5rbm93bg==</td><td>VW5rbm93bg==</td><td>VW5rbm93bg==</td><td>Ti9B</td><td>UEVSU09OX0lE</td><td>MDAyNTBhMTMtYzY4Ny00OTliLWE0YjktYzM2NzQ3Y2JhZjRjXzIwMjMtMDMtMTgtMDkuNDMuMjkuODQ0MDAw</td><td>2023-03-18T09:43:29.844+0000</td><td>MDAyNTBhMTMtYzY4Ny00OTliLWE0YjktYzM2NzQ3Y2JhZjRjXzIwMjMtMDMtMTggMDk6NDM6MjkuODQ0MDAwXzc1NDQ=</td><td>2023-03-18T09:43:29.844+0000</td><td>QjIzRkM2MzU3RTA3NzQ4NEU2RUUzQTczNzUyM0ExNkMuQzAwNjhfTFJfUFVfQ0wwNDYwX00xXzc1NDQ=</td><td>2023-03-18T09:43:29.832+0000</td><td>UFBU</td><td>UGFydGljaXBhbnQ=</td><td>TW96aWxsYS81LjAgKFdpbmRvd3MgTlQgMTAuMDsgV2luNjQ7IHg2NCkgQXBwbGVXZWJLaXQvNTM3LjM2IChLSFRNTCwgbGlrZSBHZWNrbykgQ2hyb21lLzExMS4wLjAuMCBTYWZhcmkvNTM3LjM2IEVkZy8xMTEuMC4xNjYxLjQ= (truncated)</td><td>U2F2aW5ncyBhbmQgUmV0aXJlbWVudA==</td><td>MjAyMy0wMy0xOA==</td><td>2023-03-18T09:43:31.805+0000</td><td>null</td><td>U2F2aW5ncyBhbmQgUmV0aXJlbWVudA==</td><td>REM=</td><td>null</td><td>null</td><td>UG9ydGFsIFBhZ2U=</td><td>1</td><td>R0VU</td><td>U2F2aW5ncyBhbmQgUmV0aXJlbWVudA==</td><td>null</td><td>U2F2aW5ncyAmIFJldGlyZW1lbnQ=</td><td>U2F2aW5ncyBhbmQgUmV0aXJlbWVudA==</td><td>REM=</td><td>null</td><td>null</td><td>UG9ydGFsIFBhZ2U=</td><td>null</td><td>null</td><td>null</td><td>null</td><td>null</td><td>QmFzaWMgTmF2aWdhdGlvbg==</td><td>QmFzaWMgTmF2aWdhdGlvbg==</td><td>QmFzaWMgTmF2aWdhdGlvbg==</td><td>null</td><td>UFBUUFJUTA==</td><td>VVBvaW50</td><td>MjMuMy4xXzEuMA==</td><td>UFBUUFJUTA==</td><td>VVBvaW50</td><td>MjMuMy4xXzEuMA==</td><td>Y3B2ZXBhcHAwMDY4LmJvbHQuYWxpZ2h0LmNvbQ==</td><td>1</td><td>VW5pZGVudGlmaWVk</td><td>VW5rbm93bg==</td><td>Tk9MT0dO</td><td>RGVza3RvcA==</td><td>RW5nbGlzaA==</td><td>0</td><td>1</td><td>0</td><td>0</td><td>0</td><td>0</td><td>0</td><td>1</td><td>0</td><td>0</td><td>0</td><td>0</td><td>1</td><td>0</td><td>0</td><td>0</td><td>U2F2aW5ncyAmIFJldGlyZW1lbnQ=</td><td>U2F2aW5ncyAmIFJldGlyZW1lbnQgTGFuZGluZyA=</td><td>0</td><td>null</td><td>SW50ZXJuYWwgTGluayBDbGljaw==</td><td>2023-03-24T04:10:23.000+0000</td><td>Mm8=</td><td>null</td><td>1960</td><td>VW51c2Vk</td><td>Savings and Retirement</td></tr><tr><td>MjAyRjc2Rjc3MjdEQUVDOUUyMThFMjVGRTMwRTQxODUuQzAwODZfTFJfUFVfQ0wwMDIwX00xXzc2NDEjMjAyMy0wMy0xOCAxMTo1NDowOS4zNzMjMjAyMy0wMy0xOCAxMTo1NDoxMC45NzI=</td><td>d2ViX3Nlc3Npb25faWQjc2Vzc2lvbl9jcmVhdGVfdGltZXN0YW1wX2NzdF90aW1lem9uZSNwYWdlX3Zpc2l0X3RpbWVzdGFtcF9jc3RfdGltZXpvbmU=</td><td>MTc2NDE=</td><td>NzY0MTc2NDEzanhnZW16bjVxaHp2d3pnMWF2YzQyY2xma2R0MDV2Y3lsY25rMWMzNjI3Y2xwMzI2dw==</td><td>7641</td><td>7641</td><td>76417641</td><td>null</td><td>null</td><td></td><td>null</td><td>VW5rbm93bg==</td><td>VW5rbm93bg==</td><td>VW5rbm93bg==</td><td>VW5rbm93bg==</td><td>Ti9B</td><td>UEVSU09OX0lE</td><td>MDAyYzg5ZjQtOTc0YS00YWIyLWEzYjktMDg0NWQ3ODYyYWI3XzIwMjMtMDMtMTgtMTEuNTQuMTAuNzcyMDAw</td><td>2023-03-18T11:54:10.772+0000</td><td>MDAyYzg5ZjQtOTc0YS00YWIyLWEzYjktMDg0NWQ3ODYyYWI3XzIwMjMtMDMtMTggMTE6NTQ6MTAuNzcyMDAwXzc2NDE=</td><td>2023-03-18T11:54:10.772+0000</td><td>MjAyRjc2Rjc3MjdEQUVDOUUyMThFMjVGRTMwRTQxODUuQzAwODZfTFJfUFVfQ0wwMDIwX00xXzc2NDE=</td><td>2023-03-18T11:54:09.373+0000</td><td>UFBU</td><td>UGFydGljaXBhbnQ=</td><td>Y3VybA==</td><td>TG9naW4=</td><td>MjAyMy0wMy0xOA==</td><td>2023-03-18T11:54:10.972+0000</td><td>null</td><td>TG9naW4=</td><td>Q00=</td><td>null</td><td>null</td><td>UG9ydGFsIFBhZ2U=</td><td>1</td><td>R0VU</td><td>TG9naW4=</td><td>null</td><td>QXV0aGVudGljYXRpb24=</td><td>TG9naW4=</td><td>Q00=</td><td>null</td><td>null</td><td>UG9ydGFsIFBhZ2U=</td><td>null</td><td>null</td><td>null</td><td>null</td><td>null</td><td>QmFzaWMgTmF2aWdhdGlvbg==</td><td>QmFzaWMgTmF2aWdhdGlvbg==</td><td>QmFzaWMgTmF2aWdhdGlvbg==</td><td>null</td><td>UFBUUFJUTA==</td><td>VVBvaW50</td><td>MjMuMy4xXzEuMA==</td><td>UFBUUFJUTA==</td><td>VVBvaW50</td><td>MjMuMy4xXzEuMA==</td><td>Y3B2ZXBhcHAwMDg2LmJvbHQuYWxpZ2h0LmNvbQ==</td><td>1</td><td>VW5pZGVudGlmaWVk</td><td>VW5rbm93bg==</td><td>Tk9MT0dO</td><td>RGVza3RvcA==</td><td>RW5nbGlzaA==</td><td>0</td><td>1</td><td>0</td><td>0</td><td>0</td><td>0</td><td>0</td><td>1</td><td>0</td><td>0</td><td>0</td><td>0</td><td>1</td><td>0</td><td>0</td><td>0</td><td>QXV0aGVudGljYXRpb24=</td><td>TG9naW4=</td><td>0</td><td>null</td><td>SW50ZXJuYWwgTGluayBDbGljaw==</td><td>2023-03-24T04:10:23.000+0000</td><td>Mm8=</td><td>null</td><td>200</td><td>VW51c2Vk</td><td>Login</td></tr><tr><td>Q0E1RDQyNjc0MDdENEVENjU4MTZCMkM5RDIyRUEyMTAuQzAwODNfTFJfUFVfQ0wwMjUwX00xXzE0ODcjMjAyMy0wMy0xOCAwMToyMjoyNS42MiMyMDIzLTAzLTE4IDAxOjIyOjI2Ljg2</td><td>d2ViX3Nlc3Npb25faWQjc2Vzc2lvbl9jcmVhdGVfdGltZXN0YW1wX2NzdF90aW1lem9uZSNwYWdlX3Zpc2l0X3RpbWVzdGFtcF9jc3RfdGltZXpvbmU=</td><td>MTE0ODc=</td><td>MTQ4NzE0ODczanhnZW16bjVxaHp2d3pnMWF2YzQyY2xma2R0MDV2Y3lsY25rMWMzNjI3Y2xwMzI2dw==</td><td>1487</td><td>1487</td><td>14871487</td><td>null</td><td>null</td><td></td><td>null</td><td>VW5rbm93bg==</td><td>VW5rbm93bg==</td><td>VW5rbm93bg==</td><td>VW5rbm93bg==</td><td>Ti9B</td><td>UEVSU09OX0lE</td><td>MDA0Y2IzYzctNWFlYS00ZmEyLWIwOWMtYjJjYjMyMmU5YzIxXzIwMjMtMDMtMTgtMDEuMjIuMjUuNjI5MDAw</td><td>2023-03-18T01:22:25.629+0000</td><td>MDA0Y2IzYzctNWFlYS00ZmEyLWIwOWMtYjJjYjMyMmU5YzIxXzIwMjMtMDMtMTggMDE6MjI6MjUuNjI5MDAwXzE0ODc=</td><td>2023-03-18T01:22:25.629+0000</td><td>Q0E1RDQyNjc0MDdENEVENjU4MTZCMkM5RDIyRUEyMTAuQzAwODNfTFJfUFVfQ0wwMjUwX00xXzE0ODc=</td><td>2023-03-18T01:22:25.620+0000</td><td>UFBU</td><td>UGFydGljaXBhbnQ=</td><td>TW96aWxsYS81LjAgKFdpbmRvd3MgTlQgMTAuMDsgV2luNjQ7IHg2NCkgQXBwbGVXZWJLaXQvNTM3LjM2IChLSFRNTCwgbGlrZSBHZWNrbykgQ2hyb21lLzExMC4wLjAuMCBTYWZhcmkvNTM3LjM2IEVkZy8xMTAuMC4xNTg3LjU= (truncated)</td><td>QkFDIFdvcmtkYXkgT3V0YWdl</td><td>MjAyMy0wMy0xOA==</td><td>2023-03-18T01:22:26.860+0000</td><td>null</td><td>QkFDIFdvcmtkYXkgT3V0YWdl</td><td>VW5tYXBwZWQ=</td><td>null</td><td>null</td><td>UG9ydGFsIFBhZ2U=</td><td>1</td><td>R0VU</td><td>QkFDIFdvcmtkYXkgT3V0YWdl</td><td>null</td><td>VW5tYXBwZWQ=</td><td>QkFDIFdvcmtkYXkgT3V0YWdl</td><td>VW5tYXBwZWQ=</td><td>null</td><td>null</td><td>UG9ydGFsIFBhZ2U=</td><td>null</td><td>null</td><td>null</td><td>null</td><td>null</td><td>QmFzaWMgTmF2aWdhdGlvbg==</td><td>QmFzaWMgTmF2aWdhdGlvbg==</td><td>QmFzaWMgTmF2aWdhdGlvbg==</td><td>null</td><td>UFBUUFJUTA==</td><td>VVBvaW50</td><td>MjMuMy4xXzEuMA==</td><td>UFBUUFJUTA==</td><td>VVBvaW50</td><td>MjMuMy4xXzEuMA==</td><td>Y3B2ZXBhcHAwMDgzLmJvbHQuYWxpZ2h0LmNvbQ==</td><td>1</td><td>VW5pZGVudGlmaWVk</td><td>VW5rbm93bg==</td><td>Tk9MT0dO</td><td>RGVza3RvcA==</td><td>RW5nbGlzaA==</td><td>0</td><td>1</td><td>0</td><td>0</td><td>0</td><td>0</td><td>0</td><td>1</td><td>0</td><td>0</td><td>0</td><td>0</td><td>1</td><td>0</td><td>0</td><td>0</td><td>VW5tYXBwZWQ=</td><td>VW5tYXBwZWQ=</td><td>0</td><td>null</td><td>SW50ZXJuYWwgTGluayBDbGljaw==</td><td>2023-03-24T04:10:23.000+0000</td><td>Mm8=</td><td>null</td><td>1230</td><td>VW51c2Vk</td><td>BAC Workday Outage</td></tr><tr><td>RDk4MUU2NjMxQjU4RTI0REYxM0Y5MzcxNEIyQjBFMkEuNDQxMjlfTFJfUFVfQ0wwNTIwX00xXzE5OTUjMjAyMy0wMy0xOCAxOToyNDowMC44OTIjMjAyMy0wMy0xOCAxOToyNDowMi4yNA==</td><td>d2ViX3Nlc3Npb25faWQjc2Vzc2lvbl9jcmVhdGVfdGltZXN0YW1wX2NzdF90aW1lem9uZSNwYWdlX3Zpc2l0X3RpbWVzdGFtcF9jc3RfdGltZXpvbmU=</td><td>MTE5OTU=</td><td>MTk5NTE5OTUzanhnZW16bjVxaHp2d3pnMWF2YzQyY2xma2R0MDV2Y3lsY25rMWMzNjI3Y2xwMzI2dw==</td><td>1995</td><td>1995</td><td>19951995</td><td>MzQ1NDAwMDgw</td><td>MTk5NS8zNDU0MDAwODA=</td><td></td><td>41</td><td>QWN0aXZl</td><td>TUQ=</td><td>Tm9uLVVuaW9u</td><td>MjAzMDA4LjA=</td><td>Ti9B</td><td>UEVSU09OX0lE</td><td>MDA5YjU0NzgtN2FhNy00ZmVmLWFlMzMtOTNkZWY5ZmQyNzZkXzIwMjMtMDMtMTgtMTkuMTQuNDMuOTA3MDAw</td><td>2023-03-18T19:14:43.907+0000</td><td>MDA5YjU0NzgtN2FhNy00ZmVmLWFlMzMtOTNkZWY5ZmQyNzZkXzIwMjMtMDMtMTggMTk6MTQ6NDMuOTA3MDAwXzE5OTU=</td><td>2023-03-18T19:14:43.907+0000</td><td>RDk4MUU2NjMxQjU4RTI0REYxM0Y5MzcxNEIyQjBFMkEuNDQxMjlfTFJfUFVfQ0wwNTIwX00xXzE5OTU=</td><td>2023-03-18T19:24:00.892+0000</td><td>UFBU</td><td>UGFydGljaXBhbnQ=</td><td>TW96aWxsYS81LjAgKFdpbmRvd3MgTlQgMTAuMDsgV2luNjQ7IHg2NCkgQXBwbGVXZWJLaXQvNTM3LjM2IChLSFRNTCwgbGlrZSBHZWNrbykgQ2hyb21lLzExMS4wLjAuMCBTYWZhcmkvNTM3LjM2</td><td>TUlfU1NPX0xPR09VVA==</td><td>MjAyMy0wMy0xOA==</td><td>2023-03-18T19:24:02.240+0000</td><td>null</td><td>TUlfU1NPX0xPR09VVA==</td><td>Q00=</td><td>null</td><td>null</td><td>UG9ydGFsIFBhZ2U=</td><td>3</td><td>R0VU</td><td>TUlfU1NPX0xPR09VVA==</td><td>null</td><td>QXV0aGVudGljYXRpb24=</td><td>TUlfU1NPX0xPR09VVA==</td><td>Q00=</td><td>null</td><td>null</td><td>UG9ydGFsIFBhZ2U=</td><td>null</td><td>null</td><td>null</td><td>null</td><td>null</td><td>QmFzaWMgTmF2aWdhdGlvbg==</td><td>QmFzaWMgTmF2aWdhdGlvbg==</td><td>QmFzaWMgTmF2aWdhdGlvbg==</td><td>null</td><td>UFBUUFJUTA==</td><td>VVBvaW50</td><td>MjMuMy4xXzEuMA==</td><td>UFBUUFJUTA==</td><td>VVBvaW50</td><td>MjMuMy4xXzEuMA==</td><td>bDRkcmVwYXA0MTI5Lmhld2l0dC5jb20=</td><td>4</td><td>RnVsbHkgU2VjdXJlZA==</td><td>U1NPIExvZ29u</td><td>Tk9MT0dO</td><td>RGVza3RvcA==</td><td>RW5nbGlzaA==</td><td>0</td><td>1</td><td>0</td><td>0</td><td>0</td><td>0</td><td>0</td><td>1</td><td>0</td><td>0</td><td>0</td><td>0</td><td>1</td><td>0</td><td>0</td><td>0</td><td>QXV0aGVudGljYXRpb24=</td><td>TG9nT2Zm</td><td>0</td><td>null</td><td>SW50ZXJuYWwgTGluayBDbGljaw==</td><td>2023-03-24T04:10:23.000+0000</td><td>Mm8=</td><td>null</td><td>58</td><td>VW51c2Vk</td><td>MI_SSO_LOGOUT</td></tr><tr><td>NTBEMUIzNkFFQjRBNkUzM0Y5NDIyQjg2N0I3MzJDRjFfMTk5NSMyMDIzLTAzLTE4IDE5OjE0OjQzLjkwNyMyMDIzLTAzLTE4IDE5OjE1OjAxLjU5MjA1</td><td>d2ViX3Nlc3Npb25faWQjc2Vzc2lvbl9jcmVhdGVfdGltZXN0YW1wX2NzdF90aW1lem9uZSNwYWdlX3Zpc2l0X3RpbWVzdGFtcF9jc3RfdGltZXpvbmU=</td><td>MTE5OTU=</td><td>MTk5NTE5OTUzanhnZW16bjVxaHp2d3pnMWF2YzQyY2xma2R0MDV2Y3lsY25rMWMzNjI3Y2xwMzI2dw==</td><td>1995</td><td>1995</td><td>19951995</td><td>MzQ1NDAwMDgw</td><td>MTk5NS8zNDU0MDAwODA=</td><td>MzQ1NDAwMDgw</td><td>41</td><td>QWN0aXZl</td><td>TUQ=</td><td>Tm9uLVVuaW9u</td><td>MjAzMDA4LjA=</td><td>Ti9B</td><td>VEJB</td><td>MDA5YjU0NzgtN2FhNy00ZmVmLWFlMzMtOTNkZWY5ZmQyNzZkXzIwMjMtMDMtMTgtMTkuMTQuNDMuOTA3MDAw</td><td>2023-03-18T19:14:43.907+0000</td><td>MDA5YjU0NzgtN2FhNy00ZmVmLWFlMzMtOTNkZWY5ZmQyNzZkXzIwMjMtMDMtMTggMTk6MTQ6NDMuOTA3MDAwXzE5OTU=</td><td>2023-03-18T19:14:43.907+0000</td><td>NTBEMUIzNkFFQjRBNkUzM0Y5NDIyQjg2N0I3MzJDRjFfMTk5NQ==</td><td>2023-03-18T19:14:43.907+0000</td><td>UFBU</td><td>UGFydGljaXBhbnQ=</td><td>TW96aWxsYS81LjAgKFdpbmRvd3MgTlQgMTAuMDsgV2luNjQ7IHg2NCkgQXBwbGVXZWJLaXQvNTM3LjM2IChLSFRNTCwgbGlrZSBHZWNrbykgQ2hyb21lLzExMS4wLjAuMCBTYWZhcmkvNTM3LjM2</td><td>bmV3aG9tZQ==</td><td>MjAyMy0wMy0xOA==</td><td>2023-03-18T19:15:01.592+0000</td><td>dGhyaXZlLXNtYWxsY2FyZHMtd2lkZ2V0</td><td>bmV3aG9tZQ==</td><td>Q00=</td><td>null</td><td>null</td><td>RXZlbnQ=</td><td>0</td><td>null</td><td>TUlfU1NPX0xPR09VVA==</td><td>null</td><td>QXV0aGVudGljYXRpb24=</td><td>TUlfU1NPX0xPR09VVA==</td><td>Q00=</td><td>null</td><td>null</td><td>UG9ydGFsIFBhZ2U=</td><td>SFJfRGlyZWN0X2E4MWYxMTNhZTJkNg==</td><td>L2RlbGVnYXRlL2xvZ2dpbmc/bGlua1R5cGVObT1zZWNvbmRhcnlXaXRoVGFiU2Nyb2xsJmxua05tPUhSX0RpcmVjdF9hODFmMTEzYWUyZDZfbGluayZsaW5rSWQ9SFJfRGlyZWN0X2E4MWYxMTNhZTJkNl9saW5rJmxuZz0wMTk= (truncated)</td><td>SFIgRGlyZWN0</td><td>Ti9B</td><td>Ti9B</td><td>TGluaw==</td><td>TGluazp0ZHMtY2FyZGdyb3Vw</td><td>null</td><td>null</td><td>VVBO</td><td>VVBvaW50IE5leHQ=</td><td>MTMuMjI1LjFfTkc=</td><td>UFBUUFJUTA==</td><td>VVBvaW50</td><td>MjMuMy4xXzEuMA==</td><td>aHR0cHM6Ly9jYWNoZS5oYWNvbnRlbnQuY29tL3Vwb2ludC9VUG9pbnQvVVBOLU5HMTMvMTMuMjI1LjEv</td><td>4</td><td>RnVsbHkgU2VjdXJlZA==</td><td>U1NPIExvZ29u</td><td>Tk9MT0dO</td><td>RGVza3RvcA==</td><td>RW5nbGlzaA==</td><td>0</td><td>0</td><td>1</td><td>0</td><td>0</td><td>0</td><td>0</td><td>0</td><td>0</td><td>0</td><td>0</td><td>0</td><td>1</td><td>0</td><td>0</td><td>null</td><td>VGhyaXZlIEhvbWU=</td><td>VGhyaXZlIEhvbWU=</td><td>0</td><td>MQ==</td><td>RXh0ZXJuYWwgTGluayBDbGljaw==</td><td>2023-03-24T04:10:23.000+0000</td><td>Mm4=</td><td>null</td><td>null</td><td>VW51c2Vk</td><td>newhome</td></tr><tr><td>NTBEMUIzNkFFQjRBNkUzM0Y5NDIyQjg2N0I3MzJDRjFfMTk5NSMyMDIzLTAzLTE4IDE5OjE0OjQzLjkwNyMyMDIzLTAzLTE4IDE5OjE0OjU2LjcwMTA1</td><td>d2ViX3Nlc3Npb25faWQjc2Vzc2lvbl9jcmVhdGVfdGltZXN0YW1wX2NzdF90aW1lem9uZSNwYWdlX3Zpc2l0X3RpbWVzdGFtcF9jc3RfdGltZXpvbmU=</td><td>MTE5OTU=</td><td>MTk5NTE5OTUzanhnZW16bjVxaHp2d3pnMWF2YzQyY2xma2R0MDV2Y3lsY25rMWMzNjI3Y2xwMzI2dw==</td><td>1995</td><td>1995</td><td>19951995</td><td>MzQ1NDAwMDgw</td><td>MTk5NS8zNDU0MDAwODA=</td><td>MzQ1NDAwMDgw</td><td>41</td><td>QWN0aXZl</td><td>TUQ=</td><td>Tm9uLVVuaW9u</td><td>MjAzMDA4LjA=</td><td>Ti9B</td><td>VEJB</td><td>MDA5YjU0NzgtN2FhNy00ZmVmLWFlMzMtOTNkZWY5ZmQyNzZkXzIwMjMtMDMtMTgtMTkuMTQuNDMuOTA3MDAw</td><td>2023-03-18T19:14:43.907+0000</td><td>MDA5YjU0NzgtN2FhNy00ZmVmLWFlMzMtOTNkZWY5ZmQyNzZkXzIwMjMtMDMtMTggMTk6MTQ6NDMuOTA3MDAwXzE5OTU=</td><td>2023-03-18T19:14:43.907+0000</td><td>NTBEMUIzNkFFQjRBNkUzM0Y5NDIyQjg2N0I3MzJDRjFfMTk5NQ==</td><td>2023-03-18T19:14:43.907+0000</td><td>UFBU</td><td>UGFydGljaXBhbnQ=</td><td>TW96aWxsYS81LjAgKFdpbmRvd3MgTlQgMTAuMDsgV2luNjQ7IHg2NCkgQXBwbGVXZWJLaXQvNTM3LjM2IChLSFRNTCwgbGlrZSBHZWNrbykgQ2hyb21lLzExMS4wLjAuMCBTYWZhcmkvNTM3LjM2</td><td>bmV3aG9tZQ==</td><td>MjAyMy0wMy0xOA==</td><td>2023-03-18T19:14:56.701+0000</td><td>null</td><td>bmV3aG9tZQ==</td><td>Q00=</td><td>null</td><td>null</td><td>VVBOIFBhZ2U=</td><td>1</td><td>null</td><td>TUlfU1NPX0xPR09VVA==</td><td>null</td><td>QXV0aGVudGljYXRpb24=</td><td>TUlfU1NPX0xPR09VVA==</td><td>Q00=</td><td>null</td><td>null</td><td>UG9ydGFsIFBhZ2U=</td><td>null</td><td>null</td><td>bi9h</td><td>Ti9B</td><td>Ti9B</td><td>bi9h</td><td>bi9h</td><td>null</td><td>null</td><td>VVBO</td><td>VVBvaW50IE5leHQ=</td><td>MTMuMjI1LjFfTkc=</td><td>UFBUUFJUTA==</td><td>VVBvaW50</td><td>MjMuMy4xXzEuMA==</td><td>aHR0cHM6Ly9jYWNoZS5oYWNvbnRlbnQuY29tL3Vwb2ludC9VUG9pbnQvVVBOLU5HMTMvMTMuMjI1LjEv</td><td>4</td><td>RnVsbHkgU2VjdXJlZA==</td><td>U1NPIExvZ29u</td><td>Tk9MT0dO</td><td>RGVza3RvcA==</td><td>RW5nbGlzaA==</td><td>546</td><td>1</td><td>0</td><td>0</td><td>0</td><td>0</td><td>0</td><td>0</td><td>0</td><td>0</td><td>0</td><td>0</td><td>1</td><td>0</td><td>0</td><td>null</td><td>VGhyaXZlIEhvbWU=</td><td>VGhyaXZlIEhvbWU=</td><td>0</td><td>null</td><td>UEFHRVZJRVc=</td><td>2023-03-24T04:10:23.000+0000</td><td>Mm4=</td><td>null</td><td>475</td><td>VW51c2Vk</td><td>newhome</td></tr><tr><td>NTBEMUIzNkFFQjRBNkUzM0Y5NDIyQjg2N0I3MzJDRjFfMTk5NSMyMDIzLTAzLTE4IDE5OjE0OjQzLjkwNyMyMDIzLTAzLTE4IDE5OjE0OjUxLjczMjA1</td><td>d2ViX3Nlc3Npb25faWQjc2Vzc2lvbl9jcmVhdGVfdGltZXN0YW1wX2NzdF90aW1lem9uZSNwYWdlX3Zpc2l0X3RpbWVzdGFtcF9jc3RfdGltZXpvbmU=</td><td>MTE5OTU=</td><td>MTk5NTE5OTUzanhnZW16bjVxaHp2d3pnMWF2YzQyY2xma2R0MDV2Y3lsY25rMWMzNjI3Y2xwMzI2dw==</td><td>1995</td><td>1995</td><td>19951995</td><td>MzQ1NDAwMDgw</td><td>MTk5NS8zNDU0MDAwODA=</td><td>MzQ1NDAwMDgw</td><td>41</td><td>QWN0aXZl</td><td>TUQ=</td><td>Tm9uLVVuaW9u</td><td>MjAzMDA4LjA=</td><td>Ti9B</td><td>VEJB</td><td>MDA5YjU0NzgtN2FhNy00ZmVmLWFlMzMtOTNkZWY5ZmQyNzZkXzIwMjMtMDMtMTgtMTkuMTQuNDMuOTA3MDAw</td><td>2023-03-18T19:14:43.907+0000</td><td>MDA5YjU0NzgtN2FhNy00ZmVmLWFlMzMtOTNkZWY5ZmQyNzZkXzIwMjMtMDMtMTggMTk6MTQ6NDMuOTA3MDAwXzE5OTU=</td><td>2023-03-18T19:14:43.907+0000</td><td>NTBEMUIzNkFFQjRBNkUzM0Y5NDIyQjg2N0I3MzJDRjFfMTk5NQ==</td><td>2023-03-18T19:14:43.907+0000</td><td>UFBU</td><td>UGFydGljaXBhbnQ=</td><td>TW96aWxsYS81LjAgKFdpbmRvd3MgTlQgMTAuMDsgV2luNjQ7IHg2NCkgQXBwbGVXZWJLaXQvNTM3LjM2IChLSFRNTCwgbGlrZSBHZWNrbykgQ2hyb21lLzExMS4wLjAuMCBTYWZhcmkvNTM3LjM2</td><td>bmV3aG9tZQ==</td><td>MjAyMy0wMy0xOA==</td><td>2023-03-18T19:14:51.732+0000</td><td>dGhyaXZlLXJlbGF0ZWRwcm9tb3Rpb25zLXdpZGdldA==</td><td>bmV3aG9tZQ==</td><td>Q00=</td><td>null</td><td>null</td><td>RXZlbnQ=</td><td>0</td><td>null</td><td>TUlfU1NPX0xPR09VVA==</td><td>null</td><td>QXV0aGVudGljYXRpb24=</td><td>TUlfU1NPX0xPR09VVA==</td><td>Q00=</td><td>null</td><td>null</td><td>UG9ydGFsIFBhZ2U=</td><td>Q0lDX1BsdXNfU1NPX0xpbmtfNDE0ZDNhYTAzNzY5</td><td>null</td><td>WW91ciBGb3JtIDEwOTUgcHJvb2Ygb2YgaGVhbHRoIGluc3VyYW5jZSBpcyByZWFkeS4=</td><td>Ti9B</td><td>Ti9B</td><td>UmVuZGVy</td><td>UmVuZGVy</td><td>null</td><td>null</td><td>VVBO</td><td>VVBvaW50IE5leHQ=</td><td>MTMuMjI1LjFfTkc=</td><td>UFBUUFJUTA==</td><td>VVBvaW50</td><td>MjMuMy4xXzEuMA==</td><td>aHR0cHM6Ly9jYWNoZS5oYWNvbnRlbnQuY29tL3Vwb2ludC9VUG9pbnQvVVBOLU5HMTMvMTMuMjI1LjEv</td><td>4</td><td>RnVsbHkgU2VjdXJlZA==</td><td>U1NPIExvZ29u</td><td>Tk9MT0dO</td><td>RGVza3RvcA==</td><td>RW5nbGlzaA==</td><td>0</td><td>0</td><td>1</td><td>0</td><td>0</td><td>0</td><td>0</td><td>0</td><td>0</td><td>0</td><td>0</td><td>0</td><td>1</td><td>0</td><td>0</td><td>null</td><td>VGhyaXZlIEhvbWU=</td><td>VGhyaXZlIEhvbWU=</td><td>0</td><td>NA==</td><td>UkVOREVS</td><td>2023-03-24T04:10:23.000+0000</td><td>Mm4=</td><td>null</td><td>null</td><td>VW51c2Vk</td><td>newhome</td></tr><tr><td>NTBEMUIzNkFFQjRBNkUzM0Y5NDIyQjg2N0I3MzJDRjFfMTk5NSMyMDIzLTAzLTE4IDE5OjE0OjQzLjkwNyMyMDIzLTAzLTE4IDE5OjE0OjUxLjczMjA1</td><td>d2ViX3Nlc3Npb25faWQjc2Vzc2lvbl9jcmVhdGVfdGltZXN0YW1wX2NzdF90aW1lem9uZSNwYWdlX3Zpc2l0X3RpbWVzdGFtcF9jc3RfdGltZXpvbmU=</td><td>MTE5OTU=</td><td>MTk5NTE5OTUzanhnZW16bjVxaHp2d3pnMWF2YzQyY2xma2R0MDV2Y3lsY25rMWMzNjI3Y2xwMzI2dw==</td><td>1995</td><td>1995</td><td>19951995</td><td>MzQ1NDAwMDgw</td><td>MTk5NS8zNDU0MDAwODA=</td><td>MzQ1NDAwMDgw</td><td>41</td><td>QWN0aXZl</td><td>TUQ=</td><td>Tm9uLVVuaW9u</td><td>MjAzMDA4LjA=</td><td>Ti9B</td><td>VEJB</td><td>MDA5YjU0NzgtN2FhNy00ZmVmLWFlMzMtOTNkZWY5ZmQyNzZkXzIwMjMtMDMtMTgtMTkuMTQuNDMuOTA3MDAw</td><td>2023-03-18T19:14:43.907+0000</td><td>MDA5YjU0NzgtN2FhNy00ZmVmLWFlMzMtOTNkZWY5ZmQyNzZkXzIwMjMtMDMtMTggMTk6MTQ6NDMuOTA3MDAwXzE5OTU=</td><td>2023-03-18T19:14:43.907+0000</td><td>NTBEMUIzNkFFQjRBNkUzM0Y5NDIyQjg2N0I3MzJDRjFfMTk5NQ==</td><td>2023-03-18T19:14:43.907+0000</td><td>UFBU</td><td>UGFydGljaXBhbnQ=</td><td>TW96aWxsYS81LjAgKFdpbmRvd3MgTlQgMTAuMDsgV2luNjQ7IHg2NCkgQXBwbGVXZWJLaXQvNTM3LjM2IChLSFRNTCwgbGlrZSBHZWNrbykgQ2hyb21lLzExMS4wLjAuMCBTYWZhcmkvNTM3LjM2</td><td>bmV3aG9tZQ==</td><td>MjAyMy0wMy0xOA==</td><td>2023-03-18T19:14:51.732+0000</td><td>dGhyaXZlLXJlbGF0ZWRwcm9tb3Rpb25zLXdpZGdldA==</td><td>bmV3aG9tZQ==</td><td>Q00=</td><td>null</td><td>null</td><td>RXZlbnQ=</td><td>0</td><td>null</td><td>TUlfU1NPX0xPR09VVA==</td><td>null</td><td>QXV0aGVudGljYXRpb24=</td><td>TUlfU1NPX0xPR09VVA==</td><td>Q00=</td><td>null</td><td>null</td><td>UG9ydGFsIFBhZ2U=</td><td>UHJpb3JpdGl6ZV9Zb3VyX01lbnRhbF9IZWFsdGhfXzRkYjM0ZTUyNGUzOQ==</td><td>null</td><td>UHJpb3JpdGl6ZSBZb3VyIE1lbnRhbCBIZWFsdGg=</td><td>Ti9B</td><td>Ti9B</td><td>UmVuZGVy</td><td>UmVuZGVy</td><td>null</td><td>null</td><td>VVBO</td><td>VVBvaW50IE5leHQ=</td><td>MTMuMjI1LjFfTkc=</td><td>UFBUUFJUTA==</td><td>VVBvaW50</td><td>MjMuMy4xXzEuMA==</td><td>aHR0cHM6Ly9jYWNoZS5oYWNvbnRlbnQuY29tL3Vwb2ludC9VUG9pbnQvVVBOLU5HMTMvMTMuMjI1LjEv</td><td>4</td><td>RnVsbHkgU2VjdXJlZA==</td><td>U1NPIExvZ29u</td><td>Tk9MT0dO</td><td>RGVza3RvcA==</td><td>RW5nbGlzaA==</td><td>0</td><td>0</td><td>1</td><td>0</td><td>0</td><td>0</td><td>0</td><td>0</td><td>0</td><td>0</td><td>0</td><td>0</td><td>1</td><td>0</td><td>0</td><td>null</td><td>VGhyaXZlIEhvbWU=</td><td>VGhyaXZlIEhvbWU=</td><td>0</td><td>Mw==</td><td>UkVOREVS</td><td>2023-03-24T04:10:23.000+0000</td><td>Mm4=</td><td>null</td><td>null</td><td>VW51c2Vk</td><td>newhome</td></tr></tbody></table></div>"
      ]
     },
     "metadata": {
      "application/vnd.databricks.v1+output": {
       "addedWidgets": {},
       "aggData": [],
       "aggError": "",
       "aggOverflow": false,
       "aggSchema": [],
       "aggSeriesLimitReached": false,
       "aggType": "",
       "arguments": {},
       "columnCustomDisplayInfos": {},
       "data": [
        [
         "LVYwaUxWWlczaVo5RTRSTnhxZHhnLWJfNzU0NCMyMDIzLTAzLTE4IDE5OjMxOjE3LjIyMyMyMDIzLTAzLTE4IDE5OjMxOjE3LjI0Nw==",
         "d2ViX3Nlc3Npb25faWQjc2Vzc2lvbl9jcmVhdGVfdGltZXN0YW1wX2NzdF90aW1lem9uZSNwYWdlX3Zpc2l0X3RpbWVzdGFtcF9jc3RfdGltZXpvbmU=",
         "MTc1NDQ=",
         "NzU0NDc1NDQzanhnZW16bjVxaHp2d3pnMWF2YzQyY2xma2R0MDV2Y3lsY25rMWMzNjI3Y2xwMzI2dw==",
         7544,
         7544,
         75447544,
         null,
         null,
         null,
         null,
         "VW5rbm93bg==",
         "VW5rbm93bg==",
         "VW5rbm93bg==",
         "VW5rbm93bg==",
         "Ti9B",
         "UEVSU09OX0lE",
         null,
         "2023-03-18T19:31:17.223+0000",
         "LVYwaUxWWlczaVo5RTRSTnhxZHhnLWJfMjAyMy0wMy0xOCAxOTozMToxNy4yMjMwMDBfNzU0NA==",
         "2023-03-18T19:31:17.223+0000",
         "LVYwaUxWWlczaVo5RTRSTnhxZHhnLWJfNzU0NA==",
         "2023-03-18T19:31:17.223+0000",
         "UFBU",
         "UGFydGljaXBhbnQ=",
         "TW96aWxsYS81LjAgKE1hY2ludG9zaDsgSW50ZWwgTWFjIE9TIFggMTAuMTU7IHJ2OjEwOS4wKSBHZWNrby8yMDEwMDEwMSBGaXJlZm94LzExMC4w",
         "L0NzRXJyMjAwRGZsdENydGNPcGVu",
         "MjAyMy0wMy0xOA==",
         "2023-03-18T19:31:17.247+0000",
         null,
         "Q1NFUlIyMDBERkxUQ1JUQ09QRU4=",
         "Q00=",
         "RVI=",
         "RXJyb3I=",
         "UGFnZQ==",
         0,
         "R0VU",
         "L0NzRXJyMjAwRGZsdENydGNPcGVu",
         null,
         "RXJyb3IgUGFnZQ==",
         "Q1NFUlIyMDBERkxUQ1JUQ09QRU4=",
         "Q00=",
         "RVI=",
         "RXJyb3I=",
         "UGFnZQ==",
         null,
         null,
         null,
         null,
         null,
         "QmFzaWMgTmF2aWdhdGlvbg==",
         "QmFzaWMgTmF2aWdhdGlvbg==",
         "QmFzaWMgTmF2aWdhdGlvbg==",
         "cHJpbWFyeQ==",
         "WUJS",
         "WUJS",
         "NS4xNi44OQ==",
         "WUJS",
         "WUJS",
         "NS4xNi44OQ==",
         "bDRzZXBhMDguaGV3aXR0LmNvbQ==",
         1,
         "VW5pZGVudGlmaWVk",
         "VW5rbm93bg==",
         "Tk9MT0dO",
         "T3RoZXI=",
         "RW5nbGlzaA==",
         0,
         1,
         0,
         0,
         1,
         0,
         0,
         1,
         0,
         0,
         0,
         0,
         0,
         0,
         0,
         14208,
         "RXJyb3IgUGFnZQ==",
         null,
         0,
         null,
         "SW50ZXJuYWwgTGluayBDbGljaw==",
         "2023-03-24T04:10:23.000+0000",
         "MnA=",
         null,
         0,
         "VW51c2Vk",
         "CSERR200DFLTCRTCOPEN"
        ],
        [
         "Q0RDRTA1Q0FEMTNBRjIxQjY0QTREM0RFRjRGMzhFNjIuODE4OTVfTFJfUFVfQ0wwMzAwX00xXzEyODMjMjAyMy0wMy0xOCAxMzowODoxNS4xNzQjMjAyMy0wMy0xOCAxMzowODoxNi4yNzc=",
         "d2ViX3Nlc3Npb25faWQjc2Vzc2lvbl9jcmVhdGVfdGltZXN0YW1wX2NzdF90aW1lem9uZSNwYWdlX3Zpc2l0X3RpbWVzdGFtcF9jc3RfdGltZXpvbmU=",
         "MTEyODM=",
         "MTI4MzEyODMzanhnZW16bjVxaHp2d3pnMWF2YzQyY2xma2R0MDV2Y3lsY25rMWMzNjI3Y2xwMzI2dw==",
         1283,
         1283,
         12831283,
         null,
         null,
         "",
         null,
         "VW5rbm93bg==",
         "VW5rbm93bg==",
         "VW5rbm93bg==",
         "VW5rbm93bg==",
         "Ti9B",
         "UEVSU09OX0lE",
         "MDAxYzdiMzUtY2FhZi00YzM5LWEzZjctZWRkMDdkN2Q3YmU4XzIwMjMtMDMtMTgtMTMuMDguMTUuMTgzMDAw",
         "2023-03-18T13:08:15.183+0000",
         "MDAxYzdiMzUtY2FhZi00YzM5LWEzZjctZWRkMDdkN2Q3YmU4XzIwMjMtMDMtMTggMTM6MDg6MTUuMTgzMDAwXzEyODM=",
         "2023-03-18T13:08:15.183+0000",
         "Q0RDRTA1Q0FEMTNBRjIxQjY0QTREM0RFRjRGMzhFNjIuODE4OTVfTFJfUFVfQ0wwMzAwX00xXzEyODM=",
         "2023-03-18T13:08:15.174+0000",
         "UFBU",
         "UGFydGljaXBhbnQ=",
         "TW96aWxsYS81LjAgKE1hY2ludG9zaDsgSW50ZWwgTWFjIE9TIFggMTBfMTVfNykgQXBwbGVXZWJLaXQvNjA1LjEuMTUgKEtIVE1MLCBsaWtlIEdlY2tvKQ==",
         "TG9naW4=",
         "MjAyMy0wMy0xOA==",
         "2023-03-18T13:08:16.277+0000",
         null,
         "TG9naW4=",
         "Q00=",
         null,
         null,
         "UG9ydGFsIFBhZ2U=",
         1,
         "R0VU",
         "TG9naW4=",
         null,
         "QXV0aGVudGljYXRpb24=",
         "TG9naW4=",
         "Q00=",
         null,
         null,
         "UG9ydGFsIFBhZ2U=",
         null,
         null,
         null,
         null,
         null,
         "QmFzaWMgTmF2aWdhdGlvbg==",
         "QmFzaWMgTmF2aWdhdGlvbg==",
         "QmFzaWMgTmF2aWdhdGlvbg==",
         null,
         "UFBUUFJUTA==",
         "VVBvaW50",
         "MjMuMy4xXzEuMA==",
         "UFBUUFJUTA==",
         "VVBvaW50",
         "MjMuMy4xXzEuMA==",
         "bDk4cmVwYXAxODk1Lmhld2l0dC5jb20=",
         1,
         "VW5pZGVudGlmaWVk",
         "VW5rbm93bg==",
         "Tk9MT0dO",
         "RGVza3RvcA==",
         "RW5nbGlzaA==",
         0,
         1,
         0,
         0,
         0,
         0,
         0,
         1,
         0,
         0,
         0,
         0,
         1,
         0,
         0,
         0,
         "QXV0aGVudGljYXRpb24=",
         "TG9naW4=",
         0,
         null,
         "SW50ZXJuYWwgTGluayBDbGljaw==",
         "2023-03-24T04:10:23.000+0000",
         "Mm8=",
         null,
         1094,
         "VW51c2Vk",
         "Login"
        ],
        [
         "QjIzRkM2MzU3RTA3NzQ4NEU2RUUzQTczNzUyM0ExNkMuQzAwNjhfTFJfUFVfQ0wwNDYwX00xXzc1NDQjMjAyMy0wMy0xOCAwOTo0MzoyOS44MzIjMjAyMy0wMy0xOCAwOTo0MzozMS44MDU=",
         "d2ViX3Nlc3Npb25faWQjc2Vzc2lvbl9jcmVhdGVfdGltZXN0YW1wX2NzdF90aW1lem9uZSNwYWdlX3Zpc2l0X3RpbWVzdGFtcF9jc3RfdGltZXpvbmU=",
         "MTc1NDQ=",
         "NzU0NDc1NDQzanhnZW16bjVxaHp2d3pnMWF2YzQyY2xma2R0MDV2Y3lsY25rMWMzNjI3Y2xwMzI2dw==",
         7544,
         7544,
         75447544,
         null,
         null,
         "",
         null,
         "VW5rbm93bg==",
         "VW5rbm93bg==",
         "VW5rbm93bg==",
         "VW5rbm93bg==",
         "Ti9B",
         "UEVSU09OX0lE",
         "MDAyNTBhMTMtYzY4Ny00OTliLWE0YjktYzM2NzQ3Y2JhZjRjXzIwMjMtMDMtMTgtMDkuNDMuMjkuODQ0MDAw",
         "2023-03-18T09:43:29.844+0000",
         "MDAyNTBhMTMtYzY4Ny00OTliLWE0YjktYzM2NzQ3Y2JhZjRjXzIwMjMtMDMtMTggMDk6NDM6MjkuODQ0MDAwXzc1NDQ=",
         "2023-03-18T09:43:29.844+0000",
         "QjIzRkM2MzU3RTA3NzQ4NEU2RUUzQTczNzUyM0ExNkMuQzAwNjhfTFJfUFVfQ0wwNDYwX00xXzc1NDQ=",
         "2023-03-18T09:43:29.832+0000",
         "UFBU",
         "UGFydGljaXBhbnQ=",
         "TW96aWxsYS81LjAgKFdpbmRvd3MgTlQgMTAuMDsgV2luNjQ7IHg2NCkgQXBwbGVXZWJLaXQvNTM3LjM2IChLSFRNTCwgbGlrZSBHZWNrbykgQ2hyb21lLzExMS4wLjAuMCBTYWZhcmkvNTM3LjM2IEVkZy8xMTEuMC4xNjYxLjQ= (truncated)",
         "U2F2aW5ncyBhbmQgUmV0aXJlbWVudA==",
         "MjAyMy0wMy0xOA==",
         "2023-03-18T09:43:31.805+0000",
         null,
         "U2F2aW5ncyBhbmQgUmV0aXJlbWVudA==",
         "REM=",
         null,
         null,
         "UG9ydGFsIFBhZ2U=",
         1,
         "R0VU",
         "U2F2aW5ncyBhbmQgUmV0aXJlbWVudA==",
         null,
         "U2F2aW5ncyAmIFJldGlyZW1lbnQ=",
         "U2F2aW5ncyBhbmQgUmV0aXJlbWVudA==",
         "REM=",
         null,
         null,
         "UG9ydGFsIFBhZ2U=",
         null,
         null,
         null,
         null,
         null,
         "QmFzaWMgTmF2aWdhdGlvbg==",
         "QmFzaWMgTmF2aWdhdGlvbg==",
         "QmFzaWMgTmF2aWdhdGlvbg==",
         null,
         "UFBUUFJUTA==",
         "VVBvaW50",
         "MjMuMy4xXzEuMA==",
         "UFBUUFJUTA==",
         "VVBvaW50",
         "MjMuMy4xXzEuMA==",
         "Y3B2ZXBhcHAwMDY4LmJvbHQuYWxpZ2h0LmNvbQ==",
         1,
         "VW5pZGVudGlmaWVk",
         "VW5rbm93bg==",
         "Tk9MT0dO",
         "RGVza3RvcA==",
         "RW5nbGlzaA==",
         0,
         1,
         0,
         0,
         0,
         0,
         0,
         1,
         0,
         0,
         0,
         0,
         1,
         0,
         0,
         0,
         "U2F2aW5ncyAmIFJldGlyZW1lbnQ=",
         "U2F2aW5ncyAmIFJldGlyZW1lbnQgTGFuZGluZyA=",
         0,
         null,
         "SW50ZXJuYWwgTGluayBDbGljaw==",
         "2023-03-24T04:10:23.000+0000",
         "Mm8=",
         null,
         1960,
         "VW51c2Vk",
         "Savings and Retirement"
        ],
        [
         "MjAyRjc2Rjc3MjdEQUVDOUUyMThFMjVGRTMwRTQxODUuQzAwODZfTFJfUFVfQ0wwMDIwX00xXzc2NDEjMjAyMy0wMy0xOCAxMTo1NDowOS4zNzMjMjAyMy0wMy0xOCAxMTo1NDoxMC45NzI=",
         "d2ViX3Nlc3Npb25faWQjc2Vzc2lvbl9jcmVhdGVfdGltZXN0YW1wX2NzdF90aW1lem9uZSNwYWdlX3Zpc2l0X3RpbWVzdGFtcF9jc3RfdGltZXpvbmU=",
         "MTc2NDE=",
         "NzY0MTc2NDEzanhnZW16bjVxaHp2d3pnMWF2YzQyY2xma2R0MDV2Y3lsY25rMWMzNjI3Y2xwMzI2dw==",
         7641,
         7641,
         76417641,
         null,
         null,
         "",
         null,
         "VW5rbm93bg==",
         "VW5rbm93bg==",
         "VW5rbm93bg==",
         "VW5rbm93bg==",
         "Ti9B",
         "UEVSU09OX0lE",
         "MDAyYzg5ZjQtOTc0YS00YWIyLWEzYjktMDg0NWQ3ODYyYWI3XzIwMjMtMDMtMTgtMTEuNTQuMTAuNzcyMDAw",
         "2023-03-18T11:54:10.772+0000",
         "MDAyYzg5ZjQtOTc0YS00YWIyLWEzYjktMDg0NWQ3ODYyYWI3XzIwMjMtMDMtMTggMTE6NTQ6MTAuNzcyMDAwXzc2NDE=",
         "2023-03-18T11:54:10.772+0000",
         "MjAyRjc2Rjc3MjdEQUVDOUUyMThFMjVGRTMwRTQxODUuQzAwODZfTFJfUFVfQ0wwMDIwX00xXzc2NDE=",
         "2023-03-18T11:54:09.373+0000",
         "UFBU",
         "UGFydGljaXBhbnQ=",
         "Y3VybA==",
         "TG9naW4=",
         "MjAyMy0wMy0xOA==",
         "2023-03-18T11:54:10.972+0000",
         null,
         "TG9naW4=",
         "Q00=",
         null,
         null,
         "UG9ydGFsIFBhZ2U=",
         1,
         "R0VU",
         "TG9naW4=",
         null,
         "QXV0aGVudGljYXRpb24=",
         "TG9naW4=",
         "Q00=",
         null,
         null,
         "UG9ydGFsIFBhZ2U=",
         null,
         null,
         null,
         null,
         null,
         "QmFzaWMgTmF2aWdhdGlvbg==",
         "QmFzaWMgTmF2aWdhdGlvbg==",
         "QmFzaWMgTmF2aWdhdGlvbg==",
         null,
         "UFBUUFJUTA==",
         "VVBvaW50",
         "MjMuMy4xXzEuMA==",
         "UFBUUFJUTA==",
         "VVBvaW50",
         "MjMuMy4xXzEuMA==",
         "Y3B2ZXBhcHAwMDg2LmJvbHQuYWxpZ2h0LmNvbQ==",
         1,
         "VW5pZGVudGlmaWVk",
         "VW5rbm93bg==",
         "Tk9MT0dO",
         "RGVza3RvcA==",
         "RW5nbGlzaA==",
         0,
         1,
         0,
         0,
         0,
         0,
         0,
         1,
         0,
         0,
         0,
         0,
         1,
         0,
         0,
         0,
         "QXV0aGVudGljYXRpb24=",
         "TG9naW4=",
         0,
         null,
         "SW50ZXJuYWwgTGluayBDbGljaw==",
         "2023-03-24T04:10:23.000+0000",
         "Mm8=",
         null,
         200,
         "VW51c2Vk",
         "Login"
        ],
        [
         "Q0E1RDQyNjc0MDdENEVENjU4MTZCMkM5RDIyRUEyMTAuQzAwODNfTFJfUFVfQ0wwMjUwX00xXzE0ODcjMjAyMy0wMy0xOCAwMToyMjoyNS42MiMyMDIzLTAzLTE4IDAxOjIyOjI2Ljg2",
         "d2ViX3Nlc3Npb25faWQjc2Vzc2lvbl9jcmVhdGVfdGltZXN0YW1wX2NzdF90aW1lem9uZSNwYWdlX3Zpc2l0X3RpbWVzdGFtcF9jc3RfdGltZXpvbmU=",
         "MTE0ODc=",
         "MTQ4NzE0ODczanhnZW16bjVxaHp2d3pnMWF2YzQyY2xma2R0MDV2Y3lsY25rMWMzNjI3Y2xwMzI2dw==",
         1487,
         1487,
         14871487,
         null,
         null,
         "",
         null,
         "VW5rbm93bg==",
         "VW5rbm93bg==",
         "VW5rbm93bg==",
         "VW5rbm93bg==",
         "Ti9B",
         "UEVSU09OX0lE",
         "MDA0Y2IzYzctNWFlYS00ZmEyLWIwOWMtYjJjYjMyMmU5YzIxXzIwMjMtMDMtMTgtMDEuMjIuMjUuNjI5MDAw",
         "2023-03-18T01:22:25.629+0000",
         "MDA0Y2IzYzctNWFlYS00ZmEyLWIwOWMtYjJjYjMyMmU5YzIxXzIwMjMtMDMtMTggMDE6MjI6MjUuNjI5MDAwXzE0ODc=",
         "2023-03-18T01:22:25.629+0000",
         "Q0E1RDQyNjc0MDdENEVENjU4MTZCMkM5RDIyRUEyMTAuQzAwODNfTFJfUFVfQ0wwMjUwX00xXzE0ODc=",
         "2023-03-18T01:22:25.620+0000",
         "UFBU",
         "UGFydGljaXBhbnQ=",
         "TW96aWxsYS81LjAgKFdpbmRvd3MgTlQgMTAuMDsgV2luNjQ7IHg2NCkgQXBwbGVXZWJLaXQvNTM3LjM2IChLSFRNTCwgbGlrZSBHZWNrbykgQ2hyb21lLzExMC4wLjAuMCBTYWZhcmkvNTM3LjM2IEVkZy8xMTAuMC4xNTg3LjU= (truncated)",
         "QkFDIFdvcmtkYXkgT3V0YWdl",
         "MjAyMy0wMy0xOA==",
         "2023-03-18T01:22:26.860+0000",
         null,
         "QkFDIFdvcmtkYXkgT3V0YWdl",
         "VW5tYXBwZWQ=",
         null,
         null,
         "UG9ydGFsIFBhZ2U=",
         1,
         "R0VU",
         "QkFDIFdvcmtkYXkgT3V0YWdl",
         null,
         "VW5tYXBwZWQ=",
         "QkFDIFdvcmtkYXkgT3V0YWdl",
         "VW5tYXBwZWQ=",
         null,
         null,
         "UG9ydGFsIFBhZ2U=",
         null,
         null,
         null,
         null,
         null,
         "QmFzaWMgTmF2aWdhdGlvbg==",
         "QmFzaWMgTmF2aWdhdGlvbg==",
         "QmFzaWMgTmF2aWdhdGlvbg==",
         null,
         "UFBUUFJUTA==",
         "VVBvaW50",
         "MjMuMy4xXzEuMA==",
         "UFBUUFJUTA==",
         "VVBvaW50",
         "MjMuMy4xXzEuMA==",
         "Y3B2ZXBhcHAwMDgzLmJvbHQuYWxpZ2h0LmNvbQ==",
         1,
         "VW5pZGVudGlmaWVk",
         "VW5rbm93bg==",
         "Tk9MT0dO",
         "RGVza3RvcA==",
         "RW5nbGlzaA==",
         0,
         1,
         0,
         0,
         0,
         0,
         0,
         1,
         0,
         0,
         0,
         0,
         1,
         0,
         0,
         0,
         "VW5tYXBwZWQ=",
         "VW5tYXBwZWQ=",
         0,
         null,
         "SW50ZXJuYWwgTGluayBDbGljaw==",
         "2023-03-24T04:10:23.000+0000",
         "Mm8=",
         null,
         1230,
         "VW51c2Vk",
         "BAC Workday Outage"
        ],
        [
         "RDk4MUU2NjMxQjU4RTI0REYxM0Y5MzcxNEIyQjBFMkEuNDQxMjlfTFJfUFVfQ0wwNTIwX00xXzE5OTUjMjAyMy0wMy0xOCAxOToyNDowMC44OTIjMjAyMy0wMy0xOCAxOToyNDowMi4yNA==",
         "d2ViX3Nlc3Npb25faWQjc2Vzc2lvbl9jcmVhdGVfdGltZXN0YW1wX2NzdF90aW1lem9uZSNwYWdlX3Zpc2l0X3RpbWVzdGFtcF9jc3RfdGltZXpvbmU=",
         "MTE5OTU=",
         "MTk5NTE5OTUzanhnZW16bjVxaHp2d3pnMWF2YzQyY2xma2R0MDV2Y3lsY25rMWMzNjI3Y2xwMzI2dw==",
         1995,
         1995,
         19951995,
         "MzQ1NDAwMDgw",
         "MTk5NS8zNDU0MDAwODA=",
         "",
         41,
         "QWN0aXZl",
         "TUQ=",
         "Tm9uLVVuaW9u",
         "MjAzMDA4LjA=",
         "Ti9B",
         "UEVSU09OX0lE",
         "MDA5YjU0NzgtN2FhNy00ZmVmLWFlMzMtOTNkZWY5ZmQyNzZkXzIwMjMtMDMtMTgtMTkuMTQuNDMuOTA3MDAw",
         "2023-03-18T19:14:43.907+0000",
         "MDA5YjU0NzgtN2FhNy00ZmVmLWFlMzMtOTNkZWY5ZmQyNzZkXzIwMjMtMDMtMTggMTk6MTQ6NDMuOTA3MDAwXzE5OTU=",
         "2023-03-18T19:14:43.907+0000",
         "RDk4MUU2NjMxQjU4RTI0REYxM0Y5MzcxNEIyQjBFMkEuNDQxMjlfTFJfUFVfQ0wwNTIwX00xXzE5OTU=",
         "2023-03-18T19:24:00.892+0000",
         "UFBU",
         "UGFydGljaXBhbnQ=",
         "TW96aWxsYS81LjAgKFdpbmRvd3MgTlQgMTAuMDsgV2luNjQ7IHg2NCkgQXBwbGVXZWJLaXQvNTM3LjM2IChLSFRNTCwgbGlrZSBHZWNrbykgQ2hyb21lLzExMS4wLjAuMCBTYWZhcmkvNTM3LjM2",
         "TUlfU1NPX0xPR09VVA==",
         "MjAyMy0wMy0xOA==",
         "2023-03-18T19:24:02.240+0000",
         null,
         "TUlfU1NPX0xPR09VVA==",
         "Q00=",
         null,
         null,
         "UG9ydGFsIFBhZ2U=",
         3,
         "R0VU",
         "TUlfU1NPX0xPR09VVA==",
         null,
         "QXV0aGVudGljYXRpb24=",
         "TUlfU1NPX0xPR09VVA==",
         "Q00=",
         null,
         null,
         "UG9ydGFsIFBhZ2U=",
         null,
         null,
         null,
         null,
         null,
         "QmFzaWMgTmF2aWdhdGlvbg==",
         "QmFzaWMgTmF2aWdhdGlvbg==",
         "QmFzaWMgTmF2aWdhdGlvbg==",
         null,
         "UFBUUFJUTA==",
         "VVBvaW50",
         "MjMuMy4xXzEuMA==",
         "UFBUUFJUTA==",
         "VVBvaW50",
         "MjMuMy4xXzEuMA==",
         "bDRkcmVwYXA0MTI5Lmhld2l0dC5jb20=",
         4,
         "RnVsbHkgU2VjdXJlZA==",
         "U1NPIExvZ29u",
         "Tk9MT0dO",
         "RGVza3RvcA==",
         "RW5nbGlzaA==",
         0,
         1,
         0,
         0,
         0,
         0,
         0,
         1,
         0,
         0,
         0,
         0,
         1,
         0,
         0,
         0,
         "QXV0aGVudGljYXRpb24=",
         "TG9nT2Zm",
         0,
         null,
         "SW50ZXJuYWwgTGluayBDbGljaw==",
         "2023-03-24T04:10:23.000+0000",
         "Mm8=",
         null,
         58,
         "VW51c2Vk",
         "MI_SSO_LOGOUT"
        ],
        [
         "NTBEMUIzNkFFQjRBNkUzM0Y5NDIyQjg2N0I3MzJDRjFfMTk5NSMyMDIzLTAzLTE4IDE5OjE0OjQzLjkwNyMyMDIzLTAzLTE4IDE5OjE1OjAxLjU5MjA1",
         "d2ViX3Nlc3Npb25faWQjc2Vzc2lvbl9jcmVhdGVfdGltZXN0YW1wX2NzdF90aW1lem9uZSNwYWdlX3Zpc2l0X3RpbWVzdGFtcF9jc3RfdGltZXpvbmU=",
         "MTE5OTU=",
         "MTk5NTE5OTUzanhnZW16bjVxaHp2d3pnMWF2YzQyY2xma2R0MDV2Y3lsY25rMWMzNjI3Y2xwMzI2dw==",
         1995,
         1995,
         19951995,
         "MzQ1NDAwMDgw",
         "MTk5NS8zNDU0MDAwODA=",
         "MzQ1NDAwMDgw",
         41,
         "QWN0aXZl",
         "TUQ=",
         "Tm9uLVVuaW9u",
         "MjAzMDA4LjA=",
         "Ti9B",
         "VEJB",
         "MDA5YjU0NzgtN2FhNy00ZmVmLWFlMzMtOTNkZWY5ZmQyNzZkXzIwMjMtMDMtMTgtMTkuMTQuNDMuOTA3MDAw",
         "2023-03-18T19:14:43.907+0000",
         "MDA5YjU0NzgtN2FhNy00ZmVmLWFlMzMtOTNkZWY5ZmQyNzZkXzIwMjMtMDMtMTggMTk6MTQ6NDMuOTA3MDAwXzE5OTU=",
         "2023-03-18T19:14:43.907+0000",
         "NTBEMUIzNkFFQjRBNkUzM0Y5NDIyQjg2N0I3MzJDRjFfMTk5NQ==",
         "2023-03-18T19:14:43.907+0000",
         "UFBU",
         "UGFydGljaXBhbnQ=",
         "TW96aWxsYS81LjAgKFdpbmRvd3MgTlQgMTAuMDsgV2luNjQ7IHg2NCkgQXBwbGVXZWJLaXQvNTM3LjM2IChLSFRNTCwgbGlrZSBHZWNrbykgQ2hyb21lLzExMS4wLjAuMCBTYWZhcmkvNTM3LjM2",
         "bmV3aG9tZQ==",
         "MjAyMy0wMy0xOA==",
         "2023-03-18T19:15:01.592+0000",
         "dGhyaXZlLXNtYWxsY2FyZHMtd2lkZ2V0",
         "bmV3aG9tZQ==",
         "Q00=",
         null,
         null,
         "RXZlbnQ=",
         0,
         null,
         "TUlfU1NPX0xPR09VVA==",
         null,
         "QXV0aGVudGljYXRpb24=",
         "TUlfU1NPX0xPR09VVA==",
         "Q00=",
         null,
         null,
         "UG9ydGFsIFBhZ2U=",
         "SFJfRGlyZWN0X2E4MWYxMTNhZTJkNg==",
         "L2RlbGVnYXRlL2xvZ2dpbmc/bGlua1R5cGVObT1zZWNvbmRhcnlXaXRoVGFiU2Nyb2xsJmxua05tPUhSX0RpcmVjdF9hODFmMTEzYWUyZDZfbGluayZsaW5rSWQ9SFJfRGlyZWN0X2E4MWYxMTNhZTJkNl9saW5rJmxuZz0wMTk= (truncated)",
         "SFIgRGlyZWN0",
         "Ti9B",
         "Ti9B",
         "TGluaw==",
         "TGluazp0ZHMtY2FyZGdyb3Vw",
         null,
         null,
         "VVBO",
         "VVBvaW50IE5leHQ=",
         "MTMuMjI1LjFfTkc=",
         "UFBUUFJUTA==",
         "VVBvaW50",
         "MjMuMy4xXzEuMA==",
         "aHR0cHM6Ly9jYWNoZS5oYWNvbnRlbnQuY29tL3Vwb2ludC9VUG9pbnQvVVBOLU5HMTMvMTMuMjI1LjEv",
         4,
         "RnVsbHkgU2VjdXJlZA==",
         "U1NPIExvZ29u",
         "Tk9MT0dO",
         "RGVza3RvcA==",
         "RW5nbGlzaA==",
         0,
         0,
         1,
         0,
         0,
         0,
         0,
         0,
         0,
         0,
         0,
         0,
         1,
         0,
         0,
         null,
         "VGhyaXZlIEhvbWU=",
         "VGhyaXZlIEhvbWU=",
         0,
         "MQ==",
         "RXh0ZXJuYWwgTGluayBDbGljaw==",
         "2023-03-24T04:10:23.000+0000",
         "Mm4=",
         null,
         null,
         "VW51c2Vk",
         "newhome"
        ],
        [
         "NTBEMUIzNkFFQjRBNkUzM0Y5NDIyQjg2N0I3MzJDRjFfMTk5NSMyMDIzLTAzLTE4IDE5OjE0OjQzLjkwNyMyMDIzLTAzLTE4IDE5OjE0OjU2LjcwMTA1",
         "d2ViX3Nlc3Npb25faWQjc2Vzc2lvbl9jcmVhdGVfdGltZXN0YW1wX2NzdF90aW1lem9uZSNwYWdlX3Zpc2l0X3RpbWVzdGFtcF9jc3RfdGltZXpvbmU=",
         "MTE5OTU=",
         "MTk5NTE5OTUzanhnZW16bjVxaHp2d3pnMWF2YzQyY2xma2R0MDV2Y3lsY25rMWMzNjI3Y2xwMzI2dw==",
         1995,
         1995,
         19951995,
         "MzQ1NDAwMDgw",
         "MTk5NS8zNDU0MDAwODA=",
         "MzQ1NDAwMDgw",
         41,
         "QWN0aXZl",
         "TUQ=",
         "Tm9uLVVuaW9u",
         "MjAzMDA4LjA=",
         "Ti9B",
         "VEJB",
         "MDA5YjU0NzgtN2FhNy00ZmVmLWFlMzMtOTNkZWY5ZmQyNzZkXzIwMjMtMDMtMTgtMTkuMTQuNDMuOTA3MDAw",
         "2023-03-18T19:14:43.907+0000",
         "MDA5YjU0NzgtN2FhNy00ZmVmLWFlMzMtOTNkZWY5ZmQyNzZkXzIwMjMtMDMtMTggMTk6MTQ6NDMuOTA3MDAwXzE5OTU=",
         "2023-03-18T19:14:43.907+0000",
         "NTBEMUIzNkFFQjRBNkUzM0Y5NDIyQjg2N0I3MzJDRjFfMTk5NQ==",
         "2023-03-18T19:14:43.907+0000",
         "UFBU",
         "UGFydGljaXBhbnQ=",
         "TW96aWxsYS81LjAgKFdpbmRvd3MgTlQgMTAuMDsgV2luNjQ7IHg2NCkgQXBwbGVXZWJLaXQvNTM3LjM2IChLSFRNTCwgbGlrZSBHZWNrbykgQ2hyb21lLzExMS4wLjAuMCBTYWZhcmkvNTM3LjM2",
         "bmV3aG9tZQ==",
         "MjAyMy0wMy0xOA==",
         "2023-03-18T19:14:56.701+0000",
         null,
         "bmV3aG9tZQ==",
         "Q00=",
         null,
         null,
         "VVBOIFBhZ2U=",
         1,
         null,
         "TUlfU1NPX0xPR09VVA==",
         null,
         "QXV0aGVudGljYXRpb24=",
         "TUlfU1NPX0xPR09VVA==",
         "Q00=",
         null,
         null,
         "UG9ydGFsIFBhZ2U=",
         null,
         null,
         "bi9h",
         "Ti9B",
         "Ti9B",
         "bi9h",
         "bi9h",
         null,
         null,
         "VVBO",
         "VVBvaW50IE5leHQ=",
         "MTMuMjI1LjFfTkc=",
         "UFBUUFJUTA==",
         "VVBvaW50",
         "MjMuMy4xXzEuMA==",
         "aHR0cHM6Ly9jYWNoZS5oYWNvbnRlbnQuY29tL3Vwb2ludC9VUG9pbnQvVVBOLU5HMTMvMTMuMjI1LjEv",
         4,
         "RnVsbHkgU2VjdXJlZA==",
         "U1NPIExvZ29u",
         "Tk9MT0dO",
         "RGVza3RvcA==",
         "RW5nbGlzaA==",
         546,
         1,
         0,
         0,
         0,
         0,
         0,
         0,
         0,
         0,
         0,
         0,
         1,
         0,
         0,
         null,
         "VGhyaXZlIEhvbWU=",
         "VGhyaXZlIEhvbWU=",
         0,
         null,
         "UEFHRVZJRVc=",
         "2023-03-24T04:10:23.000+0000",
         "Mm4=",
         null,
         475,
         "VW51c2Vk",
         "newhome"
        ],
        [
         "NTBEMUIzNkFFQjRBNkUzM0Y5NDIyQjg2N0I3MzJDRjFfMTk5NSMyMDIzLTAzLTE4IDE5OjE0OjQzLjkwNyMyMDIzLTAzLTE4IDE5OjE0OjUxLjczMjA1",
         "d2ViX3Nlc3Npb25faWQjc2Vzc2lvbl9jcmVhdGVfdGltZXN0YW1wX2NzdF90aW1lem9uZSNwYWdlX3Zpc2l0X3RpbWVzdGFtcF9jc3RfdGltZXpvbmU=",
         "MTE5OTU=",
         "MTk5NTE5OTUzanhnZW16bjVxaHp2d3pnMWF2YzQyY2xma2R0MDV2Y3lsY25rMWMzNjI3Y2xwMzI2dw==",
         1995,
         1995,
         19951995,
         "MzQ1NDAwMDgw",
         "MTk5NS8zNDU0MDAwODA=",
         "MzQ1NDAwMDgw",
         41,
         "QWN0aXZl",
         "TUQ=",
         "Tm9uLVVuaW9u",
         "MjAzMDA4LjA=",
         "Ti9B",
         "VEJB",
         "MDA5YjU0NzgtN2FhNy00ZmVmLWFlMzMtOTNkZWY5ZmQyNzZkXzIwMjMtMDMtMTgtMTkuMTQuNDMuOTA3MDAw",
         "2023-03-18T19:14:43.907+0000",
         "MDA5YjU0NzgtN2FhNy00ZmVmLWFlMzMtOTNkZWY5ZmQyNzZkXzIwMjMtMDMtMTggMTk6MTQ6NDMuOTA3MDAwXzE5OTU=",
         "2023-03-18T19:14:43.907+0000",
         "NTBEMUIzNkFFQjRBNkUzM0Y5NDIyQjg2N0I3MzJDRjFfMTk5NQ==",
         "2023-03-18T19:14:43.907+0000",
         "UFBU",
         "UGFydGljaXBhbnQ=",
         "TW96aWxsYS81LjAgKFdpbmRvd3MgTlQgMTAuMDsgV2luNjQ7IHg2NCkgQXBwbGVXZWJLaXQvNTM3LjM2IChLSFRNTCwgbGlrZSBHZWNrbykgQ2hyb21lLzExMS4wLjAuMCBTYWZhcmkvNTM3LjM2",
         "bmV3aG9tZQ==",
         "MjAyMy0wMy0xOA==",
         "2023-03-18T19:14:51.732+0000",
         "dGhyaXZlLXJlbGF0ZWRwcm9tb3Rpb25zLXdpZGdldA==",
         "bmV3aG9tZQ==",
         "Q00=",
         null,
         null,
         "RXZlbnQ=",
         0,
         null,
         "TUlfU1NPX0xPR09VVA==",
         null,
         "QXV0aGVudGljYXRpb24=",
         "TUlfU1NPX0xPR09VVA==",
         "Q00=",
         null,
         null,
         "UG9ydGFsIFBhZ2U=",
         "Q0lDX1BsdXNfU1NPX0xpbmtfNDE0ZDNhYTAzNzY5",
         null,
         "WW91ciBGb3JtIDEwOTUgcHJvb2Ygb2YgaGVhbHRoIGluc3VyYW5jZSBpcyByZWFkeS4=",
         "Ti9B",
         "Ti9B",
         "UmVuZGVy",
         "UmVuZGVy",
         null,
         null,
         "VVBO",
         "VVBvaW50IE5leHQ=",
         "MTMuMjI1LjFfTkc=",
         "UFBUUFJUTA==",
         "VVBvaW50",
         "MjMuMy4xXzEuMA==",
         "aHR0cHM6Ly9jYWNoZS5oYWNvbnRlbnQuY29tL3Vwb2ludC9VUG9pbnQvVVBOLU5HMTMvMTMuMjI1LjEv",
         4,
         "RnVsbHkgU2VjdXJlZA==",
         "U1NPIExvZ29u",
         "Tk9MT0dO",
         "RGVza3RvcA==",
         "RW5nbGlzaA==",
         0,
         0,
         1,
         0,
         0,
         0,
         0,
         0,
         0,
         0,
         0,
         0,
         1,
         0,
         0,
         null,
         "VGhyaXZlIEhvbWU=",
         "VGhyaXZlIEhvbWU=",
         0,
         "NA==",
         "UkVOREVS",
         "2023-03-24T04:10:23.000+0000",
         "Mm4=",
         null,
         null,
         "VW51c2Vk",
         "newhome"
        ],
        [
         "NTBEMUIzNkFFQjRBNkUzM0Y5NDIyQjg2N0I3MzJDRjFfMTk5NSMyMDIzLTAzLTE4IDE5OjE0OjQzLjkwNyMyMDIzLTAzLTE4IDE5OjE0OjUxLjczMjA1",
         "d2ViX3Nlc3Npb25faWQjc2Vzc2lvbl9jcmVhdGVfdGltZXN0YW1wX2NzdF90aW1lem9uZSNwYWdlX3Zpc2l0X3RpbWVzdGFtcF9jc3RfdGltZXpvbmU=",
         "MTE5OTU=",
         "MTk5NTE5OTUzanhnZW16bjVxaHp2d3pnMWF2YzQyY2xma2R0MDV2Y3lsY25rMWMzNjI3Y2xwMzI2dw==",
         1995,
         1995,
         19951995,
         "MzQ1NDAwMDgw",
         "MTk5NS8zNDU0MDAwODA=",
         "MzQ1NDAwMDgw",
         41,
         "QWN0aXZl",
         "TUQ=",
         "Tm9uLVVuaW9u",
         "MjAzMDA4LjA=",
         "Ti9B",
         "VEJB",
         "MDA5YjU0NzgtN2FhNy00ZmVmLWFlMzMtOTNkZWY5ZmQyNzZkXzIwMjMtMDMtMTgtMTkuMTQuNDMuOTA3MDAw",
         "2023-03-18T19:14:43.907+0000",
         "MDA5YjU0NzgtN2FhNy00ZmVmLWFlMzMtOTNkZWY5ZmQyNzZkXzIwMjMtMDMtMTggMTk6MTQ6NDMuOTA3MDAwXzE5OTU=",
         "2023-03-18T19:14:43.907+0000",
         "NTBEMUIzNkFFQjRBNkUzM0Y5NDIyQjg2N0I3MzJDRjFfMTk5NQ==",
         "2023-03-18T19:14:43.907+0000",
         "UFBU",
         "UGFydGljaXBhbnQ=",
         "TW96aWxsYS81LjAgKFdpbmRvd3MgTlQgMTAuMDsgV2luNjQ7IHg2NCkgQXBwbGVXZWJLaXQvNTM3LjM2IChLSFRNTCwgbGlrZSBHZWNrbykgQ2hyb21lLzExMS4wLjAuMCBTYWZhcmkvNTM3LjM2",
         "bmV3aG9tZQ==",
         "MjAyMy0wMy0xOA==",
         "2023-03-18T19:14:51.732+0000",
         "dGhyaXZlLXJlbGF0ZWRwcm9tb3Rpb25zLXdpZGdldA==",
         "bmV3aG9tZQ==",
         "Q00=",
         null,
         null,
         "RXZlbnQ=",
         0,
         null,
         "TUlfU1NPX0xPR09VVA==",
         null,
         "QXV0aGVudGljYXRpb24=",
         "TUlfU1NPX0xPR09VVA==",
         "Q00=",
         null,
         null,
         "UG9ydGFsIFBhZ2U=",
         "UHJpb3JpdGl6ZV9Zb3VyX01lbnRhbF9IZWFsdGhfXzRkYjM0ZTUyNGUzOQ==",
         null,
         "UHJpb3JpdGl6ZSBZb3VyIE1lbnRhbCBIZWFsdGg=",
         "Ti9B",
         "Ti9B",
         "UmVuZGVy",
         "UmVuZGVy",
         null,
         null,
         "VVBO",
         "VVBvaW50IE5leHQ=",
         "MTMuMjI1LjFfTkc=",
         "UFBUUFJUTA==",
         "VVBvaW50",
         "MjMuMy4xXzEuMA==",
         "aHR0cHM6Ly9jYWNoZS5oYWNvbnRlbnQuY29tL3Vwb2ludC9VUG9pbnQvVVBOLU5HMTMvMTMuMjI1LjEv",
         4,
         "RnVsbHkgU2VjdXJlZA==",
         "U1NPIExvZ29u",
         "Tk9MT0dO",
         "RGVza3RvcA==",
         "RW5nbGlzaA==",
         0,
         0,
         1,
         0,
         0,
         0,
         0,
         0,
         0,
         0,
         0,
         0,
         1,
         0,
         0,
         null,
         "VGhyaXZlIEhvbWU=",
         "VGhyaXZlIEhvbWU=",
         0,
         "Mw==",
         "UkVOREVS",
         "2023-03-24T04:10:23.000+0000",
         "Mm4=",
         null,
         null,
         "VW51c2Vk",
         "newhome"
        ]
       ],
       "datasetInfos": [],
       "dbfsResultPath": null,
       "isJsonSchema": true,
       "metadata": {},
       "overflow": false,
       "plotOptions": {
        "customPlotOptions": {},
        "displayType": "table",
        "pivotAggregation": null,
        "pivotColumns": null,
        "xColumns": null,
        "yColumns": null
       },
       "removedWidgets": [],
       "schema": [
        {
         "metadata": "{}",
         "name": "web_page_detail_event_key",
         "type": "\"binary\""
        },
        {
         "metadata": "{}",
         "name": "web_page_detail_event_key_columns",
         "type": "\"binary\""
        },
        {
         "metadata": "{}",
         "name": "client_key",
         "type": "\"binary\""
        },
        {
         "metadata": "{}",
         "name": "implementation_key",
         "type": "\"binary\""
        },
        {
         "metadata": "{}",
         "name": "platform_id",
         "type": "\"integer\""
        },
        {
         "metadata": "{}",
         "name": "client_id",
         "type": "\"integer\""
        },
        {
         "metadata": "{}",
         "name": "implementation_hierarchy_key",
         "type": "\"long\""
        },
        {
         "metadata": "{}",
         "name": "person_internal_id",
         "type": "\"binary\""
        },
        {
         "metadata": "{}",
         "name": "platform_person_internal_id",
         "type": "\"binary\""
        },
        {
         "metadata": "{}",
         "name": "source_person_internal_id",
         "type": "\"binary\""
        },
        {
         "metadata": "{}",
         "name": "person_age",
         "type": "\"integer\""
        },
        {
         "metadata": "{}",
         "name": "person_employment_status",
         "type": "\"binary\""
        },
        {
         "metadata": "{}",
         "name": "person_state",
         "type": "\"binary\""
        },
        {
         "metadata": "{}",
         "name": "person_union_vs_non_union",
         "type": "\"binary\""
        },
        {
         "metadata": "{}",
         "name": "person_salary",
         "type": "\"binary\""
        },
        {
         "metadata": "{}",
         "name": "admin_id",
         "type": "\"binary\""
        },
        {
         "metadata": "{}",
         "name": "user_id_type",
         "type": "\"binary\""
        },
        {
         "metadata": "{}",
         "name": "source_global_session_id",
         "type": "\"binary\""
        },
        {
         "metadata": "{}",
         "name": "source_global_session_create_timestamp",
         "type": "\"timestamp\""
        },
        {
         "metadata": "{}",
         "name": "global_session_id",
         "type": "\"binary\""
        },
        {
         "metadata": "{}",
         "name": "global_session_create_timestamp_cst_timezone",
         "type": "\"timestamp\""
        },
        {
         "metadata": "{}",
         "name": "web_session_id",
         "type": "\"binary\""
        },
        {
         "metadata": "{}",
         "name": "session_create_timestamp_cst_timezone",
         "type": "\"timestamp\""
        },
        {
         "metadata": "{}",
         "name": "web_user_type_id",
         "type": "\"binary\""
        },
        {
         "metadata": "{}",
         "name": "web_user_type_description",
         "type": "\"binary\""
        },
        {
         "metadata": "{}",
         "name": "web_user_system_id",
         "type": "\"binary\""
        },
        {
         "metadata": "{}",
         "name": "page_name",
         "type": "\"binary\""
        },
        {
         "metadata": "{}",
         "name": "page_visit_date_cst_timezone",
         "type": "\"binary\""
        },
        {
         "metadata": "{}",
         "name": "page_visit_timestamp_cst_timezone",
         "type": "\"timestamp\""
        },
        {
         "metadata": "{}",
         "name": "portlet_name",
         "type": "\"binary\""
        },
        {
         "metadata": "{}",
         "name": "business_page_name",
         "type": "\"binary\""
        },
        {
         "metadata": "{}",
         "name": "page_domain",
         "type": "\"binary\""
        },
        {
         "metadata": "{}",
         "name": "page_type_code",
         "type": "\"binary\""
        },
        {
         "metadata": "{}",
         "name": "page_type",
         "type": "\"binary\""
        },
        {
         "metadata": "{}",
         "name": "page_web_type_description",
         "type": "\"binary\""
        },
        {
         "metadata": "{}",
         "name": "page_sequence_number",
         "type": "\"integer\""
        },
        {
         "metadata": "{}",
         "name": "request_method_description",
         "type": "\"binary\""
        },
        {
         "metadata": "{}",
         "name": "global_session_end_page_name",
         "type": "\"binary\""
        },
        {
         "metadata": "{}",
         "name": "global_session_end_portlet_name",
         "type": "\"binary\""
        },
        {
         "metadata": "{}",
         "name": "global_session_end_page_process_name",
         "type": "\"binary\""
        },
        {
         "metadata": "{}",
         "name": "global_session_end_business_page_name",
         "type": "\"binary\""
        },
        {
         "metadata": "{}",
         "name": "global_session_end_page_domain",
         "type": "\"binary\""
        },
        {
         "metadata": "{}",
         "name": "global_session_end_page_type_code",
         "type": "\"binary\""
        },
        {
         "metadata": "{}",
         "name": "global_session_end_page_type",
         "type": "\"binary\""
        },
        {
         "metadata": "{}",
         "name": "global_session_end_page_web_type_description",
         "type": "\"binary\""
        },
        {
         "metadata": "{}",
         "name": "link_id",
         "type": "\"binary\""
        },
        {
         "metadata": "{}",
         "name": "link_destination_url",
         "type": "\"binary\""
        },
        {
         "metadata": "{}",
         "name": "link_id_display",
         "type": "\"binary\""
        },
        {
         "metadata": "{}",
         "name": "link_external_info",
         "type": "\"binary\""
        },
        {
         "metadata": "{}",
         "name": "link_flow",
         "type": "\"binary\""
        },
        {
         "metadata": "{}",
         "name": "link_type_code",
         "type": "\"binary\""
        },
        {
         "metadata": "{}",
         "name": "link_type_description",
         "type": "\"binary\""
        },
        {
         "metadata": "{}",
         "name": "business_link_id",
         "type": "\"binary\""
        },
        {
         "metadata": "{}",
         "name": "web_conversation_id",
         "type": "\"binary\""
        },
        {
         "metadata": "{}",
         "name": "web_channel_application_code",
         "type": "\"binary\""
        },
        {
         "metadata": "{}",
         "name": "web_channel_application_description",
         "type": "\"binary\""
        },
        {
         "metadata": "{}",
         "name": "web_channel_application_version",
         "type": "\"binary\""
        },
        {
         "metadata": "{}",
         "name": "initial_web_channel_application_code",
         "type": "\"binary\""
        },
        {
         "metadata": "{}",
         "name": "initial_web_channel_application_description",
         "type": "\"binary\""
        },
        {
         "metadata": "{}",
         "name": "initial_web_channel_application_version",
         "type": "\"binary\""
        },
        {
         "metadata": "{}",
         "name": "host_name_description",
         "type": "\"binary\""
        },
        {
         "metadata": "{}",
         "name": "web_authentication_level_id",
         "type": "\"integer\""
        },
        {
         "metadata": "{}",
         "name": "web_authentication_level_description",
         "type": "\"binary\""
        },
        {
         "metadata": "{}",
         "name": "web_security_method_description",
         "type": "\"binary\""
        },
        {
         "metadata": "{}",
         "name": "web_logon_type_description",
         "type": "\"binary\""
        },
        {
         "metadata": "{}",
         "name": "web_device_type",
         "type": "\"binary\""
        },
        {
         "metadata": "{}",
         "name": "browser_language",
         "type": "\"binary\""
        },
        {
         "metadata": "{}",
         "name": "page_visit_duration",
         "type": "\"integer\""
        },
        {
         "metadata": "{}",
         "name": "web_session_page_indicator",
         "type": "\"integer\""
        },
        {
         "metadata": "{}",
         "name": "outbound_page_link_indicator",
         "type": "\"integer\""
        },
        {
         "metadata": "{}",
         "name": "hint_page_indicator",
         "type": "\"integer\""
        },
        {
         "metadata": "{}",
         "name": "error_page_indicator",
         "type": "\"integer\""
        },
        {
         "metadata": "{}",
         "name": "logon_page_indicator",
         "type": "\"integer\""
        },
        {
         "metadata": "{}",
         "name": "logoff_page_indicator",
         "type": "\"integer\""
        },
        {
         "metadata": "{}",
         "name": "last_visited_page_indicator",
         "type": "\"integer\""
        },
        {
         "metadata": "{}",
         "name": "password_reset_page_indicator",
         "type": "\"integer\""
        },
        {
         "metadata": "{}",
         "name": "hm_enrollment_abandoned_indicator",
         "type": "\"integer\""
        },
        {
         "metadata": "{}",
         "name": "hm_enrollment_initiated_indicator",
         "type": "\"integer\""
        },
        {
         "metadata": "{}",
         "name": "hm_enrollment_completed_indicator",
         "type": "\"integer\""
        },
        {
         "metadata": "{}",
         "name": "web_page_abandoned_indicator",
         "type": "\"integer\""
        },
        {
         "metadata": "{}",
         "name": "web_chat_request_indicator",
         "type": "\"integer\""
        },
        {
         "metadata": "{}",
         "name": "page_slide_indicator",
         "type": "\"integer\""
        },
        {
         "metadata": "{}",
         "name": "web_page_payload_size",
         "type": "\"integer\""
        },
        {
         "metadata": "{}",
         "name": "page_process_name",
         "type": "\"binary\""
        },
        {
         "metadata": "{}",
         "name": "page_process_detail",
         "type": "\"binary\""
        },
        {
         "metadata": "{}",
         "name": "iva_used_indicator",
         "type": "\"integer\""
        },
        {
         "metadata": "{}",
         "name": "event_position",
         "type": "\"binary\""
        },
        {
         "metadata": "{}",
         "name": "action_type",
         "type": "\"binary\""
        },
        {
         "metadata": "{}",
         "name": "load_timestamp",
         "type": "\"timestamp\""
        },
        {
         "metadata": "{}",
         "name": "source_system_code",
         "type": "\"binary\""
        },
        {
         "metadata": "{}",
         "name": "mobile_app_device_type",
         "type": "\"binary\""
        },
        {
         "metadata": "{}",
         "name": "page_load_elapsed_time",
         "type": "\"integer\""
        },
        {
         "metadata": "{}",
         "name": "mobile_app_type",
         "type": "\"binary\""
        },
        {
         "metadata": "{}",
         "name": "decoded_business_page_name",
         "type": "\"string\""
        }
       ],
       "type": "table"
      }
     },
     "output_type": "display_data"
    }
   ],
   "source": [
    "\n",
    "display(decoded_df.limit(10))"
   ]
  },
  {
   "cell_type": "code",
   "execution_count": 0,
   "metadata": {
    "application/vnd.databricks.v1+cell": {
     "cellMetadata": {
      "byteLimit": 2048000,
      "rowLimit": 10000
     },
     "inputWidgets": {},
     "nuid": "65c143d2-cfc5-4cb5-b137-ed7117096129",
     "showTitle": false,
     "title": ""
    }
   },
   "outputs": [
    {
     "output_type": "display_data",
     "data": {
      "text/html": [
       "<style scoped>\n  .ansiout {\n    display: block;\n    unicode-bidi: embed;\n    white-space: pre-wrap;\n    word-wrap: break-word;\n    word-break: break-all;\n    font-family: \"Source Code Pro\", \"Menlo\", monospace;;\n    font-size: 13px;\n    color: #555;\n    margin-left: 4px;\n    line-height: 19px;\n  }\n</style>\n<div class=\"ansiout\"></div>"
      ]
     },
     "metadata": {
      "application/vnd.databricks.v1+output": {
       "addedWidgets": {},
       "arguments": {},
       "data": "<div class=\"ansiout\"></div>",
       "datasetInfos": [],
       "metadata": {},
       "removedWidgets": [],
       "type": "html"
      }
     },
     "output_type": "display_data"
    }
   ],
   "source": [
    "temp_df = decoded_df.select(\"decoded_business_page_name\",\"person_internal_id\")"
   ]
  },
  {
   "cell_type": "code",
   "execution_count": 0,
   "metadata": {
    "application/vnd.databricks.v1+cell": {
     "cellMetadata": {
      "byteLimit": 2048000,
      "rowLimit": 10000
     },
     "inputWidgets": {},
     "nuid": "b0746311-46a3-4ea7-b28f-1a753af80d54",
     "showTitle": false,
     "title": ""
    }
   },
   "outputs": [
    {
     "output_type": "display_data",
     "data": {
      "text/html": [
       "<style scoped>\n  .ansiout {\n    display: block;\n    unicode-bidi: embed;\n    white-space: pre-wrap;\n    word-wrap: break-word;\n    word-break: break-all;\n    font-family: \"Source Code Pro\", \"Menlo\", monospace;;\n    font-size: 13px;\n    color: #555;\n    margin-left: 4px;\n    line-height: 19px;\n  }\n</style>\n<div class=\"ansiout\"></div>"
      ]
     },
     "metadata": {
      "application/vnd.databricks.v1+output": {
       "addedWidgets": {},
       "arguments": {},
       "data": "<div class=\"ansiout\"></div>",
       "datasetInfos": [],
       "metadata": {},
       "removedWidgets": [],
       "type": "html"
      }
     },
     "output_type": "display_data"
    }
   ],
   "source": [
    "# display(temp_df.limit(10))"
   ]
  },
  {
   "cell_type": "code",
   "execution_count": 0,
   "metadata": {
    "application/vnd.databricks.v1+cell": {
     "cellMetadata": {
      "byteLimit": 2048000,
      "rowLimit": 10000
     },
     "inputWidgets": {},
     "nuid": "96f25809-f8b1-4e90-bb17-643adde248dd",
     "showTitle": false,
     "title": ""
    }
   },
   "outputs": [
    {
     "output_type": "display_data",
     "data": {
      "text/html": [
       "<style scoped>\n  .ansiout {\n    display: block;\n    unicode-bidi: embed;\n    white-space: pre-wrap;\n    word-wrap: break-word;\n    word-break: break-all;\n    font-family: \"Source Code Pro\", \"Menlo\", monospace;;\n    font-size: 13px;\n    color: #555;\n    margin-left: 4px;\n    line-height: 19px;\n  }\n</style>\n<div class=\"ansiout\"></div>"
      ]
     },
     "metadata": {
      "application/vnd.databricks.v1+output": {
       "addedWidgets": {},
       "arguments": {},
       "data": "<div class=\"ansiout\"></div>",
       "datasetInfos": [],
       "metadata": {},
       "removedWidgets": [],
       "type": "html"
      }
     },
     "output_type": "display_data"
    }
   ],
   "source": [
    "# child_df = bbdf_test.select(\"page_name\",\"person_internal_id\").where(F.col(\"page_name\").like('%Child%'))"
   ]
  },
  {
   "cell_type": "code",
   "execution_count": 0,
   "metadata": {
    "application/vnd.databricks.v1+cell": {
     "cellMetadata": {
      "byteLimit": 2048000,
      "rowLimit": 10000
     },
     "inputWidgets": {},
     "nuid": "0c9423ba-1ed8-4444-ae03-c9a891bfeb1a",
     "showTitle": false,
     "title": ""
    }
   },
   "outputs": [
    {
     "output_type": "display_data",
     "data": {
      "text/html": [
       "<style scoped>\n  .ansiout {\n    display: block;\n    unicode-bidi: embed;\n    white-space: pre-wrap;\n    word-wrap: break-word;\n    word-break: break-all;\n    font-family: \"Source Code Pro\", \"Menlo\", monospace;;\n    font-size: 13px;\n    color: #555;\n    margin-left: 4px;\n    line-height: 19px;\n  }\n</style>\n<div class=\"ansiout\"></div>"
      ]
     },
     "metadata": {
      "application/vnd.databricks.v1+output": {
       "addedWidgets": {},
       "arguments": {},
       "data": "<div class=\"ansiout\"></div>",
       "datasetInfos": [],
       "metadata": {},
       "removedWidgets": [],
       "type": "html"
      }
     },
     "output_type": "display_data"
    }
   ],
   "source": [
    "# child_df.count()"
   ]
  },
  {
   "cell_type": "code",
   "execution_count": 0,
   "metadata": {
    "application/vnd.databricks.v1+cell": {
     "cellMetadata": {
      "byteLimit": 2048000,
      "rowLimit": 10000
     },
     "inputWidgets": {},
     "nuid": "2362be0e-e57a-4e07-81fe-62ca858e9d37",
     "showTitle": false,
     "title": ""
    }
   },
   "outputs": [
    {
     "output_type": "display_data",
     "data": {
      "text/html": [
       "<style scoped>\n  .ansiout {\n    display: block;\n    unicode-bidi: embed;\n    white-space: pre-wrap;\n    word-wrap: break-word;\n    word-break: break-all;\n    font-family: \"Source Code Pro\", \"Menlo\", monospace;;\n    font-size: 13px;\n    color: #555;\n    margin-left: 4px;\n    line-height: 19px;\n  }\n</style>\n<div class=\"ansiout\"></div>"
      ]
     },
     "metadata": {
      "application/vnd.databricks.v1+output": {
       "addedWidgets": {},
       "arguments": {},
       "data": "<div class=\"ansiout\"></div>",
       "datasetInfos": [],
       "metadata": {},
       "removedWidgets": [],
       "type": "html"
      }
     },
     "output_type": "display_data"
    }
   ],
   "source": [
    "# display(child_df.limit(10))"
   ]
  },
  {
   "cell_type": "code",
   "execution_count": 0,
   "metadata": {
    "application/vnd.databricks.v1+cell": {
     "cellMetadata": {
      "byteLimit": 2048000,
      "rowLimit": 10000
     },
     "inputWidgets": {},
     "nuid": "12d8e1ed-27fb-4184-b0fa-8ff42031688e",
     "showTitle": false,
     "title": ""
    }
   },
   "outputs": [
    {
     "output_type": "display_data",
     "data": {
      "text/html": [
       "<style scoped>\n  .ansiout {\n    display: block;\n    unicode-bidi: embed;\n    white-space: pre-wrap;\n    word-wrap: break-word;\n    word-break: break-all;\n    font-family: \"Source Code Pro\", \"Menlo\", monospace;;\n    font-size: 13px;\n    color: #555;\n    margin-left: 4px;\n    line-height: 19px;\n  }\n</style>\n<div class=\"ansiout\"></div>"
      ]
     },
     "metadata": {
      "application/vnd.databricks.v1+output": {
       "addedWidgets": {},
       "arguments": {},
       "data": "<div class=\"ansiout\"></div>",
       "datasetInfos": [],
       "metadata": {},
       "removedWidgets": [],
       "type": "html"
      }
     },
     "output_type": "display_data"
    }
   ],
   "source": [
    "new_df = df_test.groupby(\"page_name\", \"person_internal_id\").count()"
   ]
  },
  {
   "cell_type": "code",
   "execution_count": 0,
   "metadata": {
    "application/vnd.databricks.v1+cell": {
     "cellMetadata": {
      "byteLimit": 2048000,
      "rowLimit": 10000
     },
     "inputWidgets": {},
     "nuid": "c5901c2c-5e17-4ef7-8260-b06ce3af6225",
     "showTitle": false,
     "title": ""
    }
   },
   "outputs": [
    {
     "output_type": "display_data",
     "data": {
      "text/html": [
       "<style scoped>\n  .ansiout {\n    display: block;\n    unicode-bidi: embed;\n    white-space: pre-wrap;\n    word-wrap: break-word;\n    word-break: break-all;\n    font-family: \"Source Code Pro\", \"Menlo\", monospace;;\n    font-size: 13px;\n    color: #555;\n    margin-left: 4px;\n    line-height: 19px;\n  }\n</style>\n<div class=\"ansiout\">Out[39]: 78917609</div>"
      ]
     },
     "metadata": {
      "application/vnd.databricks.v1+output": {
       "addedWidgets": {},
       "arguments": {},
       "data": "<div class=\"ansiout\">Out[39]: 78917609</div>",
       "datasetInfos": [],
       "metadata": {},
       "removedWidgets": [],
       "type": "html"
      }
     },
     "output_type": "display_data"
    }
   ],
   "source": [
    "new_df.count()"
   ]
  },
  {
   "cell_type": "code",
   "execution_count": 0,
   "metadata": {
    "application/vnd.databricks.v1+cell": {
     "cellMetadata": {
      "byteLimit": 2048000,
      "rowLimit": 10000
     },
     "inputWidgets": {},
     "nuid": "cd03632c-582b-48c7-a1d2-45827587dfc5",
     "showTitle": false,
     "title": ""
    }
   },
   "outputs": [
    {
     "output_type": "display_data",
     "data": {
      "text/html": [
       "<style scoped>\n  .table-result-container {\n    max-height: 300px;\n    overflow: auto;\n  }\n  table, th, td {\n    border: 1px solid black;\n    border-collapse: collapse;\n  }\n  th, td {\n    padding: 5px;\n  }\n  th {\n    text-align: left;\n  }\n</style><div class='table-result-container'><table class='table-result'><thead style='background-color: white'><tr><th>page_name</th><th>person_internal_id</th><th>count</th></tr></thead><tbody><tr><td>aGVhbHRoLWFuZC1pbnN1cmFuY2UtbG5kLXBn</td><td>MTMxMzAwMDM2</td><td>60</td></tr><tr><td>Q3NTU09QYWdl</td><td>MzA5MjcxMDU4</td><td>69</td></tr><tr><td>TG9naW4=</td><td>MzMyOTAwMDEz</td><td>22</td></tr><tr><td>TG9naW4=</td><td>ODg0NzAwMjg=</td><td>18</td></tr><tr><td>U1NP</td><td>NDY3MTAwMDk2</td><td>215</td></tr><tr><td>U0VMRUNUSU9OX0VF</td><td>null</td><td>367818</td></tr><tr><td>Q3NQcnRsTG9nbjEyME9vYlR4dA==</td><td>MTc2MDAwMDcy</td><td>2</td></tr><tr><td>Q2xpZW50IFRvb2xpbmcgTG9naW4=</td><td>ODEyMDAwMTI=</td><td>2</td></tr><tr><td>TG9naW4=</td><td>NDIxNjEwMDU4</td><td>16</td></tr><tr><td>cGF5LWFuZC10aW1l</td><td>NDk1MDQwMDAx</td><td>40</td></tr></tbody></table></div>"
      ]
     },
     "metadata": {
      "application/vnd.databricks.v1+output": {
       "addedWidgets": {},
       "aggData": [],
       "aggError": "",
       "aggOverflow": false,
       "aggSchema": [],
       "aggSeriesLimitReached": false,
       "aggType": "",
       "arguments": {},
       "columnCustomDisplayInfos": {},
       "data": [
        [
         "aGVhbHRoLWFuZC1pbnN1cmFuY2UtbG5kLXBn",
         "MTMxMzAwMDM2",
         60
        ],
        [
         "Q3NTU09QYWdl",
         "MzA5MjcxMDU4",
         69
        ],
        [
         "TG9naW4=",
         "MzMyOTAwMDEz",
         22
        ],
        [
         "TG9naW4=",
         "ODg0NzAwMjg=",
         18
        ],
        [
         "U1NP",
         "NDY3MTAwMDk2",
         215
        ],
        [
         "U0VMRUNUSU9OX0VF",
         null,
         367818
        ],
        [
         "Q3NQcnRsTG9nbjEyME9vYlR4dA==",
         "MTc2MDAwMDcy",
         2
        ],
        [
         "Q2xpZW50IFRvb2xpbmcgTG9naW4=",
         "ODEyMDAwMTI=",
         2
        ],
        [
         "TG9naW4=",
         "NDIxNjEwMDU4",
         16
        ],
        [
         "cGF5LWFuZC10aW1l",
         "NDk1MDQwMDAx",
         40
        ]
       ],
       "datasetInfos": [],
       "dbfsResultPath": null,
       "isJsonSchema": true,
       "metadata": {},
       "overflow": false,
       "plotOptions": {
        "customPlotOptions": {},
        "displayType": "table",
        "pivotAggregation": null,
        "pivotColumns": null,
        "xColumns": null,
        "yColumns": null
       },
       "removedWidgets": [],
       "schema": [
        {
         "metadata": "{}",
         "name": "page_name",
         "type": "\"binary\""
        },
        {
         "metadata": "{}",
         "name": "person_internal_id",
         "type": "\"binary\""
        },
        {
         "metadata": "{}",
         "name": "count",
         "type": "\"long\""
        }
       ],
       "type": "table"
      }
     },
     "output_type": "display_data"
    }
   ],
   "source": [
    "display(new_df.limit(10))"
   ]
  },
  {
   "cell_type": "code",
   "execution_count": 0,
   "metadata": {
    "application/vnd.databricks.v1+cell": {
     "cellMetadata": {
      "byteLimit": 2048000,
      "rowLimit": 10000
     },
     "inputWidgets": {},
     "nuid": "965f8440-1f77-40bd-a276-61c1be79dd48",
     "showTitle": false,
     "title": ""
    }
   },
   "outputs": [
    {
     "output_type": "display_data",
     "data": {
      "text/html": [
       "<style scoped>\n  .ansiout {\n    display: block;\n    unicode-bidi: embed;\n    white-space: pre-wrap;\n    word-wrap: break-word;\n    word-break: break-all;\n    font-family: \"Source Code Pro\", \"Menlo\", monospace;;\n    font-size: 13px;\n    color: #555;\n    margin-left: 4px;\n    line-height: 19px;\n  }\n</style>\n<div class=\"ansiout\"></div>"
      ]
     },
     "metadata": {
      "application/vnd.databricks.v1+output": {
       "addedWidgets": {},
       "arguments": {},
       "data": "<div class=\"ansiout\"></div>",
       "datasetInfos": [],
       "metadata": {},
       "removedWidgets": [],
       "type": "html"
      }
     },
     "output_type": "display_data"
    }
   ],
   "source": [
    "# decoded_df = df_test.withColumn('decoded_business_page_name', my_udf('business_page_name'))\n",
    "decoded_df = new_df.withColumn('d_page_name', my_udf('page_name'))\n",
    "decoded_df = new_df.withColumn('d_person_internal_id', my_udf('person_internal_id'))"
   ]
  },
  {
   "cell_type": "code",
   "execution_count": 0,
   "metadata": {
    "application/vnd.databricks.v1+cell": {
     "cellMetadata": {
      "byteLimit": 2048000,
      "rowLimit": 10000
     },
     "inputWidgets": {},
     "nuid": "a857ccb6-4192-49ae-9a73-cae02cd0c430",
     "showTitle": false,
     "title": ""
    }
   },
   "outputs": [
    {
     "output_type": "display_data",
     "data": {
      "text/html": [
       "<style scoped>\n  .ansiout {\n    display: block;\n    unicode-bidi: embed;\n    white-space: pre-wrap;\n    word-wrap: break-word;\n    word-break: break-all;\n    font-family: \"Source Code Pro\", \"Menlo\", monospace;;\n    font-size: 13px;\n    color: #555;\n    margin-left: 4px;\n    line-height: 19px;\n  }\n</style>\norg.apache.spark.SparkException: Job aborted due to stage failure: Task 0 in stage 338.0 failed 4 times, most recent failure: Lost task 0.3 in stage 338.0 (TID 37207) (10.184.163.149 executor 10): org.apache.spark.api.python.PythonException: 'AttributeError: 'NoneType' object has no attribute 'decode'', from <command-12850>, line 5. Full traceback below:\nTraceback (most recent call last):\n  File \"<command-12850>\", line 5, in <lambda>\nAttributeError: 'NoneType' object has no attribute 'decode'\n\n\tat org.apache.spark.api.python.BasePythonRunner$ReaderIterator.handlePythonException(PythonRunner.scala:694)\n\tat org.apache.spark.sql.execution.python.PythonUDFRunner$$anon$2.read(PythonUDFRunner.scala:86)\n\tat org.apache.spark.sql.execution.python.PythonUDFRunner$$anon$2.read(PythonUDFRunner.scala:68)\n\tat org.apache.spark.api.python.BasePythonRunner$ReaderIterator.hasNext(PythonRunner.scala:647)\n\tat org.apache.spark.InterruptibleIterator.hasNext(InterruptibleIterator.scala:37)\n\tat scala.collection.Iterator$$anon$11.hasNext(Iterator.scala:491)\n\tat scala.collection.Iterator$$anon$10.hasNext(Iterator.scala:460)\n\tat scala.collection.Iterator$$anon$10.hasNext(Iterator.scala:460)\n\tat org.apache.spark.sql.catalyst.expressions.GeneratedClass$GeneratedIteratorForCodegenStage12.processNext(Unknown Source)\n\tat org.apache.spark.sql.execution.BufferedRowIterator.hasNext(BufferedRowIterator.java:43)\n\tat org.apache.spark.sql.execution.WholeStageCodegenExec$$anon$1.hasNext(WholeStageCodegenExec.scala:759)\n\tat org.apache.spark.sql.execution.collect.UnsafeRowBatchUtils$.encodeUnsafeRows(UnsafeRowBatchUtils.scala:80)\n\tat org.apache.spark.sql.execution.collect.Collector.$anonfun$processFunc$1(Collector.scala:155)\n\tat org.apache.spark.scheduler.ResultTask.$anonfun$runTask$3(ResultTask.scala:75)\n\tat com.databricks.spark.util.ExecutorFrameProfiler$.record(ExecutorFrameProfiler.scala:110)\n\tat org.apache.spark.scheduler.ResultTask.$anonfun$runTask$1(ResultTask.scala:75)\n\tat com.databricks.spark.util.ExecutorFrameProfiler$.record(ExecutorFrameProfiler.scala:110)\n\tat org.apache.spark.scheduler.ResultTask.runTask(ResultTask.scala:55)\n\tat org.apache.spark.scheduler.Task.doRunTask(Task.scala:156)\n\tat org.apache.spark.scheduler.Task.$anonfun$run$1(Task.scala:125)\n\tat com.databricks.spark.util.ExecutorFrameProfiler$.record(ExecutorFrameProfiler.scala:110)\n\tat org.apache.spark.scheduler.Task.run(Task.scala:95)\n\tat org.apache.spark.executor.Executor$TaskRunner.$anonfun$run$13(Executor.scala:832)\n\tat org.apache.spark.util.Utils$.tryWithSafeFinally(Utils.scala:1681)\n\tat org.apache.spark.executor.Executor$TaskRunner.$anonfun$run$4(Executor.scala:835)\n\tat scala.runtime.java8.JFunction0$mcV$sp.apply(JFunction0$mcV$sp.java:23)\n\tat com.databricks.spark.util.ExecutorFrameProfiler$.record(ExecutorFrameProfiler.scala:110)\n\tat org.apache.spark.executor.Executor$TaskRunner.run(Executor.scala:690)\n\tat java.util.concurrent.ThreadPoolExecutor.runWorker(ThreadPoolExecutor.java:1149)\n\tat java.util.concurrent.ThreadPoolExecutor$Worker.run(ThreadPoolExecutor.java:624)\n\tat java.lang.Thread.run(Thread.java:750)\n\nDriver stacktrace:\n\tat org.apache.spark.scheduler.DAGScheduler.failJobAndIndependentStages(DAGScheduler.scala:3088)\n\tat org.apache.spark.scheduler.DAGScheduler.$anonfun$abortStage$2(DAGScheduler.scala:3035)\n\tat org.apache.spark.scheduler.DAGScheduler.$anonfun$abortStage$2$adapted(DAGScheduler.scala:3029)\n\tat scala.collection.mutable.ResizableArray.foreach(ResizableArray.scala:62)\n\tat scala.collection.mutable.ResizableArray.foreach$(ResizableArray.scala:55)\n\tat scala.collection.mutable.ArrayBuffer.foreach(ArrayBuffer.scala:49)\n\tat org.apache.spark.scheduler.DAGScheduler.abortStage(DAGScheduler.scala:3029)\n\tat org.apache.spark.scheduler.DAGScheduler.$anonfun$handleTaskSetFailed$1(DAGScheduler.scala:1391)\n\tat org.apache.spark.scheduler.DAGScheduler.$anonfun$handleTaskSetFailed$1$adapted(DAGScheduler.scala:1391)\n\tat scala.Option.foreach(Option.scala:407)\n\tat org.apache.spark.scheduler.DAGScheduler.handleTaskSetFailed(DAGScheduler.scala:1391)\n\tat org.apache.spark.scheduler.DAGSchedulerEventProcessLoop.doOnReceive(DAGScheduler.scala:3297)\n\tat org.apache.spark.scheduler.DAGSchedulerEventProcessLoop.onReceive(DAGScheduler.scala:3238)\n\tat org.apache.spark.scheduler.DAGSchedulerEventProcessLoop.onReceive(DAGScheduler.scala:3226)\n\tat org.apache.spark.util.EventLoop$$anon$1.run(EventLoop.scala:49)\n\tat org.apache.spark.scheduler.DAGScheduler.runJob(DAGScheduler.scala:1157)\n\tat org.apache.spark.SparkContext.runJobInternal(SparkContext.scala:2657)\n\tat org.apache.spark.sql.execution.collect.Collector.runSparkJobs(Collector.scala:266)\n\tat org.apache.spark.sql.execution.collect.Collector.collect(Collector.scala:276)\n\tat org.apache.spark.sql.execution.collect.Collector$.collect(Collector.scala:81)\n\tat org.apache.spark.sql.execution.collect.Collector$.collect(Collector.scala:87)\n\tat org.apache.spark.sql.execution.collect.InternalRowFormat$.collect(cachedSparkResults.scala:75)\n\tat org.apache.spark.sql.execution.collect.InternalRowFormat$.collect(cachedSparkResults.scala:62)\n\tat org.apache.spark.sql.execution.ResultCacheManager.collectResult$1(ResultCacheManager.scala:573)\n\tat org.apache.spark.sql.execution.ResultCacheManager.$anonfun$computeResult$1(ResultCacheManager.scala:580)\n\tat org.apache.spark.sql.execution.adaptive.AdaptiveSparkPlanExec.withFinalPlanUpdate(AdaptiveSparkPlanExec.scala:503)\n\tat org.apache.spark.sql.execution.ResultCacheManager.computeResult(ResultCacheManager.scala:580)\n\tat org.apache.spark.sql.execution.ResultCacheManager.$anonfun$getOrComputeResultInternal$1(ResultCacheManager.scala:528)\n\tat scala.Option.getOrElse(Option.scala:189)\n\tat org.apache.spark.sql.execution.ResultCacheManager.getOrComputeResultInternal(ResultCacheManager.scala:527)\n\tat org.apache.spark.sql.execution.ResultCacheManager.getOrComputeResult(ResultCacheManager.scala:424)\n\tat org.apache.spark.sql.execution.ResultCacheManager.getOrComputeResult(ResultCacheManager.scala:403)\n\tat org.apache.spark.sql.execution.SparkPlan.executeCollectResult(SparkPlan.scala:424)\n\tat org.apache.spark.sql.Dataset.collectResult(Dataset.scala:3153)\n\tat org.apache.spark.sql.Dataset.$anonfun$collectResult$1(Dataset.scala:3144)\n\tat org.apache.spark.sql.Dataset.$anonfun$withAction$1(Dataset.scala:3951)\n\tat org.apache.spark.sql.execution.SQLExecution$.$anonfun$withCustomExecutionEnv$8(SQLExecution.scala:239)\n\tat org.apache.spark.sql.execution.SQLExecution$.withSQLConfPropagated(SQLExecution.scala:386)\n\tat org.apache.spark.sql.execution.SQLExecution$.$anonfun$withCustomExecutionEnv$1(SQLExecution.scala:186)\n\tat org.apache.spark.sql.SparkSession.withActive(SparkSession.scala:968)\n\tat org.apache.spark.sql.execution.SQLExecution$.withCustomExecutionEnv(SQLExecution.scala:141)\n\tat org.apache.spark.sql.execution.SQLExecution$.withNewExecutionId(SQLExecution.scala:336)\n\tat org.apache.spark.sql.Dataset.withAction(Dataset.scala:3949)\n\tat org.apache.spark.sql.Dataset.collectResult(Dataset.scala:3143)\n\tat com.databricks.backend.daemon.driver.OutputAggregator$.withOutputAggregation0(OutputAggregator.scala:266)\n\tat com.databricks.backend.daemon.driver.OutputAggregator$.withOutputAggregation(OutputAggregator.scala:100)\n\tat com.databricks.backend.daemon.driver.PythonDriverLocalBase.generateTableResult(PythonDriverLocalBase.scala:723)\n\tat com.databricks.backend.daemon.driver.PythonDriverLocal.computeListResultsItem(PythonDriverLocal.scala:627)\n\tat com.databricks.backend.daemon.driver.PythonDriverLocalBase.genListResults(PythonDriverLocalBase.scala:630)\n\tat com.databricks.backend.daemon.driver.PythonDriverLocal.$anonfun$getResultBufferInternal$1(PythonDriverLocal.scala:682)\n\tat com.databricks.backend.daemon.driver.PythonDriverLocal.withInterpLock(PythonDriverLocal.scala:563)\n\tat com.databricks.backend.daemon.driver.PythonDriverLocal.getResultBufferInternal(PythonDriverLocal.scala:642)\n\tat com.databricks.backend.daemon.driver.DriverLocal.getResultBuffer(DriverLocal.scala:748)\n\tat com.databricks.backend.daemon.driver.PythonDriverLocal.outputSuccess(PythonDriverLocal.scala:605)\n\tat com.databricks.backend.daemon.driver.PythonDriverLocal.$anonfun$repl$6(PythonDriverLocal.scala:223)\n\tat com.databricks.backend.daemon.driver.PythonDriverLocal.withInterpLock(PythonDriverLocal.scala:563)\n\tat com.databricks.backend.daemon.driver.PythonDriverLocal.repl(PythonDriverLocal.scala:210)\n\tat com.databricks.backend.daemon.driver.DriverLocal.$anonfun$execute$13(DriverLocal.scala:634)\n\tat com.databricks.logging.Log4jUsageLoggingShim$.$anonfun$withAttributionContext$1(Log4jUsageLoggingShim.scala:33)\n\tat scala.util.DynamicVariable.withValue(DynamicVariable.scala:62)\n\tat com.databricks.logging.AttributionContext$.withValue(AttributionContext.scala:94)\n\tat com.databricks.logging.Log4jUsageLoggingShim$.withAttributionContext(Log4jUsageLoggingShim.scala:31)\n\tat com.databricks.logging.UsageLogging.withAttributionContext(UsageLogging.scala:205)\n\tat com.databricks.logging.UsageLogging.withAttributionContext$(UsageLogging.scala:204)\n\tat com.databricks.backend.daemon.driver.DriverLocal.withAttributionContext(DriverLocal.scala:59)\n\tat com.databricks.logging.UsageLogging.withAttributionTags(UsageLogging.scala:240)\n\tat com.databricks.logging.UsageLogging.withAttributionTags$(UsageLogging.scala:225)\n\tat com.databricks.backend.daemon.driver.DriverLocal.withAttributionTags(DriverLocal.scala:59)\n\tat com.databricks.backend.daemon.driver.DriverLocal.execute(DriverLocal.scala:611)\n\tat com.databricks.backend.daemon.driver.DriverWrapper.$anonfun$tryExecutingCommand$1(DriverWrapper.scala:615)\n\tat scala.util.Try$.apply(Try.scala:213)\n\tat com.databricks.backend.daemon.driver.DriverWrapper.tryExecutingCommand(DriverWrapper.scala:607)\n\tat com.databricks.backend.daemon.driver.DriverWrapper.executeCommandAndGetError(DriverWrapper.scala:526)\n\tat com.databricks.backend.daemon.driver.DriverWrapper.executeCommand(DriverWrapper.scala:561)\n\tat com.databricks.backend.daemon.driver.DriverWrapper.runInnerLoop(DriverWrapper.scala:431)\n\tat com.databricks.backend.daemon.driver.DriverWrapper.runInner(DriverWrapper.scala:374)\n\tat com.databricks.backend.daemon.driver.DriverWrapper.run(DriverWrapper.scala:225)\n\tat java.lang.Thread.run(Thread.java:750)\nCaused by: org.apache.spark.api.python.PythonException: 'AttributeError: 'NoneType' object has no attribute 'decode'', from <command-12850>, line 5. Full traceback below:\nTraceback (most recent call last):\n  File \"<command-12850>\", line 5, in <lambda>\nAttributeError: 'NoneType' object has no attribute 'decode'\n\n\tat org.apache.spark.api.python.BasePythonRunner$ReaderIterator.handlePythonException(PythonRunner.scala:694)\n\tat org.apache.spark.sql.execution.python.PythonUDFRunner$$anon$2.read(PythonUDFRunner.scala:86)\n\tat org.apache.spark.sql.execution.python.PythonUDFRunner$$anon$2.read(PythonUDFRunner.scala:68)\n\tat org.apache.spark.api.python.BasePythonRunner$ReaderIterator.hasNext(PythonRunner.scala:647)\n\tat org.apache.spark.InterruptibleIterator.hasNext(InterruptibleIterator.scala:37)\n\tat scala.collection.Iterator$$anon$11.hasNext(Iterator.scala:491)\n\tat scala.collection.Iterator$$anon$10.hasNext(Iterator.scala:460)\n\tat scala.collection.Iterator$$anon$10.hasNext(Iterator.scala:460)\n\tat org.apache.spark.sql.catalyst.expressions.GeneratedClass$GeneratedIteratorForCodegenStage12.processNext(Unknown Source)\n\tat org.apache.spark.sql.execution.BufferedRowIterator.hasNext(BufferedRowIterator.java:43)\n\tat org.apache.spark.sql.execution.WholeStageCodegenExec$$anon$1.hasNext(WholeStageCodegenExec.scala:759)\n\tat org.apache.spark.sql.execution.collect.UnsafeRowBatchUtils$.encodeUnsafeRows(UnsafeRowBatchUtils.scala:80)\n\tat org.apache.spark.sql.execution.collect.Collector.$anonfun$processFunc$1(Collector.scala:155)\n\tat org.apache.spark.scheduler.ResultTask.$anonfun$runTask$3(ResultTask.scala:75)\n\tat com.databricks.spark.util.ExecutorFrameProfiler$.record(ExecutorFrameProfiler.scala:110)\n\tat org.apache.spark.scheduler.ResultTask.$anonfun$runTask$1(ResultTask.scala:75)\n\tat com.databricks.spark.util.ExecutorFrameProfiler$.record(ExecutorFrameProfiler.scala:110)\n\tat org.apache.spark.scheduler.ResultTask.runTask(ResultTask.scala:55)\n\tat org.apache.spark.scheduler.Task.doRunTask(Task.scala:156)\n\tat org.apache.spark.scheduler.Task.$anonfun$run$1(Task.scala:125)\n\tat com.databricks.spark.util.ExecutorFrameProfiler$.record(ExecutorFrameProfiler.scala:110)\n\tat org.apache.spark.scheduler.Task.run(Task.scala:95)\n\tat org.apache.spark.executor.Executor$TaskRunner.$anonfun$run$13(Executor.scala:832)\n\tat org.apache.spark.util.Utils$.tryWithSafeFinally(Utils.scala:1681)\n\tat org.apache.spark.executor.Executor$TaskRunner.$anonfun$run$4(Executor.scala:835)\n\tat scala.runtime.java8.JFunction0$mcV$sp.apply(JFunction0$mcV$sp.java:23)\n\tat com.databricks.spark.util.ExecutorFrameProfiler$.record(ExecutorFrameProfiler.scala:110)\n\tat org.apache.spark.executor.Executor$TaskRunner.run(Executor.scala:690)\n\tat java.util.concurrent.ThreadPoolExecutor.runWorker(ThreadPoolExecutor.java:1149)\n\tat java.util.concurrent.ThreadPoolExecutor$Worker.run(ThreadPoolExecutor.java:624)\n\t... 1 more"
      ]
     },
     "metadata": {
      "application/vnd.databricks.v1+output": {
       "arguments": {},
       "data": "org.apache.spark.SparkException: Job aborted due to stage failure: Task 0 in stage 338.0 failed 4 times, most recent failure: Lost task 0.3 in stage 338.0 (TID 37207) (10.184.163.149 executor 10): org.apache.spark.api.python.PythonException: 'AttributeError: 'NoneType' object has no attribute 'decode'', from <command-12850>, line 5. Full traceback below:\nTraceback (most recent call last):\n  File \"<command-12850>\", line 5, in <lambda>\nAttributeError: 'NoneType' object has no attribute 'decode'\n\n\tat org.apache.spark.api.python.BasePythonRunner$ReaderIterator.handlePythonException(PythonRunner.scala:694)\n\tat org.apache.spark.sql.execution.python.PythonUDFRunner$$anon$2.read(PythonUDFRunner.scala:86)\n\tat org.apache.spark.sql.execution.python.PythonUDFRunner$$anon$2.read(PythonUDFRunner.scala:68)\n\tat org.apache.spark.api.python.BasePythonRunner$ReaderIterator.hasNext(PythonRunner.scala:647)\n\tat org.apache.spark.InterruptibleIterator.hasNext(InterruptibleIterator.scala:37)\n\tat scala.collection.Iterator$$anon$11.hasNext(Iterator.scala:491)\n\tat scala.collection.Iterator$$anon$10.hasNext(Iterator.scala:460)\n\tat scala.collection.Iterator$$anon$10.hasNext(Iterator.scala:460)\n\tat org.apache.spark.sql.catalyst.expressions.GeneratedClass$GeneratedIteratorForCodegenStage12.processNext(Unknown Source)\n\tat org.apache.spark.sql.execution.BufferedRowIterator.hasNext(BufferedRowIterator.java:43)\n\tat org.apache.spark.sql.execution.WholeStageCodegenExec$$anon$1.hasNext(WholeStageCodegenExec.scala:759)\n\tat org.apache.spark.sql.execution.collect.UnsafeRowBatchUtils$.encodeUnsafeRows(UnsafeRowBatchUtils.scala:80)\n\tat org.apache.spark.sql.execution.collect.Collector.$anonfun$processFunc$1(Collector.scala:155)\n\tat org.apache.spark.scheduler.ResultTask.$anonfun$runTask$3(ResultTask.scala:75)\n\tat com.databricks.spark.util.ExecutorFrameProfiler$.record(ExecutorFrameProfiler.scala:110)\n\tat org.apache.spark.scheduler.ResultTask.$anonfun$runTask$1(ResultTask.scala:75)\n\tat com.databricks.spark.util.ExecutorFrameProfiler$.record(ExecutorFrameProfiler.scala:110)\n\tat org.apache.spark.scheduler.ResultTask.runTask(ResultTask.scala:55)\n\tat org.apache.spark.scheduler.Task.doRunTask(Task.scala:156)\n\tat org.apache.spark.scheduler.Task.$anonfun$run$1(Task.scala:125)\n\tat com.databricks.spark.util.ExecutorFrameProfiler$.record(ExecutorFrameProfiler.scala:110)\n\tat org.apache.spark.scheduler.Task.run(Task.scala:95)\n\tat org.apache.spark.executor.Executor$TaskRunner.$anonfun$run$13(Executor.scala:832)\n\tat org.apache.spark.util.Utils$.tryWithSafeFinally(Utils.scala:1681)\n\tat org.apache.spark.executor.Executor$TaskRunner.$anonfun$run$4(Executor.scala:835)\n\tat scala.runtime.java8.JFunction0$mcV$sp.apply(JFunction0$mcV$sp.java:23)\n\tat com.databricks.spark.util.ExecutorFrameProfiler$.record(ExecutorFrameProfiler.scala:110)\n\tat org.apache.spark.executor.Executor$TaskRunner.run(Executor.scala:690)\n\tat java.util.concurrent.ThreadPoolExecutor.runWorker(ThreadPoolExecutor.java:1149)\n\tat java.util.concurrent.ThreadPoolExecutor$Worker.run(ThreadPoolExecutor.java:624)\n\tat java.lang.Thread.run(Thread.java:750)\n\nDriver stacktrace:\n\tat org.apache.spark.scheduler.DAGScheduler.failJobAndIndependentStages(DAGScheduler.scala:3088)\n\tat org.apache.spark.scheduler.DAGScheduler.$anonfun$abortStage$2(DAGScheduler.scala:3035)\n\tat org.apache.spark.scheduler.DAGScheduler.$anonfun$abortStage$2$adapted(DAGScheduler.scala:3029)\n\tat scala.collection.mutable.ResizableArray.foreach(ResizableArray.scala:62)\n\tat scala.collection.mutable.ResizableArray.foreach$(ResizableArray.scala:55)\n\tat scala.collection.mutable.ArrayBuffer.foreach(ArrayBuffer.scala:49)\n\tat org.apache.spark.scheduler.DAGScheduler.abortStage(DAGScheduler.scala:3029)\n\tat org.apache.spark.scheduler.DAGScheduler.$anonfun$handleTaskSetFailed$1(DAGScheduler.scala:1391)\n\tat org.apache.spark.scheduler.DAGScheduler.$anonfun$handleTaskSetFailed$1$adapted(DAGScheduler.scala:1391)\n\tat scala.Option.foreach(Option.scala:407)\n\tat org.apache.spark.scheduler.DAGScheduler.handleTaskSetFailed(DAGScheduler.scala:1391)\n\tat org.apache.spark.scheduler.DAGSchedulerEventProcessLoop.doOnReceive(DAGScheduler.scala:3297)\n\tat org.apache.spark.scheduler.DAGSchedulerEventProcessLoop.onReceive(DAGScheduler.scala:3238)\n\tat org.apache.spark.scheduler.DAGSchedulerEventProcessLoop.onReceive(DAGScheduler.scala:3226)\n\tat org.apache.spark.util.EventLoop$$anon$1.run(EventLoop.scala:49)\n\tat org.apache.spark.scheduler.DAGScheduler.runJob(DAGScheduler.scala:1157)\n\tat org.apache.spark.SparkContext.runJobInternal(SparkContext.scala:2657)\n\tat org.apache.spark.sql.execution.collect.Collector.runSparkJobs(Collector.scala:266)\n\tat org.apache.spark.sql.execution.collect.Collector.collect(Collector.scala:276)\n\tat org.apache.spark.sql.execution.collect.Collector$.collect(Collector.scala:81)\n\tat org.apache.spark.sql.execution.collect.Collector$.collect(Collector.scala:87)\n\tat org.apache.spark.sql.execution.collect.InternalRowFormat$.collect(cachedSparkResults.scala:75)\n\tat org.apache.spark.sql.execution.collect.InternalRowFormat$.collect(cachedSparkResults.scala:62)\n\tat org.apache.spark.sql.execution.ResultCacheManager.collectResult$1(ResultCacheManager.scala:573)\n\tat org.apache.spark.sql.execution.ResultCacheManager.$anonfun$computeResult$1(ResultCacheManager.scala:580)\n\tat org.apache.spark.sql.execution.adaptive.AdaptiveSparkPlanExec.withFinalPlanUpdate(AdaptiveSparkPlanExec.scala:503)\n\tat org.apache.spark.sql.execution.ResultCacheManager.computeResult(ResultCacheManager.scala:580)\n\tat org.apache.spark.sql.execution.ResultCacheManager.$anonfun$getOrComputeResultInternal$1(ResultCacheManager.scala:528)\n\tat scala.Option.getOrElse(Option.scala:189)\n\tat org.apache.spark.sql.execution.ResultCacheManager.getOrComputeResultInternal(ResultCacheManager.scala:527)\n\tat org.apache.spark.sql.execution.ResultCacheManager.getOrComputeResult(ResultCacheManager.scala:424)\n\tat org.apache.spark.sql.execution.ResultCacheManager.getOrComputeResult(ResultCacheManager.scala:403)\n\tat org.apache.spark.sql.execution.SparkPlan.executeCollectResult(SparkPlan.scala:424)\n\tat org.apache.spark.sql.Dataset.collectResult(Dataset.scala:3153)\n\tat org.apache.spark.sql.Dataset.$anonfun$collectResult$1(Dataset.scala:3144)\n\tat org.apache.spark.sql.Dataset.$anonfun$withAction$1(Dataset.scala:3951)\n\tat org.apache.spark.sql.execution.SQLExecution$.$anonfun$withCustomExecutionEnv$8(SQLExecution.scala:239)\n\tat org.apache.spark.sql.execution.SQLExecution$.withSQLConfPropagated(SQLExecution.scala:386)\n\tat org.apache.spark.sql.execution.SQLExecution$.$anonfun$withCustomExecutionEnv$1(SQLExecution.scala:186)\n\tat org.apache.spark.sql.SparkSession.withActive(SparkSession.scala:968)\n\tat org.apache.spark.sql.execution.SQLExecution$.withCustomExecutionEnv(SQLExecution.scala:141)\n\tat org.apache.spark.sql.execution.SQLExecution$.withNewExecutionId(SQLExecution.scala:336)\n\tat org.apache.spark.sql.Dataset.withAction(Dataset.scala:3949)\n\tat org.apache.spark.sql.Dataset.collectResult(Dataset.scala:3143)\n\tat com.databricks.backend.daemon.driver.OutputAggregator$.withOutputAggregation0(OutputAggregator.scala:266)\n\tat com.databricks.backend.daemon.driver.OutputAggregator$.withOutputAggregation(OutputAggregator.scala:100)\n\tat com.databricks.backend.daemon.driver.PythonDriverLocalBase.generateTableResult(PythonDriverLocalBase.scala:723)\n\tat com.databricks.backend.daemon.driver.PythonDriverLocal.computeListResultsItem(PythonDriverLocal.scala:627)\n\tat com.databricks.backend.daemon.driver.PythonDriverLocalBase.genListResults(PythonDriverLocalBase.scala:630)\n\tat com.databricks.backend.daemon.driver.PythonDriverLocal.$anonfun$getResultBufferInternal$1(PythonDriverLocal.scala:682)\n\tat com.databricks.backend.daemon.driver.PythonDriverLocal.withInterpLock(PythonDriverLocal.scala:563)\n\tat com.databricks.backend.daemon.driver.PythonDriverLocal.getResultBufferInternal(PythonDriverLocal.scala:642)\n\tat com.databricks.backend.daemon.driver.DriverLocal.getResultBuffer(DriverLocal.scala:748)\n\tat com.databricks.backend.daemon.driver.PythonDriverLocal.outputSuccess(PythonDriverLocal.scala:605)\n\tat com.databricks.backend.daemon.driver.PythonDriverLocal.$anonfun$repl$6(PythonDriverLocal.scala:223)\n\tat com.databricks.backend.daemon.driver.PythonDriverLocal.withInterpLock(PythonDriverLocal.scala:563)\n\tat com.databricks.backend.daemon.driver.PythonDriverLocal.repl(PythonDriverLocal.scala:210)\n\tat com.databricks.backend.daemon.driver.DriverLocal.$anonfun$execute$13(DriverLocal.scala:634)\n\tat com.databricks.logging.Log4jUsageLoggingShim$.$anonfun$withAttributionContext$1(Log4jUsageLoggingShim.scala:33)\n\tat scala.util.DynamicVariable.withValue(DynamicVariable.scala:62)\n\tat com.databricks.logging.AttributionContext$.withValue(AttributionContext.scala:94)\n\tat com.databricks.logging.Log4jUsageLoggingShim$.withAttributionContext(Log4jUsageLoggingShim.scala:31)\n\tat com.databricks.logging.UsageLogging.withAttributionContext(UsageLogging.scala:205)\n\tat com.databricks.logging.UsageLogging.withAttributionContext$(UsageLogging.scala:204)\n\tat com.databricks.backend.daemon.driver.DriverLocal.withAttributionContext(DriverLocal.scala:59)\n\tat com.databricks.logging.UsageLogging.withAttributionTags(UsageLogging.scala:240)\n\tat com.databricks.logging.UsageLogging.withAttributionTags$(UsageLogging.scala:225)\n\tat com.databricks.backend.daemon.driver.DriverLocal.withAttributionTags(DriverLocal.scala:59)\n\tat com.databricks.backend.daemon.driver.DriverLocal.execute(DriverLocal.scala:611)\n\tat com.databricks.backend.daemon.driver.DriverWrapper.$anonfun$tryExecutingCommand$1(DriverWrapper.scala:615)\n\tat scala.util.Try$.apply(Try.scala:213)\n\tat com.databricks.backend.daemon.driver.DriverWrapper.tryExecutingCommand(DriverWrapper.scala:607)\n\tat com.databricks.backend.daemon.driver.DriverWrapper.executeCommandAndGetError(DriverWrapper.scala:526)\n\tat com.databricks.backend.daemon.driver.DriverWrapper.executeCommand(DriverWrapper.scala:561)\n\tat com.databricks.backend.daemon.driver.DriverWrapper.runInnerLoop(DriverWrapper.scala:431)\n\tat com.databricks.backend.daemon.driver.DriverWrapper.runInner(DriverWrapper.scala:374)\n\tat com.databricks.backend.daemon.driver.DriverWrapper.run(DriverWrapper.scala:225)\n\tat java.lang.Thread.run(Thread.java:750)\nCaused by: org.apache.spark.api.python.PythonException: 'AttributeError: 'NoneType' object has no attribute 'decode'', from <command-12850>, line 5. Full traceback below:\nTraceback (most recent call last):\n  File \"<command-12850>\", line 5, in <lambda>\nAttributeError: 'NoneType' object has no attribute 'decode'\n\n\tat org.apache.spark.api.python.BasePythonRunner$ReaderIterator.handlePythonException(PythonRunner.scala:694)\n\tat org.apache.spark.sql.execution.python.PythonUDFRunner$$anon$2.read(PythonUDFRunner.scala:86)\n\tat org.apache.spark.sql.execution.python.PythonUDFRunner$$anon$2.read(PythonUDFRunner.scala:68)\n\tat org.apache.spark.api.python.BasePythonRunner$ReaderIterator.hasNext(PythonRunner.scala:647)\n\tat org.apache.spark.InterruptibleIterator.hasNext(InterruptibleIterator.scala:37)\n\tat scala.collection.Iterator$$anon$11.hasNext(Iterator.scala:491)\n\tat scala.collection.Iterator$$anon$10.hasNext(Iterator.scala:460)\n\tat scala.collection.Iterator$$anon$10.hasNext(Iterator.scala:460)\n\tat org.apache.spark.sql.catalyst.expressions.GeneratedClass$GeneratedIteratorForCodegenStage12.processNext(Unknown Source)\n\tat org.apache.spark.sql.execution.BufferedRowIterator.hasNext(BufferedRowIterator.java:43)\n\tat org.apache.spark.sql.execution.WholeStageCodegenExec$$anon$1.hasNext(WholeStageCodegenExec.scala:759)\n\tat org.apache.spark.sql.execution.collect.UnsafeRowBatchUtils$.encodeUnsafeRows(UnsafeRowBatchUtils.scala:80)\n\tat org.apache.spark.sql.execution.collect.Collector.$anonfun$processFunc$1(Collector.scala:155)\n\tat org.apache.spark.scheduler.ResultTask.$anonfun$runTask$3(ResultTask.scala:75)\n\tat com.databricks.spark.util.ExecutorFrameProfiler$.record(ExecutorFrameProfiler.scala:110)\n\tat org.apache.spark.scheduler.ResultTask.$anonfun$runTask$1(ResultTask.scala:75)\n\tat com.databricks.spark.util.ExecutorFrameProfiler$.record(ExecutorFrameProfiler.scala:110)\n\tat org.apache.spark.scheduler.ResultTask.runTask(ResultTask.scala:55)\n\tat org.apache.spark.scheduler.Task.doRunTask(Task.scala:156)\n\tat org.apache.spark.scheduler.Task.$anonfun$run$1(Task.scala:125)\n\tat com.databricks.spark.util.ExecutorFrameProfiler$.record(ExecutorFrameProfiler.scala:110)\n\tat org.apache.spark.scheduler.Task.run(Task.scala:95)\n\tat org.apache.spark.executor.Executor$TaskRunner.$anonfun$run$13(Executor.scala:832)\n\tat org.apache.spark.util.Utils$.tryWithSafeFinally(Utils.scala:1681)\n\tat org.apache.spark.executor.Executor$TaskRunner.$anonfun$run$4(Executor.scala:835)\n\tat scala.runtime.java8.JFunction0$mcV$sp.apply(JFunction0$mcV$sp.java:23)\n\tat com.databricks.spark.util.ExecutorFrameProfiler$.record(ExecutorFrameProfiler.scala:110)\n\tat org.apache.spark.executor.Executor$TaskRunner.run(Executor.scala:690)\n\tat java.util.concurrent.ThreadPoolExecutor.runWorker(ThreadPoolExecutor.java:1149)\n\tat java.util.concurrent.ThreadPoolExecutor$Worker.run(ThreadPoolExecutor.java:624)\n\t... 1 more\n",
       "errorSummary": "PythonException: 'AttributeError: 'NoneType' object has no attribute 'decode'', from <command-12850>, line 5. Full traceback below:",
       "errorTraceType": "html",
       "metadata": {},
       "type": "ipynbError"
      }
     },
     "output_type": "display_data"
    }
   ],
   "source": [
    "display(decoded_df.limit(5))"
   ]
  },
  {
   "cell_type": "code",
   "execution_count": 0,
   "metadata": {
    "application/vnd.databricks.v1+cell": {
     "cellMetadata": {
      "byteLimit": 2048000,
      "rowLimit": 10000
     },
     "inputWidgets": {},
     "nuid": "877b0b56-2b96-4224-a11e-add20df43faa",
     "showTitle": false,
     "title": ""
    }
   },
   "outputs": [
    {
     "output_type": "display_data",
     "data": {
      "text/html": [
       "<style scoped>\n  .ansiout {\n    display: block;\n    unicode-bidi: embed;\n    white-space: pre-wrap;\n    word-wrap: break-word;\n    word-break: break-all;\n    font-family: \"Source Code Pro\", \"Menlo\", monospace;;\n    font-size: 13px;\n    color: #555;\n    margin-left: 4px;\n    line-height: 19px;\n  }\n</style>\n<div class=\"ansiout\"></div>"
      ]
     },
     "metadata": {
      "application/vnd.databricks.v1+output": {
       "addedWidgets": {},
       "arguments": {},
       "data": "<div class=\"ansiout\"></div>",
       "datasetInfos": [],
       "metadata": {},
       "removedWidgets": [],
       "type": "html"
      }
     },
     "output_type": "display_data"
    }
   ],
   "source": [
    "# newdecoded_df = new_df.withColumn('decoded_business_page_name', my_udf('business_page_name'))\n",
    "# display(newdecoded_df.select('decoded_business_page_name').limit(10))\n",
    "\n",
    "pn_df = new_df.toPandas()"
   ]
  },
  {
   "cell_type": "code",
   "execution_count": 0,
   "metadata": {
    "application/vnd.databricks.v1+cell": {
     "cellMetadata": {
      "byteLimit": 2048000,
      "rowLimit": 10000
     },
     "inputWidgets": {},
     "nuid": "1031f3cc-db53-40da-9a2b-1edb33db0665",
     "showTitle": false,
     "title": ""
    }
   },
   "outputs": [
    {
     "output_type": "display_data",
     "data": {
      "text/html": [
       "<style scoped>\n  .ansiout {\n    display: block;\n    unicode-bidi: embed;\n    white-space: pre-wrap;\n    word-wrap: break-word;\n    word-break: break-all;\n    font-family: \"Source Code Pro\", \"Menlo\", monospace;;\n    font-size: 13px;\n    color: #555;\n    margin-left: 4px;\n    line-height: 19px;\n  }\n</style>\n<div class=\"ansiout\">Out[42]: </div>"
      ]
     },
     "metadata": {
      "application/vnd.databricks.v1+output": {
       "addedWidgets": {},
       "arguments": {},
       "data": "<div class=\"ansiout\">Out[42]: </div>",
       "datasetInfos": [],
       "metadata": {},
       "removedWidgets": [],
       "type": "html"
      }
     },
     "output_type": "display_data"
    },
    {
     "output_type": "display_data",
     "data": {
      "text/html": [
       "<div>\n<style scoped>\n    .dataframe tbody tr th:only-of-type {\n        vertical-align: middle;\n    }\n\n    .dataframe tbody tr th {\n        vertical-align: top;\n    }\n\n    .dataframe thead th {\n        text-align: right;\n    }\n</style>\n<table border=\"1\" class=\"dataframe\">\n  <thead>\n    <tr style=\"text-align: right;\">\n      <th></th>\n      <th>page_name</th>\n      <th>person_internal_id</th>\n      <th>count</th>\n    </tr>\n  </thead>\n  <tbody>\n    <tr>\n      <th>0</th>\n      <td>b'SELECTION_EE'</td>\n      <td>None</td>\n      <td>367818</td>\n    </tr>\n    <tr>\n      <th>1</th>\n      <td>b'IST_LB_HRSelfSrv'</td>\n      <td>b'479800006'</td>\n      <td>1</td>\n    </tr>\n    <tr>\n      <th>2</th>\n      <td>b'Other Benefits'</td>\n      <td>b'29700097'</td>\n      <td>2</td>\n    </tr>\n    <tr>\n      <th>3</th>\n      <td>b'homepage'</td>\n      <td>b'370850089'</td>\n      <td>101</td>\n    </tr>\n    <tr>\n      <th>4</th>\n      <td>b'CsPrtlLogn130OobTxtCplt'</td>\n      <td>b'217610089'</td>\n      <td>3</td>\n    </tr>\n    <tr>\n      <th>...</th>\n      <td>...</td>\n      <td>...</td>\n      <td>...</td>\n    </tr>\n    <tr>\n      <th>95</th>\n      <td>b'contentPage - 2023 Healthy Rewards Medically...</td>\n      <td>b'149100019'</td>\n      <td>8</td>\n    </tr>\n    <tr>\n      <th>96</th>\n      <td>b'dcaccountsummary'</td>\n      <td>b'36500021'</td>\n      <td>30</td>\n    </tr>\n    <tr>\n      <th>97</th>\n      <td>b'/YbrSsoForkOpen'</td>\n      <td>b'475080083'</td>\n      <td>1</td>\n    </tr>\n    <tr>\n      <th>98</th>\n      <td>b'homepage'</td>\n      <td>b'119410017'</td>\n      <td>293</td>\n    </tr>\n    <tr>\n      <th>99</th>\n      <td>b'CsPrtlLogn160RegDvc'</td>\n      <td>b'265160045'</td>\n      <td>10</td>\n    </tr>\n  </tbody>\n</table>\n<p>100 rows × 3 columns</p>\n</div>"
      ]
     },
     "metadata": {
      "application/vnd.databricks.v1+output": {
       "addedWidgets": {},
       "arguments": {},
       "data": "<div>\n<style scoped>\n    .dataframe tbody tr th:only-of-type {\n        vertical-align: middle;\n    }\n\n    .dataframe tbody tr th {\n        vertical-align: top;\n    }\n\n    .dataframe thead th {\n        text-align: right;\n    }\n</style>\n<table border=\"1\" class=\"dataframe\">\n  <thead>\n    <tr style=\"text-align: right;\">\n      <th></th>\n      <th>page_name</th>\n      <th>person_internal_id</th>\n      <th>count</th>\n    </tr>\n  </thead>\n  <tbody>\n    <tr>\n      <th>0</th>\n      <td>b'SELECTION_EE'</td>\n      <td>None</td>\n      <td>367818</td>\n    </tr>\n    <tr>\n      <th>1</th>\n      <td>b'IST_LB_HRSelfSrv'</td>\n      <td>b'479800006'</td>\n      <td>1</td>\n    </tr>\n    <tr>\n      <th>2</th>\n      <td>b'Other Benefits'</td>\n      <td>b'29700097'</td>\n      <td>2</td>\n    </tr>\n    <tr>\n      <th>3</th>\n      <td>b'homepage'</td>\n      <td>b'370850089'</td>\n      <td>101</td>\n    </tr>\n    <tr>\n      <th>4</th>\n      <td>b'CsPrtlLogn130OobTxtCplt'</td>\n      <td>b'217610089'</td>\n      <td>3</td>\n    </tr>\n    <tr>\n      <th>...</th>\n      <td>...</td>\n      <td>...</td>\n      <td>...</td>\n    </tr>\n    <tr>\n      <th>95</th>\n      <td>b'contentPage - 2023 Healthy Rewards Medically...</td>\n      <td>b'149100019'</td>\n      <td>8</td>\n    </tr>\n    <tr>\n      <th>96</th>\n      <td>b'dcaccountsummary'</td>\n      <td>b'36500021'</td>\n      <td>30</td>\n    </tr>\n    <tr>\n      <th>97</th>\n      <td>b'/YbrSsoForkOpen'</td>\n      <td>b'475080083'</td>\n      <td>1</td>\n    </tr>\n    <tr>\n      <th>98</th>\n      <td>b'homepage'</td>\n      <td>b'119410017'</td>\n      <td>293</td>\n    </tr>\n    <tr>\n      <th>99</th>\n      <td>b'CsPrtlLogn160RegDvc'</td>\n      <td>b'265160045'</td>\n      <td>10</td>\n    </tr>\n  </tbody>\n</table>\n<p>100 rows × 3 columns</p>\n</div>",
       "datasetInfos": [],
       "metadata": {},
       "removedWidgets": [],
       "textData": null,
       "type": "htmlSandbox"
      }
     },
     "output_type": "display_data"
    }
   ],
   "source": [
    "pn_df.head(100)"
   ]
  },
  {
   "cell_type": "code",
   "execution_count": 0,
   "metadata": {
    "application/vnd.databricks.v1+cell": {
     "cellMetadata": {
      "byteLimit": 2048000,
      "rowLimit": 10000
     },
     "inputWidgets": {},
     "nuid": "e83459ff-b8ef-4277-852d-0d9c8599bbfb",
     "showTitle": false,
     "title": ""
    }
   },
   "outputs": [
    {
     "output_type": "display_data",
     "data": {
      "text/html": [
       "<style scoped>\n  .ansiout {\n    display: block;\n    unicode-bidi: embed;\n    white-space: pre-wrap;\n    word-wrap: break-word;\n    word-break: break-all;\n    font-family: \"Source Code Pro\", \"Menlo\", monospace;;\n    font-size: 13px;\n    color: #555;\n    margin-left: 4px;\n    line-height: 19px;\n  }\n</style>\n<div class=\"ansiout\"></div>"
      ]
     },
     "metadata": {
      "application/vnd.databricks.v1+output": {
       "addedWidgets": {},
       "arguments": {},
       "data": "<div class=\"ansiout\"></div>",
       "datasetInfos": [],
       "metadata": {},
       "removedWidgets": [],
       "type": "html"
      }
     },
     "output_type": "display_data"
    }
   ],
   "source": [
    "pn_df[\"page_name\"] = pn_df[\"page_name\"].str.decode('utf-8')\n",
    "pn_df[\"person_internal_id\"] = pn_df[\"person_internal_id\"].str.decode('utf-8')"
   ]
  },
  {
   "cell_type": "code",
   "execution_count": 0,
   "metadata": {
    "application/vnd.databricks.v1+cell": {
     "cellMetadata": {
      "byteLimit": 2048000,
      "rowLimit": 10000
     },
     "inputWidgets": {},
     "nuid": "ce92cdc4-5783-4f34-9bbc-8fa786d4d198",
     "showTitle": false,
     "title": ""
    }
   },
   "outputs": [
    {
     "output_type": "display_data",
     "data": {
      "text/html": [
       "<style scoped>\n  .ansiout {\n    display: block;\n    unicode-bidi: embed;\n    white-space: pre-wrap;\n    word-wrap: break-word;\n    word-break: break-all;\n    font-family: \"Source Code Pro\", \"Menlo\", monospace;;\n    font-size: 13px;\n    color: #555;\n    margin-left: 4px;\n    line-height: 19px;\n  }\n</style>\n<div class=\"ansiout\">Out[47]: </div>"
      ]
     },
     "metadata": {
      "application/vnd.databricks.v1+output": {
       "addedWidgets": {},
       "arguments": {},
       "data": "<div class=\"ansiout\">Out[47]: </div>",
       "datasetInfos": [],
       "metadata": {},
       "removedWidgets": [],
       "type": "html"
      }
     },
     "output_type": "display_data"
    },
    {
     "output_type": "display_data",
     "data": {
      "text/html": [
       "<div>\n<style scoped>\n    .dataframe tbody tr th:only-of-type {\n        vertical-align: middle;\n    }\n\n    .dataframe tbody tr th {\n        vertical-align: top;\n    }\n\n    .dataframe thead th {\n        text-align: right;\n    }\n</style>\n<table border=\"1\" class=\"dataframe\">\n  <thead>\n    <tr style=\"text-align: right;\">\n      <th></th>\n      <th>page_name</th>\n      <th>person_internal_id</th>\n      <th>count</th>\n    </tr>\n  </thead>\n  <tbody>\n    <tr>\n      <th>0</th>\n      <td>SELECTION_EE</td>\n      <td>None</td>\n      <td>367818</td>\n    </tr>\n    <tr>\n      <th>1</th>\n      <td>IST_LB_HRSelfSrv</td>\n      <td>479800006</td>\n      <td>1</td>\n    </tr>\n    <tr>\n      <th>2</th>\n      <td>Other Benefits</td>\n      <td>29700097</td>\n      <td>2</td>\n    </tr>\n    <tr>\n      <th>3</th>\n      <td>homepage</td>\n      <td>370850089</td>\n      <td>101</td>\n    </tr>\n    <tr>\n      <th>4</th>\n      <td>CsPrtlLogn130OobTxtCplt</td>\n      <td>217610089</td>\n      <td>3</td>\n    </tr>\n  </tbody>\n</table>\n</div>"
      ]
     },
     "metadata": {
      "application/vnd.databricks.v1+output": {
       "addedWidgets": {},
       "arguments": {},
       "data": "<div>\n<style scoped>\n    .dataframe tbody tr th:only-of-type {\n        vertical-align: middle;\n    }\n\n    .dataframe tbody tr th {\n        vertical-align: top;\n    }\n\n    .dataframe thead th {\n        text-align: right;\n    }\n</style>\n<table border=\"1\" class=\"dataframe\">\n  <thead>\n    <tr style=\"text-align: right;\">\n      <th></th>\n      <th>page_name</th>\n      <th>person_internal_id</th>\n      <th>count</th>\n    </tr>\n  </thead>\n  <tbody>\n    <tr>\n      <th>0</th>\n      <td>SELECTION_EE</td>\n      <td>None</td>\n      <td>367818</td>\n    </tr>\n    <tr>\n      <th>1</th>\n      <td>IST_LB_HRSelfSrv</td>\n      <td>479800006</td>\n      <td>1</td>\n    </tr>\n    <tr>\n      <th>2</th>\n      <td>Other Benefits</td>\n      <td>29700097</td>\n      <td>2</td>\n    </tr>\n    <tr>\n      <th>3</th>\n      <td>homepage</td>\n      <td>370850089</td>\n      <td>101</td>\n    </tr>\n    <tr>\n      <th>4</th>\n      <td>CsPrtlLogn130OobTxtCplt</td>\n      <td>217610089</td>\n      <td>3</td>\n    </tr>\n  </tbody>\n</table>\n</div>",
       "datasetInfos": [],
       "metadata": {},
       "removedWidgets": [],
       "textData": null,
       "type": "htmlSandbox"
      }
     },
     "output_type": "display_data"
    }
   ],
   "source": [
    "pn_df.head()"
   ]
  },
  {
   "cell_type": "code",
   "execution_count": 0,
   "metadata": {
    "application/vnd.databricks.v1+cell": {
     "cellMetadata": {
      "byteLimit": 2048000,
      "rowLimit": 10000
     },
     "inputWidgets": {},
     "nuid": "26e8a186-a9e8-4b46-ac48-bd5a7eacd163",
     "showTitle": false,
     "title": ""
    }
   },
   "outputs": [
    {
     "output_type": "display_data",
     "data": {
      "text/html": [
       "<style scoped>\n  .ansiout {\n    display: block;\n    unicode-bidi: embed;\n    white-space: pre-wrap;\n    word-wrap: break-word;\n    word-break: break-all;\n    font-family: \"Source Code Pro\", \"Menlo\", monospace;;\n    font-size: 13px;\n    color: #555;\n    margin-left: 4px;\n    line-height: 19px;\n  }\n</style>\n<div class=\"ansiout\">Out[49]: page_name                0\nperson_internal_id    3956\ncount                    0\ndtype: int64</div>"
      ]
     },
     "metadata": {
      "application/vnd.databricks.v1+output": {
       "addedWidgets": {},
       "arguments": {},
       "data": "<div class=\"ansiout\">Out[49]: page_name                0\nperson_internal_id    3956\ncount                    0\ndtype: int64</div>",
       "datasetInfos": [],
       "metadata": {},
       "removedWidgets": [],
       "type": "html"
      }
     },
     "output_type": "display_data"
    }
   ],
   "source": [
    "pn_df.isna().sum()"
   ]
  },
  {
   "cell_type": "code",
   "execution_count": 0,
   "metadata": {
    "application/vnd.databricks.v1+cell": {
     "cellMetadata": {
      "byteLimit": 2048000,
      "rowLimit": 10000
     },
     "inputWidgets": {},
     "nuid": "f823119d-48ac-4936-b137-f10773880c46",
     "showTitle": false,
     "title": ""
    }
   },
   "outputs": [
    {
     "output_type": "display_data",
     "data": {
      "text/html": [
       "<style scoped>\n  .ansiout {\n    display: block;\n    unicode-bidi: embed;\n    white-space: pre-wrap;\n    word-wrap: break-word;\n    word-break: break-all;\n    font-family: \"Source Code Pro\", \"Menlo\", monospace;;\n    font-size: 13px;\n    color: #555;\n    margin-left: 4px;\n    line-height: 19px;\n  }\n</style>\n<div class=\"ansiout\"></div>"
      ]
     },
     "metadata": {
      "application/vnd.databricks.v1+output": {
       "addedWidgets": {},
       "arguments": {},
       "data": "<div class=\"ansiout\"></div>",
       "datasetInfos": [],
       "metadata": {},
       "removedWidgets": [],
       "type": "html"
      }
     },
     "output_type": "display_data"
    }
   ],
   "source": [
    "pn_df.dropna(subset=[\"person_internal_id\"],inplace =True)"
   ]
  },
  {
   "cell_type": "code",
   "execution_count": 0,
   "metadata": {
    "application/vnd.databricks.v1+cell": {
     "cellMetadata": {
      "byteLimit": 2048000,
      "rowLimit": 10000
     },
     "inputWidgets": {},
     "nuid": "b0a0c505-5c3d-4e5b-981f-bd16b517d30e",
     "showTitle": false,
     "title": ""
    }
   },
   "outputs": [
    {
     "output_type": "display_data",
     "data": {
      "text/html": [
       "<style scoped>\n  .ansiout {\n    display: block;\n    unicode-bidi: embed;\n    white-space: pre-wrap;\n    word-wrap: break-word;\n    word-break: break-all;\n    font-family: \"Source Code Pro\", \"Menlo\", monospace;;\n    font-size: 13px;\n    color: #555;\n    margin-left: 4px;\n    line-height: 19px;\n  }\n</style>\n<div class=\"ansiout\">Out[51]: page_name             0\nperson_internal_id    0\ncount                 0\ndtype: int64</div>"
      ]
     },
     "metadata": {
      "application/vnd.databricks.v1+output": {
       "addedWidgets": {},
       "arguments": {},
       "data": "<div class=\"ansiout\">Out[51]: page_name             0\nperson_internal_id    0\ncount                 0\ndtype: int64</div>",
       "datasetInfos": [],
       "metadata": {},
       "removedWidgets": [],
       "type": "html"
      }
     },
     "output_type": "display_data"
    }
   ],
   "source": [
    "pn_df.isna().sum()"
   ]
  },
  {
   "cell_type": "code",
   "execution_count": 0,
   "metadata": {
    "application/vnd.databricks.v1+cell": {
     "cellMetadata": {
      "byteLimit": 2048000,
      "rowLimit": 10000
     },
     "inputWidgets": {},
     "nuid": "07f6d53d-deb4-4fa3-a5c9-f96161b36aa5",
     "showTitle": false,
     "title": ""
    }
   },
   "outputs": [
    {
     "output_type": "display_data",
     "data": {
      "text/html": [
       "<style scoped>\n  .ansiout {\n    display: block;\n    unicode-bidi: embed;\n    white-space: pre-wrap;\n    word-wrap: break-word;\n    word-break: break-all;\n    font-family: \"Source Code Pro\", \"Menlo\", monospace;;\n    font-size: 13px;\n    color: #555;\n    margin-left: 4px;\n    line-height: 19px;\n  }\n</style>\n<div class=\"ansiout\"></div>"
      ]
     },
     "metadata": {
      "application/vnd.databricks.v1+output": {
       "addedWidgets": {},
       "arguments": {},
       "data": "<div class=\"ansiout\"></div>",
       "datasetInfos": [],
       "metadata": {},
       "removedWidgets": [],
       "type": "html"
      }
     },
     "output_type": "display_data"
    }
   ],
   "source": [
    "container = ['401K', 'Care Delivery', 'Caregiving', 'Elder', 'Caregiving', 'Parenting', 'Condition Management', \n",
    "             'Financial Wellness', 'Health Navigation', 'Lifestyle', 'Maternity', 'Fertility', 'Adoption', \n",
    "             'Mental', 'Behavioral Health', 'Pay', 'Time', 'Pension', 'Personal Development', 'Personal Health', \n",
    "             'Wellness', 'Wellbeing']\n",
    "rstr = '|'.join(container)"
   ]
  },
  {
   "cell_type": "code",
   "execution_count": 0,
   "metadata": {
    "application/vnd.databricks.v1+cell": {
     "cellMetadata": {
      "byteLimit": 2048000,
      "rowLimit": 10000
     },
     "inputWidgets": {},
     "nuid": "11ecc323-24a8-4284-9932-949014acdb6b",
     "showTitle": false,
     "title": ""
    }
   },
   "outputs": [
    {
     "output_type": "display_data",
     "data": {
      "text/html": [
       "<style scoped>\n  .ansiout {\n    display: block;\n    unicode-bidi: embed;\n    white-space: pre-wrap;\n    word-wrap: break-word;\n    word-break: break-all;\n    font-family: \"Source Code Pro\", \"Menlo\", monospace;;\n    font-size: 13px;\n    color: #555;\n    margin-left: 4px;\n    line-height: 19px;\n  }\n</style>\n<div class=\"ansiout\"></div>"
      ]
     },
     "metadata": {
      "application/vnd.databricks.v1+output": {
       "addedWidgets": {},
       "arguments": {},
       "data": "<div class=\"ansiout\"></div>",
       "datasetInfos": [],
       "metadata": {},
       "removedWidgets": [],
       "type": "html"
      }
     },
     "output_type": "display_data"
    }
   ],
   "source": [
    "pn_df['Mark']=pn_df['page_name'].str.contains(rstr, case=False)"
   ]
  },
  {
   "cell_type": "code",
   "execution_count": 0,
   "metadata": {
    "application/vnd.databricks.v1+cell": {
     "cellMetadata": {
      "byteLimit": 2048000,
      "rowLimit": 10000
     },
     "inputWidgets": {},
     "nuid": "a7fa62d9-d236-4757-a38e-1668a0b98fdf",
     "showTitle": false,
     "title": ""
    }
   },
   "outputs": [
    {
     "output_type": "display_data",
     "data": {
      "text/html": [
       "<style scoped>\n  .ansiout {\n    display: block;\n    unicode-bidi: embed;\n    white-space: pre-wrap;\n    word-wrap: break-word;\n    word-break: break-all;\n    font-family: \"Source Code Pro\", \"Menlo\", monospace;;\n    font-size: 13px;\n    color: #555;\n    margin-left: 4px;\n    line-height: 19px;\n  }\n</style>\n<div class=\"ansiout\">Out[55]: </div>"
      ]
     },
     "metadata": {
      "application/vnd.databricks.v1+output": {
       "addedWidgets": {},
       "arguments": {},
       "data": "<div class=\"ansiout\">Out[55]: </div>",
       "datasetInfos": [],
       "metadata": {},
       "removedWidgets": [],
       "type": "html"
      }
     },
     "output_type": "display_data"
    },
    {
     "output_type": "display_data",
     "data": {
      "text/html": [
       "<div>\n<style scoped>\n    .dataframe tbody tr th:only-of-type {\n        vertical-align: middle;\n    }\n\n    .dataframe tbody tr th {\n        vertical-align: top;\n    }\n\n    .dataframe thead th {\n        text-align: right;\n    }\n</style>\n<table border=\"1\" class=\"dataframe\">\n  <thead>\n    <tr style=\"text-align: right;\">\n      <th></th>\n      <th>page_name</th>\n      <th>person_internal_id</th>\n      <th>count</th>\n      <th>Mark</th>\n    </tr>\n  </thead>\n  <tbody>\n    <tr>\n      <th>1</th>\n      <td>IST_LB_HRSelfSrv</td>\n      <td>479800006</td>\n      <td>1</td>\n      <td>False</td>\n    </tr>\n    <tr>\n      <th>2</th>\n      <td>Other Benefits</td>\n      <td>29700097</td>\n      <td>2</td>\n      <td>False</td>\n    </tr>\n    <tr>\n      <th>3</th>\n      <td>homepage</td>\n      <td>370850089</td>\n      <td>101</td>\n      <td>False</td>\n    </tr>\n    <tr>\n      <th>4</th>\n      <td>CsPrtlLogn130OobTxtCplt</td>\n      <td>217610089</td>\n      <td>3</td>\n      <td>False</td>\n    </tr>\n    <tr>\n      <th>5</th>\n      <td>SSO</td>\n      <td>100000052116387</td>\n      <td>63</td>\n      <td>False</td>\n    </tr>\n    <tr>\n      <th>6</th>\n      <td>SSO</td>\n      <td>435511081</td>\n      <td>53</td>\n      <td>False</td>\n    </tr>\n    <tr>\n      <th>7</th>\n      <td>clmsovrw</td>\n      <td>6310024</td>\n      <td>84</td>\n      <td>False</td>\n    </tr>\n    <tr>\n      <th>8</th>\n      <td>dcaccountsummary</td>\n      <td>88000064</td>\n      <td>47</td>\n      <td>False</td>\n    </tr>\n    <tr>\n      <th>9</th>\n      <td>Health Enrollment Flow</td>\n      <td>17120001</td>\n      <td>14</td>\n      <td>True</td>\n    </tr>\n    <tr>\n      <th>10</th>\n      <td>Authentication</td>\n      <td>17120001</td>\n      <td>17</td>\n      <td>False</td>\n    </tr>\n    <tr>\n      <th>11</th>\n      <td>IST_OTHBENEVP</td>\n      <td>326000077</td>\n      <td>5</td>\n      <td>False</td>\n    </tr>\n    <tr>\n      <th>12</th>\n      <td>reqrcptdoc</td>\n      <td>429520000</td>\n      <td>1</td>\n      <td>False</td>\n    </tr>\n    <tr>\n      <th>13</th>\n      <td>dcaccountsummary</td>\n      <td>159410079</td>\n      <td>132</td>\n      <td>False</td>\n    </tr>\n    <tr>\n      <th>14</th>\n      <td>Authentication</td>\n      <td>31100030</td>\n      <td>714</td>\n      <td>False</td>\n    </tr>\n    <tr>\n      <th>15</th>\n      <td>homepage</td>\n      <td>299000064</td>\n      <td>2634</td>\n      <td>False</td>\n    </tr>\n    <tr>\n      <th>16</th>\n      <td>homepage</td>\n      <td>59150070</td>\n      <td>428</td>\n      <td>False</td>\n    </tr>\n    <tr>\n      <th>17</th>\n      <td>current-coverage-page</td>\n      <td>417200096</td>\n      <td>3</td>\n      <td>False</td>\n    </tr>\n    <tr>\n      <th>18</th>\n      <td>SSO</td>\n      <td>13000076</td>\n      <td>345</td>\n      <td>False</td>\n    </tr>\n    <tr>\n      <th>19</th>\n      <td>IST_YTR</td>\n      <td>16300083</td>\n      <td>19</td>\n      <td>False</td>\n    </tr>\n    <tr>\n      <th>20</th>\n      <td>requestMaterials</td>\n      <td>430260076</td>\n      <td>5</td>\n      <td>False</td>\n    </tr>\n    <tr>\n      <th>21</th>\n      <td>/CsPfyb070PmtHstrOpen</td>\n      <td>268930072</td>\n      <td>1</td>\n      <td>False</td>\n    </tr>\n    <tr>\n      <th>23</th>\n      <td>CsPrtlLogn020EntrPrsnId</td>\n      <td>364120012</td>\n      <td>2</td>\n      <td>False</td>\n    </tr>\n    <tr>\n      <th>24</th>\n      <td>contentPage - Plan Information, Notices &amp; Guides</td>\n      <td>60002774</td>\n      <td>8</td>\n      <td>False</td>\n    </tr>\n    <tr>\n      <th>25</th>\n      <td>homepage</td>\n      <td>162900068</td>\n      <td>76</td>\n      <td>False</td>\n    </tr>\n    <tr>\n      <th>26</th>\n      <td>CsSSOPage</td>\n      <td>347880067</td>\n      <td>3</td>\n      <td>False</td>\n    </tr>\n    <tr>\n      <th>27</th>\n      <td>contentPage - This Request Can't Be Processed</td>\n      <td>204100027</td>\n      <td>12</td>\n      <td>False</td>\n    </tr>\n    <tr>\n      <th>28</th>\n      <td>Login</td>\n      <td>36371045</td>\n      <td>10</td>\n      <td>False</td>\n    </tr>\n    <tr>\n      <th>29</th>\n      <td>login</td>\n      <td>155300038</td>\n      <td>7</td>\n      <td>False</td>\n    </tr>\n    <tr>\n      <th>30</th>\n      <td>HmModlAddEditABeneDpndAdd_EE-LIFE</td>\n      <td>317900079</td>\n      <td>3</td>\n      <td>False</td>\n    </tr>\n    <tr>\n      <th>31</th>\n      <td>CsPrtlPlsWait010PrcsRqst</td>\n      <td>680098531</td>\n      <td>1</td>\n      <td>False</td>\n    </tr>\n    <tr>\n      <th>32</th>\n      <td>Authentication</td>\n      <td>178700050</td>\n      <td>465</td>\n      <td>False</td>\n    </tr>\n    <tr>\n      <th>33</th>\n      <td>CsPrtlLogn140ChlngOptns</td>\n      <td>423560012</td>\n      <td>5</td>\n      <td>False</td>\n    </tr>\n    <tr>\n      <th>34</th>\n      <td>SSO</td>\n      <td>31900001</td>\n      <td>87</td>\n      <td>False</td>\n    </tr>\n    <tr>\n      <th>35</th>\n      <td>homepage</td>\n      <td>62000090</td>\n      <td>2203</td>\n      <td>False</td>\n    </tr>\n    <tr>\n      <th>36</th>\n      <td>CsSSOPage</td>\n      <td>432021018</td>\n      <td>15</td>\n      <td>False</td>\n    </tr>\n    <tr>\n      <th>37</th>\n      <td>html/portal/portlet_error.jsp</td>\n      <td>262820058</td>\n      <td>4</td>\n      <td>False</td>\n    </tr>\n    <tr>\n      <th>38</th>\n      <td>Savings and Retirement</td>\n      <td>88441042</td>\n      <td>1208</td>\n      <td>False</td>\n    </tr>\n    <tr>\n      <th>39</th>\n      <td>beneficiaries</td>\n      <td>382700037</td>\n      <td>5</td>\n      <td>False</td>\n    </tr>\n    <tr>\n      <th>40</th>\n      <td>IST_LB_LTI</td>\n      <td>484310051</td>\n      <td>3</td>\n      <td>False</td>\n    </tr>\n    <tr>\n      <th>41</th>\n      <td>homepage</td>\n      <td>890001356</td>\n      <td>309</td>\n      <td>False</td>\n    </tr>\n    <tr>\n      <th>42</th>\n      <td>Common: Home Screen</td>\n      <td>64867054</td>\n      <td>124</td>\n      <td>False</td>\n    </tr>\n    <tr>\n      <th>43</th>\n      <td>Authentication</td>\n      <td>292900074</td>\n      <td>1</td>\n      <td>False</td>\n    </tr>\n    <tr>\n      <th>44</th>\n      <td>CsPrtlLogn100OobEml</td>\n      <td>259025404</td>\n      <td>4</td>\n      <td>False</td>\n    </tr>\n    <tr>\n      <th>45</th>\n      <td>dbprojections</td>\n      <td>465210001</td>\n      <td>144</td>\n      <td>False</td>\n    </tr>\n    <tr>\n      <th>46</th>\n      <td>Login</td>\n      <td>429100044</td>\n      <td>214</td>\n      <td>False</td>\n    </tr>\n    <tr>\n      <th>47</th>\n      <td>SSO</td>\n      <td>489000063</td>\n      <td>133</td>\n      <td>False</td>\n    </tr>\n    <tr>\n      <th>48</th>\n      <td>csexstcompsuccess</td>\n      <td>420320083</td>\n      <td>5</td>\n      <td>False</td>\n    </tr>\n    <tr>\n      <th>49</th>\n      <td>CsPrtlLogn130OobTxtCplt</td>\n      <td>255500082</td>\n      <td>2</td>\n      <td>False</td>\n    </tr>\n    <tr>\n      <th>50</th>\n      <td>SSO</td>\n      <td>419310024</td>\n      <td>306</td>\n      <td>False</td>\n    </tr>\n    <tr>\n      <th>51</th>\n      <td>pay-and-time</td>\n      <td>481310010</td>\n      <td>86</td>\n      <td>True</td>\n    </tr>\n  </tbody>\n</table>\n</div>"
      ]
     },
     "metadata": {
      "application/vnd.databricks.v1+output": {
       "addedWidgets": {},
       "arguments": {},
       "data": "<div>\n<style scoped>\n    .dataframe tbody tr th:only-of-type {\n        vertical-align: middle;\n    }\n\n    .dataframe tbody tr th {\n        vertical-align: top;\n    }\n\n    .dataframe thead th {\n        text-align: right;\n    }\n</style>\n<table border=\"1\" class=\"dataframe\">\n  <thead>\n    <tr style=\"text-align: right;\">\n      <th></th>\n      <th>page_name</th>\n      <th>person_internal_id</th>\n      <th>count</th>\n      <th>Mark</th>\n    </tr>\n  </thead>\n  <tbody>\n    <tr>\n      <th>1</th>\n      <td>IST_LB_HRSelfSrv</td>\n      <td>479800006</td>\n      <td>1</td>\n      <td>False</td>\n    </tr>\n    <tr>\n      <th>2</th>\n      <td>Other Benefits</td>\n      <td>29700097</td>\n      <td>2</td>\n      <td>False</td>\n    </tr>\n    <tr>\n      <th>3</th>\n      <td>homepage</td>\n      <td>370850089</td>\n      <td>101</td>\n      <td>False</td>\n    </tr>\n    <tr>\n      <th>4</th>\n      <td>CsPrtlLogn130OobTxtCplt</td>\n      <td>217610089</td>\n      <td>3</td>\n      <td>False</td>\n    </tr>\n    <tr>\n      <th>5</th>\n      <td>SSO</td>\n      <td>100000052116387</td>\n      <td>63</td>\n      <td>False</td>\n    </tr>\n    <tr>\n      <th>6</th>\n      <td>SSO</td>\n      <td>435511081</td>\n      <td>53</td>\n      <td>False</td>\n    </tr>\n    <tr>\n      <th>7</th>\n      <td>clmsovrw</td>\n      <td>6310024</td>\n      <td>84</td>\n      <td>False</td>\n    </tr>\n    <tr>\n      <th>8</th>\n      <td>dcaccountsummary</td>\n      <td>88000064</td>\n      <td>47</td>\n      <td>False</td>\n    </tr>\n    <tr>\n      <th>9</th>\n      <td>Health Enrollment Flow</td>\n      <td>17120001</td>\n      <td>14</td>\n      <td>True</td>\n    </tr>\n    <tr>\n      <th>10</th>\n      <td>Authentication</td>\n      <td>17120001</td>\n      <td>17</td>\n      <td>False</td>\n    </tr>\n    <tr>\n      <th>11</th>\n      <td>IST_OTHBENEVP</td>\n      <td>326000077</td>\n      <td>5</td>\n      <td>False</td>\n    </tr>\n    <tr>\n      <th>12</th>\n      <td>reqrcptdoc</td>\n      <td>429520000</td>\n      <td>1</td>\n      <td>False</td>\n    </tr>\n    <tr>\n      <th>13</th>\n      <td>dcaccountsummary</td>\n      <td>159410079</td>\n      <td>132</td>\n      <td>False</td>\n    </tr>\n    <tr>\n      <th>14</th>\n      <td>Authentication</td>\n      <td>31100030</td>\n      <td>714</td>\n      <td>False</td>\n    </tr>\n    <tr>\n      <th>15</th>\n      <td>homepage</td>\n      <td>299000064</td>\n      <td>2634</td>\n      <td>False</td>\n    </tr>\n    <tr>\n      <th>16</th>\n      <td>homepage</td>\n      <td>59150070</td>\n      <td>428</td>\n      <td>False</td>\n    </tr>\n    <tr>\n      <th>17</th>\n      <td>current-coverage-page</td>\n      <td>417200096</td>\n      <td>3</td>\n      <td>False</td>\n    </tr>\n    <tr>\n      <th>18</th>\n      <td>SSO</td>\n      <td>13000076</td>\n      <td>345</td>\n      <td>False</td>\n    </tr>\n    <tr>\n      <th>19</th>\n      <td>IST_YTR</td>\n      <td>16300083</td>\n      <td>19</td>\n      <td>False</td>\n    </tr>\n    <tr>\n      <th>20</th>\n      <td>requestMaterials</td>\n      <td>430260076</td>\n      <td>5</td>\n      <td>False</td>\n    </tr>\n    <tr>\n      <th>21</th>\n      <td>/CsPfyb070PmtHstrOpen</td>\n      <td>268930072</td>\n      <td>1</td>\n      <td>False</td>\n    </tr>\n    <tr>\n      <th>23</th>\n      <td>CsPrtlLogn020EntrPrsnId</td>\n      <td>364120012</td>\n      <td>2</td>\n      <td>False</td>\n    </tr>\n    <tr>\n      <th>24</th>\n      <td>contentPage - Plan Information, Notices &amp; Guides</td>\n      <td>60002774</td>\n      <td>8</td>\n      <td>False</td>\n    </tr>\n    <tr>\n      <th>25</th>\n      <td>homepage</td>\n      <td>162900068</td>\n      <td>76</td>\n      <td>False</td>\n    </tr>\n    <tr>\n      <th>26</th>\n      <td>CsSSOPage</td>\n      <td>347880067</td>\n      <td>3</td>\n      <td>False</td>\n    </tr>\n    <tr>\n      <th>27</th>\n      <td>contentPage - This Request Can't Be Processed</td>\n      <td>204100027</td>\n      <td>12</td>\n      <td>False</td>\n    </tr>\n    <tr>\n      <th>28</th>\n      <td>Login</td>\n      <td>36371045</td>\n      <td>10</td>\n      <td>False</td>\n    </tr>\n    <tr>\n      <th>29</th>\n      <td>login</td>\n      <td>155300038</td>\n      <td>7</td>\n      <td>False</td>\n    </tr>\n    <tr>\n      <th>30</th>\n      <td>HmModlAddEditABeneDpndAdd_EE-LIFE</td>\n      <td>317900079</td>\n      <td>3</td>\n      <td>False</td>\n    </tr>\n    <tr>\n      <th>31</th>\n      <td>CsPrtlPlsWait010PrcsRqst</td>\n      <td>680098531</td>\n      <td>1</td>\n      <td>False</td>\n    </tr>\n    <tr>\n      <th>32</th>\n      <td>Authentication</td>\n      <td>178700050</td>\n      <td>465</td>\n      <td>False</td>\n    </tr>\n    <tr>\n      <th>33</th>\n      <td>CsPrtlLogn140ChlngOptns</td>\n      <td>423560012</td>\n      <td>5</td>\n      <td>False</td>\n    </tr>\n    <tr>\n      <th>34</th>\n      <td>SSO</td>\n      <td>31900001</td>\n      <td>87</td>\n      <td>False</td>\n    </tr>\n    <tr>\n      <th>35</th>\n      <td>homepage</td>\n      <td>62000090</td>\n      <td>2203</td>\n      <td>False</td>\n    </tr>\n    <tr>\n      <th>36</th>\n      <td>CsSSOPage</td>\n      <td>432021018</td>\n      <td>15</td>\n      <td>False</td>\n    </tr>\n    <tr>\n      <th>37</th>\n      <td>html/portal/portlet_error.jsp</td>\n      <td>262820058</td>\n      <td>4</td>\n      <td>False</td>\n    </tr>\n    <tr>\n      <th>38</th>\n      <td>Savings and Retirement</td>\n      <td>88441042</td>\n      <td>1208</td>\n      <td>False</td>\n    </tr>\n    <tr>\n      <th>39</th>\n      <td>beneficiaries</td>\n      <td>382700037</td>\n      <td>5</td>\n      <td>False</td>\n    </tr>\n    <tr>\n      <th>40</th>\n      <td>IST_LB_LTI</td>\n      <td>484310051</td>\n      <td>3</td>\n      <td>False</td>\n    </tr>\n    <tr>\n      <th>41</th>\n      <td>homepage</td>\n      <td>890001356</td>\n      <td>309</td>\n      <td>False</td>\n    </tr>\n    <tr>\n      <th>42</th>\n      <td>Common: Home Screen</td>\n      <td>64867054</td>\n      <td>124</td>\n      <td>False</td>\n    </tr>\n    <tr>\n      <th>43</th>\n      <td>Authentication</td>\n      <td>292900074</td>\n      <td>1</td>\n      <td>False</td>\n    </tr>\n    <tr>\n      <th>44</th>\n      <td>CsPrtlLogn100OobEml</td>\n      <td>259025404</td>\n      <td>4</td>\n      <td>False</td>\n    </tr>\n    <tr>\n      <th>45</th>\n      <td>dbprojections</td>\n      <td>465210001</td>\n      <td>144</td>\n      <td>False</td>\n    </tr>\n    <tr>\n      <th>46</th>\n      <td>Login</td>\n      <td>429100044</td>\n      <td>214</td>\n      <td>False</td>\n    </tr>\n    <tr>\n      <th>47</th>\n      <td>SSO</td>\n      <td>489000063</td>\n      <td>133</td>\n      <td>False</td>\n    </tr>\n    <tr>\n      <th>48</th>\n      <td>csexstcompsuccess</td>\n      <td>420320083</td>\n      <td>5</td>\n      <td>False</td>\n    </tr>\n    <tr>\n      <th>49</th>\n      <td>CsPrtlLogn130OobTxtCplt</td>\n      <td>255500082</td>\n      <td>2</td>\n      <td>False</td>\n    </tr>\n    <tr>\n      <th>50</th>\n      <td>SSO</td>\n      <td>419310024</td>\n      <td>306</td>\n      <td>False</td>\n    </tr>\n    <tr>\n      <th>51</th>\n      <td>pay-and-time</td>\n      <td>481310010</td>\n      <td>86</td>\n      <td>True</td>\n    </tr>\n  </tbody>\n</table>\n</div>",
       "datasetInfos": [],
       "metadata": {},
       "removedWidgets": [],
       "textData": null,
       "type": "htmlSandbox"
      }
     },
     "output_type": "display_data"
    }
   ],
   "source": [
    "pn_df.head(50)"
   ]
  },
  {
   "cell_type": "code",
   "execution_count": 0,
   "metadata": {
    "application/vnd.databricks.v1+cell": {
     "cellMetadata": {
      "byteLimit": 2048000,
      "rowLimit": 10000
     },
     "inputWidgets": {},
     "nuid": "94fd5c55-48ef-4edf-b944-29f8fecbfa28",
     "showTitle": false,
     "title": ""
    }
   },
   "outputs": [
    {
     "output_type": "display_data",
     "data": {
      "text/html": [
       "<style scoped>\n  .ansiout {\n    display: block;\n    unicode-bidi: embed;\n    white-space: pre-wrap;\n    word-wrap: break-word;\n    word-break: break-all;\n    font-family: \"Source Code Pro\", \"Menlo\", monospace;;\n    font-size: 13px;\n    color: #555;\n    margin-left: 4px;\n    line-height: 19px;\n  }\n</style>\n<div class=\"ansiout\">Requirement already satisfied: nltk in /databricks/python3/lib/python3.8/site-packages (3.8.1)\r\nRequirement already satisfied: click in /databricks/python3/lib/python3.8/site-packages (from nltk) (8.1.3)\r\nRequirement already satisfied: joblib in /databricks/python3/lib/python3.8/site-packages (from nltk) (1.0.1)\r\nRequirement already satisfied: tqdm in /databricks/python3/lib/python3.8/site-packages (from nltk) (4.65.0)\r\nRequirement already satisfied: regex&gt;=2021.8.3 in /databricks/python3/lib/python3.8/site-packages (from nltk) (2023.5.5)\r\n<span class=\"ansi-yellow-fg\">WARNING: You are using pip version 21.0.1; however, version 23.1.2 is available.\r\nYou should consider upgrading via the &#39;/databricks/python3/bin/python -m pip install --upgrade pip&#39; command.</span>\r\n</div>"
      ]
     },
     "metadata": {
      "application/vnd.databricks.v1+output": {
       "addedWidgets": {},
       "arguments": {},
       "data": "<div class=\"ansiout\">Requirement already satisfied: nltk in /databricks/python3/lib/python3.8/site-packages (3.8.1)\r\nRequirement already satisfied: click in /databricks/python3/lib/python3.8/site-packages (from nltk) (8.1.3)\r\nRequirement already satisfied: joblib in /databricks/python3/lib/python3.8/site-packages (from nltk) (1.0.1)\r\nRequirement already satisfied: tqdm in /databricks/python3/lib/python3.8/site-packages (from nltk) (4.65.0)\r\nRequirement already satisfied: regex&gt;=2021.8.3 in /databricks/python3/lib/python3.8/site-packages (from nltk) (2023.5.5)\r\n<span class=\"ansi-yellow-fg\">WARNING: You are using pip version 21.0.1; however, version 23.1.2 is available.\r\nYou should consider upgrading via the &#39;/databricks/python3/bin/python -m pip install --upgrade pip&#39; command.</span>\r\n</div>",
       "datasetInfos": [],
       "metadata": {},
       "removedWidgets": [],
       "type": "html"
      }
     },
     "output_type": "display_data"
    }
   ],
   "source": [
    "!pip install nltk"
   ]
  },
  {
   "cell_type": "code",
   "execution_count": 0,
   "metadata": {
    "application/vnd.databricks.v1+cell": {
     "cellMetadata": {
      "byteLimit": 2048000,
      "rowLimit": 10000
     },
     "inputWidgets": {},
     "nuid": "895a2d64-4f25-413c-a017-9baa52b0823f",
     "showTitle": false,
     "title": ""
    }
   },
   "outputs": [
    {
     "output_type": "display_data",
     "data": {
      "text/html": [
       "<style scoped>\n  .ansiout {\n    display: block;\n    unicode-bidi: embed;\n    white-space: pre-wrap;\n    word-wrap: break-word;\n    word-break: break-all;\n    font-family: \"Source Code Pro\", \"Menlo\", monospace;;\n    font-size: 13px;\n    color: #555;\n    margin-left: 4px;\n    line-height: 19px;\n  }\n</style>\n<div class=\"ansiout\">[nltk_data] Downloading package stopwords to /root/nltk_data...\n[nltk_data]   Package stopwords is already up-to-date!\n[nltk_data] Downloading package punkt to /root/nltk_data...\n[nltk_data]   Unzipping tokenizers/punkt.zip.\n[nltk_data] Downloading package wordnet to /root/nltk_data...\nOut[75]: True</div>"
      ]
     },
     "metadata": {
      "application/vnd.databricks.v1+output": {
       "addedWidgets": {},
       "arguments": {},
       "data": "<div class=\"ansiout\">[nltk_data] Downloading package stopwords to /root/nltk_data...\n[nltk_data]   Package stopwords is already up-to-date!\n[nltk_data] Downloading package punkt to /root/nltk_data...\n[nltk_data]   Unzipping tokenizers/punkt.zip.\n[nltk_data] Downloading package wordnet to /root/nltk_data...\nOut[75]: True</div>",
       "datasetInfos": [],
       "metadata": {},
       "removedWidgets": [],
       "type": "html"
      }
     },
     "output_type": "display_data"
    }
   ],
   "source": [
    "import os\n",
    "import pyspark\n",
    "import csv\n",
    "import nltk\n",
    "import json\n",
    "import string\n",
    "import re\n",
    "\n",
    "from pyspark.ml.feature import Tokenizer, StopWordsRemover\n",
    "from pyspark.ml.feature import NGram\n",
    "from pyspark import SparkContext, SparkConf as sc\n",
    "from pyspark.sql.types import StringType\n",
    "\n",
    "from nltk.corpus import stopwords\n",
    "nltk.download('stopwords')\n",
    "\n",
    "from pyspark.sql import SQLContext\n",
    "from pyspark.sql.functions import explode,regexp_replace\n",
    "\n",
    "import pandas\n",
    "# import hdfs\n",
    "\n",
    "\n",
    "\n",
    "nltk.download('punkt')\n",
    "from nltk.stem import WordNetLemmatizer\n",
    "nltk.download('wordnet')"
   ]
  },
  {
   "cell_type": "code",
   "execution_count": 0,
   "metadata": {
    "application/vnd.databricks.v1+cell": {
     "cellMetadata": {},
     "inputWidgets": {},
     "nuid": "1ba396e1-a7ea-4098-9a87-39402e673dfa",
     "showTitle": false,
     "title": ""
    }
   },
   "outputs": [],
   "source": []
  },
  {
   "cell_type": "code",
   "execution_count": 0,
   "metadata": {
    "application/vnd.databricks.v1+cell": {
     "cellMetadata": {},
     "inputWidgets": {},
     "nuid": "b4573642-3e5b-4625-8893-b930b0c43215",
     "showTitle": false,
     "title": ""
    }
   },
   "outputs": [],
   "source": []
  },
  {
   "cell_type": "code",
   "execution_count": 0,
   "metadata": {
    "application/vnd.databricks.v1+cell": {
     "cellMetadata": {
      "byteLimit": 2048000,
      "rowLimit": 10000
     },
     "inputWidgets": {},
     "nuid": "51f4cafb-5485-4987-b95d-418d7c88526f",
     "showTitle": false,
     "title": ""
    }
   },
   "outputs": [
    {
     "output_type": "display_data",
     "data": {
      "text/html": [
       "<style scoped>\n  .ansiout {\n    display: block;\n    unicode-bidi: embed;\n    white-space: pre-wrap;\n    word-wrap: break-word;\n    word-break: break-all;\n    font-family: \"Source Code Pro\", \"Menlo\", monospace;;\n    font-size: 13px;\n    color: #555;\n    margin-left: 4px;\n    line-height: 19px;\n  }\n</style>\n<div class=\"ansiout\"></div>"
      ]
     },
     "metadata": {
      "application/vnd.databricks.v1+output": {
       "addedWidgets": {},
       "arguments": {},
       "data": "<div class=\"ansiout\"></div>",
       "datasetInfos": [],
       "metadata": {},
       "removedWidgets": [],
       "type": "html"
      }
     },
     "output_type": "display_data"
    }
   ],
   "source": [
    "stopwords = nltk.corpus.stopwords.words('english')"
   ]
  },
  {
   "cell_type": "code",
   "execution_count": 0,
   "metadata": {
    "application/vnd.databricks.v1+cell": {
     "cellMetadata": {},
     "inputWidgets": {},
     "nuid": "9f6ed906-938f-4bcf-bf9c-3c377f9e8f6e",
     "showTitle": false,
     "title": ""
    }
   },
   "outputs": [],
   "source": []
  },
  {
   "cell_type": "code",
   "execution_count": 0,
   "metadata": {
    "application/vnd.databricks.v1+cell": {
     "cellMetadata": {
      "byteLimit": 2048000,
      "rowLimit": 10000
     },
     "inputWidgets": {},
     "nuid": "ce620fcd-76d4-4f0f-8929-b673df79d406",
     "showTitle": false,
     "title": ""
    }
   },
   "outputs": [
    {
     "output_type": "display_data",
     "data": {
      "text/html": [
       "<style scoped>\n  .ansiout {\n    display: block;\n    unicode-bidi: embed;\n    white-space: pre-wrap;\n    word-wrap: break-word;\n    word-break: break-all;\n    font-family: \"Source Code Pro\", \"Menlo\", monospace;;\n    font-size: 13px;\n    color: #555;\n    margin-left: 4px;\n    line-height: 19px;\n  }\n</style>\n<div class=\"ansiout\"></div>"
      ]
     },
     "metadata": {
      "application/vnd.databricks.v1+output": {
       "addedWidgets": {},
       "arguments": {},
       "data": "<div class=\"ansiout\"></div>",
       "datasetInfos": [],
       "metadata": {},
       "removedWidgets": [],
       "type": "html"
      }
     },
     "output_type": "display_data"
    }
   ],
   "source": [
    "import re\n",
    "def remove_special_characters(text, remove_digits=True):\n",
    "    pattern=r'[^a-zA-z0-9\\s]'\n",
    "    text=re.sub(pattern,'',text)\n",
    "    return text"
   ]
  },
  {
   "cell_type": "code",
   "execution_count": 0,
   "metadata": {
    "application/vnd.databricks.v1+cell": {
     "cellMetadata": {
      "byteLimit": 2048000,
      "rowLimit": 10000
     },
     "inputWidgets": {},
     "nuid": "90a926c3-c28a-41ef-bc4f-f2f1c9ecac35",
     "showTitle": false,
     "title": ""
    }
   },
   "outputs": [
    {
     "output_type": "display_data",
     "data": {
      "text/html": [
       "<style scoped>\n  .ansiout {\n    display: block;\n    unicode-bidi: embed;\n    white-space: pre-wrap;\n    word-wrap: break-word;\n    word-break: break-all;\n    font-family: \"Source Code Pro\", \"Menlo\", monospace;;\n    font-size: 13px;\n    color: #555;\n    margin-left: 4px;\n    line-height: 19px;\n  }\n</style>\n<div class=\"ansiout\"></div>"
      ]
     },
     "metadata": {
      "application/vnd.databricks.v1+output": {
       "addedWidgets": {},
       "arguments": {},
       "data": "<div class=\"ansiout\"></div>",
       "datasetInfos": [],
       "metadata": {},
       "removedWidgets": [],
       "type": "html"
      }
     },
     "output_type": "display_data"
    }
   ],
   "source": [
    "def remove_stopwords(text):\n",
    "    text = \" \".join([word for word in text.split() if word not in stopwords])\n",
    "    return text"
   ]
  },
  {
   "cell_type": "code",
   "execution_count": 0,
   "metadata": {
    "application/vnd.databricks.v1+cell": {
     "cellMetadata": {},
     "inputWidgets": {},
     "nuid": "2c63b713-2259-46e5-b36a-ca5ca3788a69",
     "showTitle": false,
     "title": ""
    }
   },
   "outputs": [],
   "source": []
  },
  {
   "cell_type": "code",
   "execution_count": 0,
   "metadata": {
    "application/vnd.databricks.v1+cell": {
     "cellMetadata": {
      "byteLimit": 2048000,
      "rowLimit": 10000
     },
     "inputWidgets": {},
     "nuid": "63714fbb-c2ca-4cab-9065-02a3120a9910",
     "showTitle": false,
     "title": ""
    }
   },
   "outputs": [
    {
     "output_type": "display_data",
     "data": {
      "text/html": [
       "<style scoped>\n  .ansiout {\n    display: block;\n    unicode-bidi: embed;\n    white-space: pre-wrap;\n    word-wrap: break-word;\n    word-break: break-all;\n    font-family: \"Source Code Pro\", \"Menlo\", monospace;;\n    font-size: 13px;\n    color: #555;\n    margin-left: 4px;\n    line-height: 19px;\n  }\n</style>\n<div class=\"ansiout\"></div>"
      ]
     },
     "metadata": {
      "application/vnd.databricks.v1+output": {
       "addedWidgets": {},
       "arguments": {},
       "data": "<div class=\"ansiout\"></div>",
       "datasetInfos": [],
       "metadata": {},
       "removedWidgets": [],
       "type": "html"
      }
     },
     "output_type": "display_data"
    }
   ],
   "source": [
    "pn_df['page_name'] = pn_df['page_name'].apply(remove_stopwords)"
   ]
  },
  {
   "cell_type": "code",
   "execution_count": 0,
   "metadata": {
    "application/vnd.databricks.v1+cell": {
     "cellMetadata": {
      "byteLimit": 2048000,
      "rowLimit": 10000
     },
     "inputWidgets": {},
     "nuid": "65100ddc-d132-4952-8e38-325a4d0e6a12",
     "showTitle": false,
     "title": ""
    }
   },
   "outputs": [
    {
     "output_type": "display_data",
     "data": {
      "text/html": [
       "<style scoped>\n  .ansiout {\n    display: block;\n    unicode-bidi: embed;\n    white-space: pre-wrap;\n    word-wrap: break-word;\n    word-break: break-all;\n    font-family: \"Source Code Pro\", \"Menlo\", monospace;;\n    font-size: 13px;\n    color: #555;\n    margin-left: 4px;\n    line-height: 19px;\n  }\n</style>\n<div class=\"ansiout\"></div>"
      ]
     },
     "metadata": {
      "application/vnd.databricks.v1+output": {
       "addedWidgets": {},
       "arguments": {},
       "data": "<div class=\"ansiout\"></div>",
       "datasetInfos": [],
       "metadata": {},
       "removedWidgets": [],
       "type": "html"
      }
     },
     "output_type": "display_data"
    },
    {
     "output_type": "display_data",
     "data": {
      "text/html": [
       "<style scoped>\n  .ansiout {\n    display: block;\n    unicode-bidi: embed;\n    white-space: pre-wrap;\n    word-wrap: break-word;\n    word-break: break-all;\n    font-family: \"Source Code Pro\", \"Menlo\", monospace;;\n    font-size: 13px;\n    color: #555;\n    margin-left: 4px;\n    line-height: 19px;\n  }\n</style>"
      ]
     },
     "metadata": {
      "application/vnd.databricks.v1+output": {
       "arguments": {},
       "data": "",
       "errorSummary": "",
       "errorTraceType": null,
       "metadata": {},
       "type": "ipynbError"
      }
     },
     "output_type": "display_data"
    }
   ],
   "source": [
    "\n",
    "pn_df['page_name'] = pn_df['page_name'].apply(remove_special_characters)"
   ]
  },
  {
   "cell_type": "code",
   "execution_count": 0,
   "metadata": {
    "application/vnd.databricks.v1+cell": {
     "cellMetadata": {
      "byteLimit": 2048000,
      "rowLimit": 10000
     },
     "inputWidgets": {},
     "nuid": "ed295e56-b498-4707-a230-bcde1c8ca984",
     "showTitle": false,
     "title": ""
    }
   },
   "outputs": [
    {
     "output_type": "display_data",
     "data": {
      "text/html": [
       "<style scoped>\n  .ansiout {\n    display: block;\n    unicode-bidi: embed;\n    white-space: pre-wrap;\n    word-wrap: break-word;\n    word-break: break-all;\n    font-family: \"Source Code Pro\", \"Menlo\", monospace;;\n    font-size: 13px;\n    color: #555;\n    margin-left: 4px;\n    line-height: 19px;\n  }\n</style>\n<div class=\"ansiout\">Out[61]: </div>"
      ]
     },
     "metadata": {
      "application/vnd.databricks.v1+output": {
       "addedWidgets": {},
       "arguments": {},
       "data": "<div class=\"ansiout\">Out[61]: </div>",
       "datasetInfos": [],
       "metadata": {},
       "removedWidgets": [],
       "type": "html"
      }
     },
     "output_type": "display_data"
    },
    {
     "output_type": "display_data",
     "data": {
      "text/html": [
       "<div>\n<style scoped>\n    .dataframe tbody tr th:only-of-type {\n        vertical-align: middle;\n    }\n\n    .dataframe tbody tr th {\n        vertical-align: top;\n    }\n\n    .dataframe thead th {\n        text-align: right;\n    }\n</style>\n<table border=\"1\" class=\"dataframe\">\n  <thead>\n    <tr style=\"text-align: right;\">\n      <th></th>\n      <th>page_name</th>\n      <th>person_internal_id</th>\n      <th>count</th>\n      <th>Mark</th>\n    </tr>\n  </thead>\n  <tbody>\n    <tr>\n      <th>1</th>\n      <td>IST_LB_HRSelfSrv</td>\n      <td>479800006</td>\n      <td>1</td>\n      <td>False</td>\n    </tr>\n    <tr>\n      <th>2</th>\n      <td>Other Benefits</td>\n      <td>29700097</td>\n      <td>2</td>\n      <td>False</td>\n    </tr>\n    <tr>\n      <th>3</th>\n      <td>homepage</td>\n      <td>370850089</td>\n      <td>101</td>\n      <td>False</td>\n    </tr>\n    <tr>\n      <th>4</th>\n      <td>CsPrtlLogn130OobTxtCplt</td>\n      <td>217610089</td>\n      <td>3</td>\n      <td>False</td>\n    </tr>\n    <tr>\n      <th>5</th>\n      <td>SSO</td>\n      <td>100000052116387</td>\n      <td>63</td>\n      <td>False</td>\n    </tr>\n    <tr>\n      <th>6</th>\n      <td>SSO</td>\n      <td>435511081</td>\n      <td>53</td>\n      <td>False</td>\n    </tr>\n    <tr>\n      <th>7</th>\n      <td>clmsovrw</td>\n      <td>6310024</td>\n      <td>84</td>\n      <td>False</td>\n    </tr>\n    <tr>\n      <th>8</th>\n      <td>dcaccountsummary</td>\n      <td>88000064</td>\n      <td>47</td>\n      <td>False</td>\n    </tr>\n    <tr>\n      <th>9</th>\n      <td>Health Enrollment Flow</td>\n      <td>17120001</td>\n      <td>14</td>\n      <td>True</td>\n    </tr>\n    <tr>\n      <th>10</th>\n      <td>Authentication</td>\n      <td>17120001</td>\n      <td>17</td>\n      <td>False</td>\n    </tr>\n    <tr>\n      <th>11</th>\n      <td>IST_OTHBENEVP</td>\n      <td>326000077</td>\n      <td>5</td>\n      <td>False</td>\n    </tr>\n    <tr>\n      <th>12</th>\n      <td>reqrcptdoc</td>\n      <td>429520000</td>\n      <td>1</td>\n      <td>False</td>\n    </tr>\n    <tr>\n      <th>13</th>\n      <td>dcaccountsummary</td>\n      <td>159410079</td>\n      <td>132</td>\n      <td>False</td>\n    </tr>\n    <tr>\n      <th>14</th>\n      <td>Authentication</td>\n      <td>31100030</td>\n      <td>714</td>\n      <td>False</td>\n    </tr>\n    <tr>\n      <th>15</th>\n      <td>homepage</td>\n      <td>299000064</td>\n      <td>2634</td>\n      <td>False</td>\n    </tr>\n    <tr>\n      <th>16</th>\n      <td>homepage</td>\n      <td>59150070</td>\n      <td>428</td>\n      <td>False</td>\n    </tr>\n    <tr>\n      <th>17</th>\n      <td>currentcoveragepage</td>\n      <td>417200096</td>\n      <td>3</td>\n      <td>False</td>\n    </tr>\n    <tr>\n      <th>18</th>\n      <td>SSO</td>\n      <td>13000076</td>\n      <td>345</td>\n      <td>False</td>\n    </tr>\n    <tr>\n      <th>19</th>\n      <td>IST_YTR</td>\n      <td>16300083</td>\n      <td>19</td>\n      <td>False</td>\n    </tr>\n    <tr>\n      <th>20</th>\n      <td>requestMaterials</td>\n      <td>430260076</td>\n      <td>5</td>\n      <td>False</td>\n    </tr>\n    <tr>\n      <th>21</th>\n      <td>CsPfyb070PmtHstrOpen</td>\n      <td>268930072</td>\n      <td>1</td>\n      <td>False</td>\n    </tr>\n    <tr>\n      <th>23</th>\n      <td>CsPrtlLogn020EntrPrsnId</td>\n      <td>364120012</td>\n      <td>2</td>\n      <td>False</td>\n    </tr>\n    <tr>\n      <th>24</th>\n      <td>contentPage  Plan Information Notices  Guides</td>\n      <td>60002774</td>\n      <td>8</td>\n      <td>False</td>\n    </tr>\n    <tr>\n      <th>25</th>\n      <td>homepage</td>\n      <td>162900068</td>\n      <td>76</td>\n      <td>False</td>\n    </tr>\n    <tr>\n      <th>26</th>\n      <td>CsSSOPage</td>\n      <td>347880067</td>\n      <td>3</td>\n      <td>False</td>\n    </tr>\n    <tr>\n      <th>27</th>\n      <td>contentPage  This Request Cant Be Processed</td>\n      <td>204100027</td>\n      <td>12</td>\n      <td>False</td>\n    </tr>\n    <tr>\n      <th>28</th>\n      <td>Login</td>\n      <td>36371045</td>\n      <td>10</td>\n      <td>False</td>\n    </tr>\n    <tr>\n      <th>29</th>\n      <td>login</td>\n      <td>155300038</td>\n      <td>7</td>\n      <td>False</td>\n    </tr>\n    <tr>\n      <th>30</th>\n      <td>HmModlAddEditABeneDpndAdd_EELIFE</td>\n      <td>317900079</td>\n      <td>3</td>\n      <td>False</td>\n    </tr>\n    <tr>\n      <th>31</th>\n      <td>CsPrtlPlsWait010PrcsRqst</td>\n      <td>680098531</td>\n      <td>1</td>\n      <td>False</td>\n    </tr>\n    <tr>\n      <th>32</th>\n      <td>Authentication</td>\n      <td>178700050</td>\n      <td>465</td>\n      <td>False</td>\n    </tr>\n    <tr>\n      <th>33</th>\n      <td>CsPrtlLogn140ChlngOptns</td>\n      <td>423560012</td>\n      <td>5</td>\n      <td>False</td>\n    </tr>\n    <tr>\n      <th>34</th>\n      <td>SSO</td>\n      <td>31900001</td>\n      <td>87</td>\n      <td>False</td>\n    </tr>\n    <tr>\n      <th>35</th>\n      <td>homepage</td>\n      <td>62000090</td>\n      <td>2203</td>\n      <td>False</td>\n    </tr>\n    <tr>\n      <th>36</th>\n      <td>CsSSOPage</td>\n      <td>432021018</td>\n      <td>15</td>\n      <td>False</td>\n    </tr>\n    <tr>\n      <th>37</th>\n      <td>htmlportalportlet_errorjsp</td>\n      <td>262820058</td>\n      <td>4</td>\n      <td>False</td>\n    </tr>\n    <tr>\n      <th>38</th>\n      <td>Savings and Retirement</td>\n      <td>88441042</td>\n      <td>1208</td>\n      <td>False</td>\n    </tr>\n    <tr>\n      <th>39</th>\n      <td>beneficiaries</td>\n      <td>382700037</td>\n      <td>5</td>\n      <td>False</td>\n    </tr>\n    <tr>\n      <th>40</th>\n      <td>IST_LB_LTI</td>\n      <td>484310051</td>\n      <td>3</td>\n      <td>False</td>\n    </tr>\n    <tr>\n      <th>41</th>\n      <td>homepage</td>\n      <td>890001356</td>\n      <td>309</td>\n      <td>False</td>\n    </tr>\n    <tr>\n      <th>42</th>\n      <td>Common Home Screen</td>\n      <td>64867054</td>\n      <td>124</td>\n      <td>False</td>\n    </tr>\n    <tr>\n      <th>43</th>\n      <td>Authentication</td>\n      <td>292900074</td>\n      <td>1</td>\n      <td>False</td>\n    </tr>\n    <tr>\n      <th>44</th>\n      <td>CsPrtlLogn100OobEml</td>\n      <td>259025404</td>\n      <td>4</td>\n      <td>False</td>\n    </tr>\n    <tr>\n      <th>45</th>\n      <td>dbprojections</td>\n      <td>465210001</td>\n      <td>144</td>\n      <td>False</td>\n    </tr>\n    <tr>\n      <th>46</th>\n      <td>Login</td>\n      <td>429100044</td>\n      <td>214</td>\n      <td>False</td>\n    </tr>\n    <tr>\n      <th>47</th>\n      <td>SSO</td>\n      <td>489000063</td>\n      <td>133</td>\n      <td>False</td>\n    </tr>\n    <tr>\n      <th>48</th>\n      <td>csexstcompsuccess</td>\n      <td>420320083</td>\n      <td>5</td>\n      <td>False</td>\n    </tr>\n    <tr>\n      <th>49</th>\n      <td>CsPrtlLogn130OobTxtCplt</td>\n      <td>255500082</td>\n      <td>2</td>\n      <td>False</td>\n    </tr>\n    <tr>\n      <th>50</th>\n      <td>SSO</td>\n      <td>419310024</td>\n      <td>306</td>\n      <td>False</td>\n    </tr>\n    <tr>\n      <th>51</th>\n      <td>payandtime</td>\n      <td>481310010</td>\n      <td>86</td>\n      <td>True</td>\n    </tr>\n  </tbody>\n</table>\n</div>"
      ]
     },
     "metadata": {
      "application/vnd.databricks.v1+output": {
       "addedWidgets": {},
       "arguments": {},
       "data": "<div>\n<style scoped>\n    .dataframe tbody tr th:only-of-type {\n        vertical-align: middle;\n    }\n\n    .dataframe tbody tr th {\n        vertical-align: top;\n    }\n\n    .dataframe thead th {\n        text-align: right;\n    }\n</style>\n<table border=\"1\" class=\"dataframe\">\n  <thead>\n    <tr style=\"text-align: right;\">\n      <th></th>\n      <th>page_name</th>\n      <th>person_internal_id</th>\n      <th>count</th>\n      <th>Mark</th>\n    </tr>\n  </thead>\n  <tbody>\n    <tr>\n      <th>1</th>\n      <td>IST_LB_HRSelfSrv</td>\n      <td>479800006</td>\n      <td>1</td>\n      <td>False</td>\n    </tr>\n    <tr>\n      <th>2</th>\n      <td>Other Benefits</td>\n      <td>29700097</td>\n      <td>2</td>\n      <td>False</td>\n    </tr>\n    <tr>\n      <th>3</th>\n      <td>homepage</td>\n      <td>370850089</td>\n      <td>101</td>\n      <td>False</td>\n    </tr>\n    <tr>\n      <th>4</th>\n      <td>CsPrtlLogn130OobTxtCplt</td>\n      <td>217610089</td>\n      <td>3</td>\n      <td>False</td>\n    </tr>\n    <tr>\n      <th>5</th>\n      <td>SSO</td>\n      <td>100000052116387</td>\n      <td>63</td>\n      <td>False</td>\n    </tr>\n    <tr>\n      <th>6</th>\n      <td>SSO</td>\n      <td>435511081</td>\n      <td>53</td>\n      <td>False</td>\n    </tr>\n    <tr>\n      <th>7</th>\n      <td>clmsovrw</td>\n      <td>6310024</td>\n      <td>84</td>\n      <td>False</td>\n    </tr>\n    <tr>\n      <th>8</th>\n      <td>dcaccountsummary</td>\n      <td>88000064</td>\n      <td>47</td>\n      <td>False</td>\n    </tr>\n    <tr>\n      <th>9</th>\n      <td>Health Enrollment Flow</td>\n      <td>17120001</td>\n      <td>14</td>\n      <td>True</td>\n    </tr>\n    <tr>\n      <th>10</th>\n      <td>Authentication</td>\n      <td>17120001</td>\n      <td>17</td>\n      <td>False</td>\n    </tr>\n    <tr>\n      <th>11</th>\n      <td>IST_OTHBENEVP</td>\n      <td>326000077</td>\n      <td>5</td>\n      <td>False</td>\n    </tr>\n    <tr>\n      <th>12</th>\n      <td>reqrcptdoc</td>\n      <td>429520000</td>\n      <td>1</td>\n      <td>False</td>\n    </tr>\n    <tr>\n      <th>13</th>\n      <td>dcaccountsummary</td>\n      <td>159410079</td>\n      <td>132</td>\n      <td>False</td>\n    </tr>\n    <tr>\n      <th>14</th>\n      <td>Authentication</td>\n      <td>31100030</td>\n      <td>714</td>\n      <td>False</td>\n    </tr>\n    <tr>\n      <th>15</th>\n      <td>homepage</td>\n      <td>299000064</td>\n      <td>2634</td>\n      <td>False</td>\n    </tr>\n    <tr>\n      <th>16</th>\n      <td>homepage</td>\n      <td>59150070</td>\n      <td>428</td>\n      <td>False</td>\n    </tr>\n    <tr>\n      <th>17</th>\n      <td>currentcoveragepage</td>\n      <td>417200096</td>\n      <td>3</td>\n      <td>False</td>\n    </tr>\n    <tr>\n      <th>18</th>\n      <td>SSO</td>\n      <td>13000076</td>\n      <td>345</td>\n      <td>False</td>\n    </tr>\n    <tr>\n      <th>19</th>\n      <td>IST_YTR</td>\n      <td>16300083</td>\n      <td>19</td>\n      <td>False</td>\n    </tr>\n    <tr>\n      <th>20</th>\n      <td>requestMaterials</td>\n      <td>430260076</td>\n      <td>5</td>\n      <td>False</td>\n    </tr>\n    <tr>\n      <th>21</th>\n      <td>CsPfyb070PmtHstrOpen</td>\n      <td>268930072</td>\n      <td>1</td>\n      <td>False</td>\n    </tr>\n    <tr>\n      <th>23</th>\n      <td>CsPrtlLogn020EntrPrsnId</td>\n      <td>364120012</td>\n      <td>2</td>\n      <td>False</td>\n    </tr>\n    <tr>\n      <th>24</th>\n      <td>contentPage  Plan Information Notices  Guides</td>\n      <td>60002774</td>\n      <td>8</td>\n      <td>False</td>\n    </tr>\n    <tr>\n      <th>25</th>\n      <td>homepage</td>\n      <td>162900068</td>\n      <td>76</td>\n      <td>False</td>\n    </tr>\n    <tr>\n      <th>26</th>\n      <td>CsSSOPage</td>\n      <td>347880067</td>\n      <td>3</td>\n      <td>False</td>\n    </tr>\n    <tr>\n      <th>27</th>\n      <td>contentPage  This Request Cant Be Processed</td>\n      <td>204100027</td>\n      <td>12</td>\n      <td>False</td>\n    </tr>\n    <tr>\n      <th>28</th>\n      <td>Login</td>\n      <td>36371045</td>\n      <td>10</td>\n      <td>False</td>\n    </tr>\n    <tr>\n      <th>29</th>\n      <td>login</td>\n      <td>155300038</td>\n      <td>7</td>\n      <td>False</td>\n    </tr>\n    <tr>\n      <th>30</th>\n      <td>HmModlAddEditABeneDpndAdd_EELIFE</td>\n      <td>317900079</td>\n      <td>3</td>\n      <td>False</td>\n    </tr>\n    <tr>\n      <th>31</th>\n      <td>CsPrtlPlsWait010PrcsRqst</td>\n      <td>680098531</td>\n      <td>1</td>\n      <td>False</td>\n    </tr>\n    <tr>\n      <th>32</th>\n      <td>Authentication</td>\n      <td>178700050</td>\n      <td>465</td>\n      <td>False</td>\n    </tr>\n    <tr>\n      <th>33</th>\n      <td>CsPrtlLogn140ChlngOptns</td>\n      <td>423560012</td>\n      <td>5</td>\n      <td>False</td>\n    </tr>\n    <tr>\n      <th>34</th>\n      <td>SSO</td>\n      <td>31900001</td>\n      <td>87</td>\n      <td>False</td>\n    </tr>\n    <tr>\n      <th>35</th>\n      <td>homepage</td>\n      <td>62000090</td>\n      <td>2203</td>\n      <td>False</td>\n    </tr>\n    <tr>\n      <th>36</th>\n      <td>CsSSOPage</td>\n      <td>432021018</td>\n      <td>15</td>\n      <td>False</td>\n    </tr>\n    <tr>\n      <th>37</th>\n      <td>htmlportalportlet_errorjsp</td>\n      <td>262820058</td>\n      <td>4</td>\n      <td>False</td>\n    </tr>\n    <tr>\n      <th>38</th>\n      <td>Savings and Retirement</td>\n      <td>88441042</td>\n      <td>1208</td>\n      <td>False</td>\n    </tr>\n    <tr>\n      <th>39</th>\n      <td>beneficiaries</td>\n      <td>382700037</td>\n      <td>5</td>\n      <td>False</td>\n    </tr>\n    <tr>\n      <th>40</th>\n      <td>IST_LB_LTI</td>\n      <td>484310051</td>\n      <td>3</td>\n      <td>False</td>\n    </tr>\n    <tr>\n      <th>41</th>\n      <td>homepage</td>\n      <td>890001356</td>\n      <td>309</td>\n      <td>False</td>\n    </tr>\n    <tr>\n      <th>42</th>\n      <td>Common Home Screen</td>\n      <td>64867054</td>\n      <td>124</td>\n      <td>False</td>\n    </tr>\n    <tr>\n      <th>43</th>\n      <td>Authentication</td>\n      <td>292900074</td>\n      <td>1</td>\n      <td>False</td>\n    </tr>\n    <tr>\n      <th>44</th>\n      <td>CsPrtlLogn100OobEml</td>\n      <td>259025404</td>\n      <td>4</td>\n      <td>False</td>\n    </tr>\n    <tr>\n      <th>45</th>\n      <td>dbprojections</td>\n      <td>465210001</td>\n      <td>144</td>\n      <td>False</td>\n    </tr>\n    <tr>\n      <th>46</th>\n      <td>Login</td>\n      <td>429100044</td>\n      <td>214</td>\n      <td>False</td>\n    </tr>\n    <tr>\n      <th>47</th>\n      <td>SSO</td>\n      <td>489000063</td>\n      <td>133</td>\n      <td>False</td>\n    </tr>\n    <tr>\n      <th>48</th>\n      <td>csexstcompsuccess</td>\n      <td>420320083</td>\n      <td>5</td>\n      <td>False</td>\n    </tr>\n    <tr>\n      <th>49</th>\n      <td>CsPrtlLogn130OobTxtCplt</td>\n      <td>255500082</td>\n      <td>2</td>\n      <td>False</td>\n    </tr>\n    <tr>\n      <th>50</th>\n      <td>SSO</td>\n      <td>419310024</td>\n      <td>306</td>\n      <td>False</td>\n    </tr>\n    <tr>\n      <th>51</th>\n      <td>payandtime</td>\n      <td>481310010</td>\n      <td>86</td>\n      <td>True</td>\n    </tr>\n  </tbody>\n</table>\n</div>",
       "datasetInfos": [],
       "metadata": {},
       "removedWidgets": [],
       "textData": null,
       "type": "htmlSandbox"
      }
     },
     "output_type": "display_data"
    }
   ],
   "source": [
    "pn_df.head(50)"
   ]
  },
  {
   "cell_type": "code",
   "execution_count": 0,
   "metadata": {
    "application/vnd.databricks.v1+cell": {
     "cellMetadata": {},
     "inputWidgets": {},
     "nuid": "cf4fc36f-ffd6-45ed-ab59-91afda476cfe",
     "showTitle": false,
     "title": ""
    }
   },
   "outputs": [],
   "source": []
  },
  {
   "cell_type": "code",
   "execution_count": 0,
   "metadata": {
    "application/vnd.databricks.v1+cell": {
     "cellMetadata": {},
     "inputWidgets": {},
     "nuid": "3e2de471-8087-451f-9349-25a50f5f3462",
     "showTitle": false,
     "title": ""
    }
   },
   "outputs": [],
   "source": []
  },
  {
   "cell_type": "code",
   "execution_count": 0,
   "metadata": {
    "application/vnd.databricks.v1+cell": {
     "cellMetadata": {
      "byteLimit": 2048000,
      "rowLimit": 10000
     },
     "inputWidgets": {},
     "nuid": "feab3c60-4c45-4800-986c-e7f6d0c42a71",
     "showTitle": false,
     "title": ""
    }
   },
   "outputs": [
    {
     "output_type": "display_data",
     "data": {
      "text/html": [
       "<style scoped>\n  .ansiout {\n    display: block;\n    unicode-bidi: embed;\n    white-space: pre-wrap;\n    word-wrap: break-word;\n    word-break: break-all;\n    font-family: \"Source Code Pro\", \"Menlo\", monospace;;\n    font-size: 13px;\n    color: #555;\n    margin-left: 4px;\n    line-height: 19px;\n  }\n</style>"
      ]
     },
     "metadata": {
      "application/vnd.databricks.v1+output": {
       "arguments": {},
       "data": "",
       "errorSummary": "Command skipped",
       "errorTraceType": "html",
       "metadata": {},
       "type": "ipynbError"
      }
     },
     "output_type": "display_data"
    }
   ],
   "source": [
    "words_2 = [\"home page\", \"homepage\", ]\n",
    "mask = (pn_df['page_name'].str.contains(r'\\b(' + '|'.join(words_2) + r')\\b', case=False, na=False))\n",
    "\n",
    "df_combined_web_iva_search['category'] = ''\n",
    "df_combined_web_iva_search.loc[mask, 'category'] = 'Child care'"
   ]
  },
  {
   "cell_type": "code",
   "execution_count": 0,
   "metadata": {
    "application/vnd.databricks.v1+cell": {
     "cellMetadata": {
      "byteLimit": 2048000,
      "rowLimit": 10000
     },
     "inputWidgets": {},
     "nuid": "7ed4a372-ea7e-4bf6-aec3-a70a87d7c0ae",
     "showTitle": false,
     "title": ""
    }
   },
   "outputs": [
    {
     "output_type": "display_data",
     "data": {
      "text/html": [
       "<style scoped>\n  .ansiout {\n    display: block;\n    unicode-bidi: embed;\n    white-space: pre-wrap;\n    word-wrap: break-word;\n    word-break: break-all;\n    font-family: \"Source Code Pro\", \"Menlo\", monospace;;\n    font-size: 13px;\n    color: #555;\n    margin-left: 4px;\n    line-height: 19px;\n  }\n</style>"
      ]
     },
     "metadata": {
      "application/vnd.databricks.v1+output": {
       "arguments": {},
       "data": "",
       "errorSummary": "Command skipped",
       "errorTraceType": "html",
       "metadata": {},
       "type": "ipynbError"
      }
     },
     "output_type": "display_data"
    }
   ],
   "source": [
    "pn_df.head()"
   ]
  },
  {
   "cell_type": "code",
   "execution_count": 0,
   "metadata": {
    "application/vnd.databricks.v1+cell": {
     "cellMetadata": {
      "byteLimit": 2048000,
      "rowLimit": 10000
     },
     "inputWidgets": {},
     "nuid": "4868e906-0633-48d8-8c52-0a14528dfa83",
     "showTitle": false,
     "title": ""
    }
   },
   "outputs": [],
   "source": []
  }
 ],
 "metadata": {
  "application/vnd.databricks.v1+notebook": {
   "dashboards": [],
   "language": "python",
   "notebookMetadata": {
    "pythonIndentUnit": 2
   },
   "notebookName": "Final_web_click_stream_Data",
   "notebookOrigID": 12843,
   "widgets": {}
  }
 },
 "nbformat": 4,
 "nbformat_minor": 0
}
